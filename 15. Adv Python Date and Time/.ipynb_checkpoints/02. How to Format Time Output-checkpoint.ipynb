{
 "cells": [
  {
   "cell_type": "code",
   "execution_count": 164,
   "metadata": {},
   "outputs": [],
   "source": [
    "# https://www.guru99.com/date-time-and-datetime-classes-in-python.html#3"
   ]
  },
  {
   "cell_type": "code",
   "execution_count": 163,
   "metadata": {},
   "outputs": [],
   "source": [
    "from datetime import date, time, datetime"
   ]
  },
  {
   "cell_type": "code",
   "execution_count": 105,
   "metadata": {},
   "outputs": [
    {
     "name": "stdout",
     "output_type": "stream",
     "text": [
      "2019-06-27 02:32:15.525541\n",
      "2019-06-27\n",
      "02:32:15.525541\n"
     ]
    }
   ],
   "source": [
    "# print(datetime.time())\n",
    "print(datetime.now())\n",
    "print(datetime.date(datetime.now()))\n",
    "print(datetime.time(datetime.now()))"
   ]
  },
  {
   "cell_type": "code",
   "execution_count": null,
   "metadata": {},
   "outputs": [],
   "source": []
  },
  {
   "cell_type": "code",
   "execution_count": 14,
   "metadata": {},
   "outputs": [
    {
     "name": "stdout",
     "output_type": "stream",
     "text": [
      "Today's Now Time is  01:49:22.221896\n"
     ]
    }
   ],
   "source": [
    "print(\"Today's Now Time is \", datetime.time(datetime.now()))"
   ]
  },
  {
   "cell_type": "code",
   "execution_count": 8,
   "metadata": {},
   "outputs": [
    {
     "data": {
      "text/plain": [
       "datetime.datetime(2019, 6, 27, 1, 48, 8, 805555)"
      ]
     },
     "execution_count": 8,
     "metadata": {},
     "output_type": "execute_result"
    }
   ],
   "source": [
    "datetime.now()"
   ]
  },
  {
   "cell_type": "markdown",
   "metadata": {},
   "source": [
    "# How to Format Date and Time Output with Strftime()"
   ]
  },
  {
   "cell_type": "markdown",
   "metadata": {},
   "source": [
    "# date"
   ]
  },
  {
   "cell_type": "code",
   "execution_count": 52,
   "metadata": {},
   "outputs": [
    {
     "data": {
      "text/plain": [
       "'27-06-2019 - Thursday June'"
      ]
     },
     "execution_count": 52,
     "metadata": {},
     "output_type": "execute_result"
    }
   ],
   "source": [
    "from datetime import datetime, date\n",
    "datetime.now().strftime(\"%d-%m-%Y - %A %B\")"
   ]
  },
  {
   "cell_type": "code",
   "execution_count": 46,
   "metadata": {},
   "outputs": [],
   "source": [
    "# We used the \"strftime function\" for formatting.\n",
    "# This function uses different control code to give an output.\n",
    "# Each control code resembles different parameters like year,month, weekday and date [(%y/%Y – Year), (%a/%A- weekday), (%b/%B- month), (%d - day of month)] .\n",
    "# In our case, it is (\"%Y\") which resembles year, it prints out the full year with the century (e.g., 2018)."
   ]
  },
  {
   "cell_type": "code",
   "execution_count": 57,
   "metadata": {},
   "outputs": [
    {
     "data": {
      "text/plain": [
       "'27,06/27/19--06,01--19,2019 -- Thu,Thursday Jun,June'"
      ]
     },
     "execution_count": 57,
     "metadata": {},
     "output_type": "execute_result"
    }
   ],
   "source": [
    "datetime.now().strftime(\"%d,%D--%m,%M--%y,%Y -- %a,%A %b,%B\")"
   ]
  },
  {
   "cell_type": "code",
   "execution_count": 61,
   "metadata": {},
   "outputs": [
    {
     "name": "stdout",
     "output_type": "stream",
     "text": [
      "27\n",
      "06/27/19\n",
      "06\n",
      "03\n",
      "19\n",
      "2019\n",
      "Thu\n",
      "Thursday\n",
      "Jun\n",
      "June\n"
     ]
    }
   ],
   "source": [
    "print(datetime.now().strftime(\"%d\"))\n",
    "print(datetime.now().strftime(\"%D\"))\n",
    "print(datetime.now().strftime(\"%m\"))\n",
    "print(datetime.now().strftime(\"%M\"))\n",
    "print(datetime.now().strftime(\"%y\"))\n",
    "print(datetime.now().strftime(\"%Y\"))\n",
    "print(datetime.now().strftime(\"%a\"))\n",
    "print(datetime.now().strftime(\"%A\"))\n",
    "print(datetime.now().strftime(\"%b\"))\n",
    "print(datetime.now().strftime(\"%B\"))"
   ]
  },
  {
   "cell_type": "code",
   "execution_count": 62,
   "metadata": {},
   "outputs": [
    {
     "data": {
      "text/plain": [
       "'Thu, 27 06, 2019'"
      ]
     },
     "execution_count": 62,
     "metadata": {},
     "output_type": "execute_result"
    }
   ],
   "source": [
    "# Fri, 19 Jun, 2019\n",
    "datetime.now().strftime(\"%a, %d %m, %Y\")"
   ]
  },
  {
   "cell_type": "code",
   "execution_count": 102,
   "metadata": {},
   "outputs": [
    {
     "name": "stdout",
     "output_type": "stream",
     "text": [
      "Thu Jun 27 02:26:26 2019\n",
      "20\n",
      "06/27/19\n"
     ]
    }
   ],
   "source": [
    "# %C- indicates the local date and time\n",
    "# %x- indicates the local date\n",
    "# %X- indicates the local time\n",
    "print(datetime.now().strftime(\"%c\"))\n",
    "print(datetime.now().strftime(\"%C\"))\n",
    "print(datetime.now().strftime(\"%x\"))"
   ]
  },
  {
   "cell_type": "markdown",
   "metadata": {},
   "source": [
    "# time"
   ]
  },
  {
   "cell_type": "code",
   "execution_count": 85,
   "metadata": {},
   "outputs": [
    {
     "name": "stdout",
     "output_type": "stream",
     "text": [
      "27/06/2019\n",
      "02:13:43\n"
     ]
    }
   ],
   "source": [
    "# 13:08:12\n",
    "print(datetime.now().strftime(\"%X\"))"
   ]
  },
  {
   "cell_type": "code",
   "execution_count": 99,
   "metadata": {},
   "outputs": [],
   "source": [
    "# %I for Hour (12 Hour)\n",
    "# %H for Hour (24 hour)\n",
    "# %M for Minute\n",
    "# %S for Seconds \n",
    "# %p for AM/PM"
   ]
  },
  {
   "cell_type": "code",
   "execution_count": 98,
   "metadata": {},
   "outputs": [
    {
     "name": "stdout",
     "output_type": "stream",
     "text": [
      "02 21 46 AM\n"
     ]
    }
   ],
   "source": [
    "print(datetime.now().strftime(\"%I %M %S %p\")) # For 12 Hour Format"
   ]
  },
  {
   "cell_type": "code",
   "execution_count": 100,
   "metadata": {},
   "outputs": [
    {
     "name": "stdout",
     "output_type": "stream",
     "text": [
      "02 23 49\n"
     ]
    }
   ],
   "source": [
    "print(datetime.now().strftime(\"%H %M %S\")) # for 24 Hour Format"
   ]
  },
  {
   "cell_type": "code",
   "execution_count": 104,
   "metadata": {},
   "outputs": [
    {
     "name": "stdout",
     "output_type": "stream",
     "text": [
      "02:11:47\n"
     ]
    }
   ],
   "source": [
    "# %X for %I:%M:%S\n",
    "print(date1.strftime(\"%X\"))"
   ]
  },
  {
   "cell_type": "markdown",
   "metadata": {},
   "source": [
    "# date substraction"
   ]
  },
  {
   "cell_type": "code",
   "execution_count": 79,
   "metadata": {},
   "outputs": [
    {
     "name": "stdout",
     "output_type": "stream",
     "text": [
      "02:11:47\n"
     ]
    }
   ],
   "source": [
    "date1 = datetime.now()\n",
    "print(date1.strftime(\"%X\"))"
   ]
  },
  {
   "cell_type": "code",
   "execution_count": 83,
   "metadata": {},
   "outputs": [
    {
     "name": "stdout",
     "output_type": "stream",
     "text": [
      "02:12:35\n"
     ]
    }
   ],
   "source": [
    "date2 = datetime.now()\n",
    "print(date2.strftime(\"%X\"))"
   ]
  },
  {
   "cell_type": "code",
   "execution_count": 84,
   "metadata": {},
   "outputs": [
    {
     "data": {
      "text/plain": [
       "datetime.timedelta(seconds=47, microseconds=406675)"
      ]
     },
     "execution_count": 84,
     "metadata": {},
     "output_type": "execute_result"
    }
   ],
   "source": [
    "date2-date1"
   ]
  },
  {
   "cell_type": "markdown",
   "metadata": {},
   "source": [
    "# How to use Timedelta Objects"
   ]
  },
  {
   "cell_type": "code",
   "execution_count": 137,
   "metadata": {},
   "outputs": [],
   "source": [
    "# timedelta(arguments)\n",
    "# arguments like weeks, days, hours, minutes"
   ]
  },
  {
   "cell_type": "code",
   "execution_count": 138,
   "metadata": {},
   "outputs": [
    {
     "name": "stdout",
     "output_type": "stream",
     "text": [
      "300 days, 8:15:00\n"
     ]
    }
   ],
   "source": [
    "from datetime import timedelta\n",
    "print(timedelta (days=300, hours=8, minutes=15))"
   ]
  },
  {
   "cell_type": "code",
   "execution_count": 139,
   "metadata": {},
   "outputs": [
    {
     "name": "stdout",
     "output_type": "stream",
     "text": [
      "Todays Date:   2019-06-27 02:43:36.779006\n",
      "Changed Date:  2020-06-27 02:43:36.779006\n"
     ]
    }
   ],
   "source": [
    "## add 1 year in today's date\n",
    "print(\"Todays Date:  \", datetime.now())\n",
    "print(\"Changed Date: \", datetime.now() + timedelta(days=366))"
   ]
  },
  {
   "cell_type": "code",
   "execution_count": 140,
   "metadata": {},
   "outputs": [
    {
     "name": "stdout",
     "output_type": "stream",
     "text": [
      "Todays Date:    2019-06-27 02:43:36.987383\n",
      "Changed Date:   2019-07-07 02:43:36.987383\n",
      "Changed Date:   2019-07-07 02:43:36.987884\n"
     ]
    }
   ],
   "source": [
    "# Adding 10 days to today's date\n",
    "print(\"Todays Date:   \", datetime.now())\n",
    "print(\"Changed Date:  \", datetime.now()+timedelta(days=10))\n",
    "# or\n",
    "print(\"Changed Date:  \", datetime.now()+timedelta(weeks=1, days=3))"
   ]
  },
  {
   "cell_type": "markdown",
   "metadata": {},
   "source": [
    "# Adding or Substraction of Dates "
   ]
  },
  {
   "cell_type": "code",
   "execution_count": 144,
   "metadata": {},
   "outputs": [
    {
     "ename": "TypeError",
     "evalue": "unsupported operand type(s) for -: 'datetime.datetime' and 'int'",
     "output_type": "error",
     "traceback": [
      "\u001b[1;31m---------------------------------------------------------------------------\u001b[0m",
      "\u001b[1;31mTypeError\u001b[0m                                 Traceback (most recent call last)",
      "\u001b[1;32m<ipython-input-144-cc92fa3ea009>\u001b[0m in \u001b[0;36m<module>\u001b[1;34m\u001b[0m\n\u001b[1;32m----> 1\u001b[1;33m \u001b[0mdatetime\u001b[0m\u001b[1;33m.\u001b[0m\u001b[0mtoday\u001b[0m\u001b[1;33m(\u001b[0m\u001b[1;33m)\u001b[0m\u001b[1;33m-\u001b[0m\u001b[1;36m10\u001b[0m\u001b[1;33m\u001b[0m\u001b[1;33m\u001b[0m\u001b[0m\n\u001b[0m",
      "\u001b[1;31mTypeError\u001b[0m: unsupported operand type(s) for -: 'datetime.datetime' and 'int'"
     ]
    }
   ],
   "source": [
    "datetime.today()-10"
   ]
  },
  {
   "cell_type": "code",
   "execution_count": 161,
   "metadata": {},
   "outputs": [
    {
     "data": {
      "text/plain": [
       "177"
      ]
     },
     "execution_count": 161,
     "metadata": {},
     "output_type": "execute_result"
    }
   ],
   "source": [
    "(date.today()-date(2019, 1, 1)).days"
   ]
  },
  {
   "cell_type": "code",
   "execution_count": 156,
   "metadata": {},
   "outputs": [
    {
     "data": {
      "text/plain": [
       "2019"
      ]
     },
     "execution_count": 156,
     "metadata": {},
     "output_type": "execute_result"
    }
   ],
   "source": [
    "datetime.today().year"
   ]
  },
  {
   "cell_type": "code",
   "execution_count": 160,
   "metadata": {},
   "outputs": [
    {
     "data": {
      "text/plain": [
       "datetime.date(2019, 1, 1)"
      ]
     },
     "execution_count": 160,
     "metadata": {},
     "output_type": "execute_result"
    }
   ],
   "source": [
    "date(2019, 1, 1)"
   ]
  },
  {
   "cell_type": "code",
   "execution_count": null,
   "metadata": {},
   "outputs": [],
   "source": []
  }
 ],
 "metadata": {
  "kernelspec": {
   "display_name": "Python 3",
   "language": "python",
   "name": "python3"
  },
  "language_info": {
   "codemirror_mode": {
    "name": "ipython",
    "version": 3
   },
   "file_extension": ".py",
   "mimetype": "text/x-python",
   "name": "python",
   "nbconvert_exporter": "python",
   "pygments_lexer": "ipython3",
   "version": "3.7.3"
  }
 },
 "nbformat": 4,
 "nbformat_minor": 2
}

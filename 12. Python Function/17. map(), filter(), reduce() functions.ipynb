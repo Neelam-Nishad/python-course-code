{
 "cells": [
  {
   "cell_type": "code",
   "execution_count": 10,
   "metadata": {},
   "outputs": [
    {
     "name": "stdout",
     "output_type": "stream",
     "text": [
      "[25, 100, 225, 400, 625]\n",
      "[15, 20, 25]\n",
      "375000\n"
     ]
    }
   ],
   "source": [
    "from functools import reduce\n",
    "a = [5, 10, 15, 20, 25]\n",
    "f_map       = list(map(lambda x :x**2, a))\n",
    "f_filter = list(filter(lambda x : x>10, a))\n",
    "f_reduce = reduce(lambda x, y: x*y, a)\n",
    "print(f_map)\n",
    "print(f_filter)\n",
    "print(f_reduce)"
   ]
  },
  {
   "cell_type": "code",
   "execution_count": null,
   "metadata": {},
   "outputs": [],
   "source": []
  }
 ],
 "metadata": {
  "kernelspec": {
   "display_name": "Python 3",
   "language": "python",
   "name": "python3"
  },
  "language_info": {
   "codemirror_mode": {
    "name": "ipython",
    "version": 3
   },
   "file_extension": ".py",
   "mimetype": "text/x-python",
   "name": "python",
   "nbconvert_exporter": "python",
   "pygments_lexer": "ipython3",
   "version": "3.7.3"
  }
 },
 "nbformat": 4,
 "nbformat_minor": 2
}

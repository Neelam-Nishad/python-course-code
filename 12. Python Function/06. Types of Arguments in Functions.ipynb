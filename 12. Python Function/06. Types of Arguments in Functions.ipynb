{
 "cells": [
  {
   "cell_type": "code",
   "execution_count": 1,
   "metadata": {},
   "outputs": [],
   "source": [
    "# Types of function arguments in Python\n",
    "# There are three types of Python function arguments using which we can call a function.\n",
    "\n",
    "# Default Arguments\n",
    "# Keyword Arguments\n",
    "# Variable-length Arguments"
   ]
  },
  {
   "cell_type": "markdown",
   "metadata": {},
   "source": [
    "## Default Arguments"
   ]
  },
  {
   "cell_type": "code",
   "execution_count": 8,
   "metadata": {},
   "outputs": [
    {
     "name": "stdout",
     "output_type": "stream",
     "text": [
      "18\n",
      "12\n",
      "16\n"
     ]
    }
   ],
   "source": [
    "## Default Arguments\n",
    "def sum(a=4, b=8):\n",
    "    return a+b\n",
    "print(sum(8, 10))\n",
    "print(sum())\n",
    "print(sum(8,))"
   ]
  },
  {
   "cell_type": "code",
   "execution_count": 9,
   "metadata": {},
   "outputs": [
    {
     "ename": "SyntaxError",
     "evalue": "non-default argument follows default argument (<ipython-input-9-af7a50751dad>, line 2)",
     "output_type": "error",
     "traceback": [
      "\u001b[1;36m  File \u001b[1;32m\"<ipython-input-9-af7a50751dad>\"\u001b[1;36m, line \u001b[1;32m2\u001b[0m\n\u001b[1;33m    def sum(a=4, b):\u001b[0m\n\u001b[1;37m           ^\u001b[0m\n\u001b[1;31mSyntaxError\u001b[0m\u001b[1;31m:\u001b[0m non-default argument follows default argument\n"
     ]
    }
   ],
   "source": [
    "# non-default argument follows default argument\n",
    "def sum(a=4, b):\n",
    "    return a+b\n"
   ]
  },
  {
   "cell_type": "code",
   "execution_count": 2,
   "metadata": {},
   "outputs": [
    {
     "name": "stdout",
     "output_type": "stream",
     "text": [
      "12\n",
      "20\n"
     ]
    }
   ],
   "source": [
    "def sum(a, b=4):\n",
    "    return a+b\n",
    "print(sum(8))\n",
    "print(sum(8, 12))"
   ]
  },
  {
   "cell_type": "markdown",
   "metadata": {},
   "source": [
    "## Python Keyword Arguments"
   ]
  },
  {
   "cell_type": "code",
   "execution_count": 15,
   "metadata": {},
   "outputs": [
    {
     "name": "stdout",
     "output_type": "stream",
     "text": [
      "Penan and Chetan are friends\n"
     ]
    }
   ],
   "source": [
    "## Python Keyword Arguments\n",
    "def friends (name1, name2):\n",
    "    print(name1, \"and\", name2, \"are friends\")\n",
    "friends(\"Penan\", \"Chetan\")"
   ]
  },
  {
   "cell_type": "code",
   "execution_count": 3,
   "metadata": {},
   "outputs": [
    {
     "name": "stdout",
     "output_type": "stream",
     "text": [
      "Chetan and Penan are friends\n"
     ]
    }
   ],
   "source": [
    "## Python Keyword Arguments\n",
    "def friends (name1, name2):\n",
    "    print(name1, \"and\", name2, \"are friends\")\n",
    "friends(name2 = \"Penan\", name1 = \"Chetan\")"
   ]
  },
  {
   "cell_type": "markdown",
   "metadata": {},
   "source": [
    "## Variable-length Arguments"
   ]
  },
  {
   "cell_type": "code",
   "execution_count": 4,
   "metadata": {},
   "outputs": [],
   "source": [
    "## Variable-length Arguments\n",
    "# asterisk (*) is placed before a parameter \n",
    "# in function definition which can hold \n",
    "# non-keyworded variable-length arguments \n",
    "# and a double asterisk (**) is placed before \n",
    "# a parameter in function which can hold \n",
    "# keyworded variable-length arguments."
   ]
  },
  {
   "cell_type": "code",
   "execution_count": 5,
   "metadata": {},
   "outputs": [],
   "source": [
    "# arguments are passed as dictionary"
   ]
  },
  {
   "cell_type": "code",
   "execution_count": 18,
   "metadata": {},
   "outputs": [
    {
     "name": "stdout",
     "output_type": "stream",
     "text": [
      "('Penan', 'Chetan', 'Pankaj')\n",
      "{'friend1': 'Rahul', 'friend2': 'Dravid', 'friend3': 'Sourav', 'friend': 'Ganguly'}\n"
     ]
    }
   ],
   "source": [
    "def friends(*arg, **tomato):\n",
    "    print(arg)\n",
    "    print(tomato)\n",
    "friends(\"Penan\", \"Chetan\", \"Pankaj\", friend1=\"Rahul\", friend2=\"Dravid\", friend3=\"Sourav\", friend=\"Ganguly\")"
   ]
  },
  {
   "cell_type": "code",
   "execution_count": 23,
   "metadata": {},
   "outputs": [
    {
     "name": "stdout",
     "output_type": "stream",
     "text": [
      "Penan\n",
      "Chetan\n",
      "Pankaj\n",
      "\n",
      "Rahul\n",
      "Dravid\n",
      "Sourav\n",
      "Ganguly\n"
     ]
    }
   ],
   "source": [
    "def friends(*arg, **tomato):\n",
    "    for item in arg:\n",
    "        print(item)\n",
    "    print()\n",
    "    for item in tomato.keys():         # dictionary method for double asterik\n",
    "        print(tomato[item])\n",
    "friends(\"Penan\", \"Chetan\", \"Pankaj\", friend1=\"Rahul\", friend2=\"Dravid\", friend3=\"Sourav\", friend=\"Ganguly\")"
   ]
  },
  {
   "cell_type": "code",
   "execution_count": 7,
   "metadata": {},
   "outputs": [
    {
     "name": "stdout",
     "output_type": "stream",
     "text": [
      "('Penan', 'Chetan', 'Pankaj')\n",
      "{'friend1': 'Rahul'}\n",
      "Rahul\n"
     ]
    }
   ],
   "source": [
    "def friends(*arg, **tomato):\n",
    "    print(arg)\n",
    "    print(tomato)\n",
    "    print(tomato['friend1'])            # dictionary method for double asterik\n",
    "friends(\"Penan\", \"Chetan\", \"Pankaj\", friend1=\"Rahul\")"
   ]
  },
  {
   "cell_type": "code",
   "execution_count": null,
   "metadata": {},
   "outputs": [],
   "source": []
  }
 ],
 "metadata": {
  "kernelspec": {
   "display_name": "Python [conda env:penanml]",
   "language": "python",
   "name": "conda-env-penanml-py"
  },
  "toc": {
   "base_numbering": 1,
   "nav_menu": {},
   "number_sections": true,
   "sideBar": true,
   "skip_h1_title": false,
   "title_cell": "Table of Contents",
   "title_sidebar": "Contents",
   "toc_cell": false,
   "toc_position": {},
   "toc_section_display": true,
   "toc_window_display": false
  },
  "varInspector": {
   "cols": {
    "lenName": 16,
    "lenType": 16,
    "lenVar": 40
   },
   "kernels_config": {
    "python": {
     "delete_cmd_postfix": "",
     "delete_cmd_prefix": "del ",
     "library": "var_list.py",
     "varRefreshCmd": "print(var_dic_list())"
    },
    "r": {
     "delete_cmd_postfix": ") ",
     "delete_cmd_prefix": "rm(",
     "library": "var_list.r",
     "varRefreshCmd": "cat(var_dic_list()) "
    }
   },
   "types_to_exclude": [
    "module",
    "function",
    "builtin_function_or_method",
    "instance",
    "_Feature"
   ],
   "window_display": false
  }
 },
 "nbformat": 4,
 "nbformat_minor": 2
}

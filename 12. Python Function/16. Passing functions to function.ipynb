{
 "cells": [
  {
   "cell_type": "code",
   "execution_count": 1,
   "metadata": {},
   "outputs": [
    {
     "name": "stdout",
     "output_type": "stream",
     "text": [
      "{'t2': 8}\n",
      "{'t1': 4}\n"
     ]
    }
   ],
   "source": [
    "\n",
    "def sample(**args):\n",
    "    print(args)\n",
    "\n",
    "def phone(function_name, **args):\n",
    "    print(args)\n",
    "    function_name(t1=4)\n",
    "\n",
    "phone(sample, t2=8)"
   ]
  },
  {
   "cell_type": "code",
   "execution_count": 2,
   "metadata": {},
   "outputs": [
    {
     "name": "stdout",
     "output_type": "stream",
     "text": [
      "{'t2': 8}\n",
      "8\n",
      "{'t1': 4}\n",
      "4\n"
     ]
    }
   ],
   "source": [
    "# some sophisticated example\n",
    "def sample(**args):\n",
    "    print(args)\n",
    "    print(args['t1'])\n",
    "\n",
    "def phone(function_name, **args):\n",
    "    print(args)\n",
    "    print(args['t2'])\n",
    "    function_name(t1=4)\n",
    "\n",
    "phone(sample, t2=8)"
   ]
  },
  {
   "cell_type": "code",
   "execution_count": null,
   "metadata": {},
   "outputs": [],
   "source": []
  }
 ],
 "metadata": {
  "kernelspec": {
   "display_name": "Python [conda env:penanml]",
   "language": "python",
   "name": "conda-env-penanml-py"
  },
  "language_info": {
   "codemirror_mode": {
    "name": "ipython",
    "version": 3
   },
   "file_extension": ".py",
   "mimetype": "text/x-python",
   "name": "python",
   "nbconvert_exporter": "python",
   "pygments_lexer": "ipython3",
   "version": "3.7.3"
  }
 },
 "nbformat": 4,
 "nbformat_minor": 2
}

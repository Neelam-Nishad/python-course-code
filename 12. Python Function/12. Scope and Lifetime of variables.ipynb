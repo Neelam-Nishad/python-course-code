{
 "cells": [
  {
   "cell_type": "code",
   "execution_count": null,
   "metadata": {},
   "outputs": [],
   "source": [
    "# local varible of same name in function"
   ]
  },
  {
   "cell_type": "code",
   "execution_count": 3,
   "metadata": {},
   "outputs": [
    {
     "name": "stdout",
     "output_type": "stream",
     "text": [
      "local variable a =  5\n",
      "global variable a =  10\n"
     ]
    }
   ],
   "source": [
    "a = 10 # global variable a\n",
    "def updated(c):\n",
    "    a=c \n",
    "    print(\"local variable a = \", a)  # local variable a \n",
    "updated(5) # local variable a assigned to 5\n",
    "print(\"global variable a = \",a) # will print global varible"
   ]
  },
  {
   "cell_type": "code",
   "execution_count": null,
   "metadata": {},
   "outputs": [],
   "source": []
  },
  {
   "cell_type": "code",
   "execution_count": 4,
   "metadata": {},
   "outputs": [],
   "source": [
    "# local variable is global variable"
   ]
  },
  {
   "cell_type": "code",
   "execution_count": 5,
   "metadata": {},
   "outputs": [
    {
     "name": "stdout",
     "output_type": "stream",
     "text": [
      "local variable a =  5\n",
      "global variable a =  5\n"
     ]
    }
   ],
   "source": [
    "a = 10 # global variable a\n",
    "def updated(c):\n",
    "    global a\n",
    "    a=c \n",
    "    print(\"local variable a = \", a)  # global variable a \n",
    "updated(5) # global variable a assigned to 5\n",
    "print(\"global variable a = \",a) # will print global varible"
   ]
  },
  {
   "cell_type": "code",
   "execution_count": 6,
   "metadata": {},
   "outputs": [
    {
     "name": "stdout",
     "output_type": "stream",
     "text": [
      "from inner: c\n",
      "from outer: b\n",
      "globally: a\n"
     ]
    }
   ],
   "source": [
    "x = \"a\"\n",
    "def outer():\n",
    "    x = \"b\"\n",
    "    def inner():\n",
    "        x = \"c\"\n",
    "        print(\"from inner:\", x)\n",
    "\n",
    "    inner()\n",
    "    print(\"from outer:\", x)\n",
    "\n",
    "outer()\n",
    "print(\"globally:\", x)"
   ]
  },
  {
   "cell_type": "code",
   "execution_count": 7,
   "metadata": {},
   "outputs": [
    {
     "name": "stdout",
     "output_type": "stream",
     "text": [
      "inner: c\n",
      "outer: c\n",
      "global: a\n"
     ]
    }
   ],
   "source": [
    "x = \"a\"\n",
    "def outer():\n",
    "    x = \"b\"\n",
    "    def inner():\n",
    "        nonlocal x\n",
    "        x = \"c\"\n",
    "        print(\"inner:\", x)\n",
    "\n",
    "    inner()\n",
    "    print(\"outer:\", x)\n",
    "\n",
    "outer()\n",
    "print(\"global:\", x)"
   ]
  },
  {
   "cell_type": "code",
   "execution_count": 8,
   "metadata": {},
   "outputs": [
    {
     "name": "stdout",
     "output_type": "stream",
     "text": [
      "inner: c\n",
      "outer: b\n",
      "global: c\n"
     ]
    }
   ],
   "source": [
    "x = \"a\"\n",
    "def outer():\n",
    "    x = \"b\"\n",
    "    def inner():\n",
    "        global x\n",
    "        x = \"c\"\n",
    "        print(\"inner:\", x)\n",
    "\n",
    "    inner()\n",
    "    print(\"outer:\", x)\n",
    "\n",
    "outer()\n",
    "print(\"global:\", x)"
   ]
  },
  {
   "cell_type": "code",
   "execution_count": null,
   "metadata": {},
   "outputs": [],
   "source": [
    "x global<<<<<<<<<<<<<<<<<<<<<<<|\n",
    "|_____x nonlocal <<<<<<<|      |\n",
    "      |____x relation with upper variables"
   ]
  }
 ],
 "metadata": {
  "kernelspec": {
   "display_name": "Python [conda env:penanml]",
   "language": "python",
   "name": "conda-env-penanml-py"
  },
  "language_info": {
   "codemirror_mode": {
    "name": "ipython",
    "version": 3
   },
   "file_extension": ".py",
   "mimetype": "text/x-python",
   "name": "python",
   "nbconvert_exporter": "python",
   "pygments_lexer": "ipython3",
   "version": "3.7.3"
  }
 },
 "nbformat": 4,
 "nbformat_minor": 2
}

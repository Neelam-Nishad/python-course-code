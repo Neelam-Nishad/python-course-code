{
 "cells": [
  {
   "cell_type": "markdown",
   "metadata": {},
   "source": [
    "# Iterate Over Zip"
   ]
  },
  {
   "cell_type": "code",
   "execution_count": 3,
   "metadata": {
    "ExecuteTime": {
     "end_time": "2019-07-06T16:22:41.370296Z",
     "start_time": "2019-07-06T16:22:41.365286Z"
    }
   },
   "outputs": [
    {
     "name": "stdout",
     "output_type": "stream",
     "text": [
      "(1, 'One')\n",
      "(2, 'Two')\n",
      "(3, 'Three')\n"
     ]
    }
   ],
   "source": [
    "# Iterate Over Zip\n",
    "seq1 = (1, 2, 3)\n",
    "seq2 = (\"One\", \"Two\", \"Three\")\n",
    "\n",
    "for pair in zip(seq1, seq2):\n",
    "    print(pair)\n",
    "# Returns pair of tuples (always remember)"
   ]
  },
  {
   "cell_type": "markdown",
   "metadata": {},
   "source": [
    "# You can use tuple assignment in a for loop to traverse a list of tuples:"
   ]
  },
  {
   "cell_type": "markdown",
   "metadata": {},
   "source": [
    "## Making tuple and Iterate same as Making List and Iterate "
   ]
  },
  {
   "cell_type": "code",
   "execution_count": 22,
   "metadata": {
    "ExecuteTime": {
     "end_time": "2019-07-06T16:25:59.102161Z",
     "start_time": "2019-07-06T16:25:59.098150Z"
    }
   },
   "outputs": [],
   "source": [
    "seq1 = (\"mango\", \"apple\", \"tomato\")\n",
    "seq2 = (\"6000\", \"5000\", \"400\")\n",
    "zip1 = zip(seq1, seq2)"
   ]
  },
  {
   "cell_type": "code",
   "execution_count": 20,
   "metadata": {
    "ExecuteTime": {
     "end_time": "2019-07-06T16:25:57.121298Z",
     "start_time": "2019-07-06T16:25:57.114318Z"
    }
   },
   "outputs": [
    {
     "data": {
      "text/plain": [
       "(('mango', '6000'), ('apple', '5000'), ('tomato', '400'))"
      ]
     },
     "execution_count": 20,
     "metadata": {},
     "output_type": "execute_result"
    }
   ],
   "source": [
    "tuple1 = tuple(zip1)\n",
    "tuple1"
   ]
  },
  {
   "cell_type": "code",
   "execution_count": 21,
   "metadata": {
    "ExecuteTime": {
     "end_time": "2019-07-06T16:25:58.254279Z",
     "start_time": "2019-07-06T16:25:58.250269Z"
    }
   },
   "outputs": [
    {
     "name": "stdout",
     "output_type": "stream",
     "text": [
      "mango 6000\n",
      "apple 5000\n",
      "tomato 400\n"
     ]
    }
   ],
   "source": [
    "for item, price in tuple1:\n",
    "    print(item, price)"
   ]
  },
  {
   "cell_type": "code",
   "execution_count": 23,
   "metadata": {
    "ExecuteTime": {
     "end_time": "2019-07-06T16:26:01.355976Z",
     "start_time": "2019-07-06T16:26:01.352464Z"
    }
   },
   "outputs": [
    {
     "data": {
      "text/plain": [
       "[('mango', '6000'), ('apple', '5000'), ('tomato', '400')]"
      ]
     },
     "execution_count": 23,
     "metadata": {},
     "output_type": "execute_result"
    }
   ],
   "source": [
    "list1 = list(zip1)\n",
    "list1"
   ]
  },
  {
   "cell_type": "code",
   "execution_count": 24,
   "metadata": {
    "ExecuteTime": {
     "end_time": "2019-07-06T16:26:12.065014Z",
     "start_time": "2019-07-06T16:26:12.059957Z"
    }
   },
   "outputs": [
    {
     "name": "stdout",
     "output_type": "stream",
     "text": [
      "mango 6000\n",
      "apple 5000\n",
      "tomato 400\n"
     ]
    }
   ],
   "source": [
    "for item, price in list1:\n",
    "    print(item, price)"
   ]
  },
  {
   "cell_type": "code",
   "execution_count": 39,
   "metadata": {
    "ExecuteTime": {
     "end_time": "2019-07-06T17:11:03.734455Z",
     "start_time": "2019-07-06T17:11:03.727437Z"
    }
   },
   "outputs": [
    {
     "name": "stdout",
     "output_type": "stream",
     "text": [
      "(11, 13, 15)\n"
     ]
    }
   ],
   "source": [
    "# Important thing : you pack the result and unpack\n",
    "list1 = (4, 5, 6)\n",
    "list2 = (7, 8, 9)\n",
    "\n",
    "def printed(*args):\n",
    "    print(args)\n",
    "\n",
    "result = [x+t for x, t in zip(list1, list2)] # pack the result\n",
    "printed(*result) # unpack the result"
   ]
  },
  {
   "cell_type": "code",
   "execution_count": null,
   "metadata": {
    "ExecuteTime": {
     "end_time": "2019-07-06T17:11:18.829115Z",
     "start_time": "2019-07-06T17:11:18.822155Z"
    }
   },
   "outputs": [],
   "source": []
  },
  {
   "cell_type": "code",
   "execution_count": null,
   "metadata": {},
   "outputs": [],
   "source": []
  }
 ],
 "metadata": {
  "kernelspec": {
   "display_name": "Python 3",
   "language": "python",
   "name": "python3"
  },
  "language_info": {
   "codemirror_mode": {
    "name": "ipython",
    "version": 3
   },
   "file_extension": ".py",
   "mimetype": "text/x-python",
   "name": "python",
   "nbconvert_exporter": "python",
   "pygments_lexer": "ipython3",
   "version": "3.7.3"
  },
  "toc": {
   "base_numbering": 1,
   "nav_menu": {},
   "number_sections": true,
   "sideBar": true,
   "skip_h1_title": false,
   "title_cell": "Table of Contents",
   "title_sidebar": "Contents",
   "toc_cell": false,
   "toc_position": {},
   "toc_section_display": true,
   "toc_window_display": false
  },
  "varInspector": {
   "cols": {
    "lenName": 16,
    "lenType": 16,
    "lenVar": 40
   },
   "kernels_config": {
    "python": {
     "delete_cmd_postfix": "",
     "delete_cmd_prefix": "del ",
     "library": "var_list.py",
     "varRefreshCmd": "print(var_dic_list())"
    },
    "r": {
     "delete_cmd_postfix": ") ",
     "delete_cmd_prefix": "rm(",
     "library": "var_list.r",
     "varRefreshCmd": "cat(var_dic_list()) "
    }
   },
   "types_to_exclude": [
    "module",
    "function",
    "builtin_function_or_method",
    "instance",
    "_Feature"
   ],
   "window_display": false
  }
 },
 "nbformat": 4,
 "nbformat_minor": 2
}

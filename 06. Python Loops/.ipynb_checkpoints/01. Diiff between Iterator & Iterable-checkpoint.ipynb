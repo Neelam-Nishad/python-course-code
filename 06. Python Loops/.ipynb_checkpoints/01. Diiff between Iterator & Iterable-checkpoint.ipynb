{
 "cells": [
  {
   "cell_type": "markdown",
   "metadata": {
    "ExecuteTime": {
     "end_time": "2019-07-05T09:03:42.579711Z",
     "start_time": "2019-07-05T09:03:42.575733Z"
    }
   },
   "source": [
    "````\n",
    "Iterator is iterable,  \n",
    "but iterable may or may not be iterator\n",
    "```"
   ]
  },
  {
   "cell_type": "markdown",
   "metadata": {
    "ExecuteTime": {
     "end_time": "2019-07-05T09:03:49.469225Z",
     "start_time": "2019-07-05T09:03:49.465251Z"
    }
   },
   "source": [
    "````\n",
    "List is iterable,  \n",
    "but List is not iterator\n",
    "```"
   ]
  },
  {
   "cell_type": "markdown",
   "metadata": {
    "ExecuteTime": {
     "end_time": "2019-07-05T09:03:55.565004Z",
     "start_time": "2019-07-05T09:03:55.560991Z"
    }
   },
   "source": [
    "````\n",
    "Object having \n",
    "01. __next__() funciton is iterator, without iterable\n",
    "02. __iter__() function is iterable\n",
    "03. __iter__() function & __next__() function, is both iterable & iteration\n",
    "````"
   ]
  },
  {
   "cell_type": "markdown",
   "metadata": {},
   "source": [
    "````\n",
    "for checking,\n",
    "01. iterator, not iterable  => for loop\n",
    "02. for iterable            => next()\n",
    "03. iterator nad iterable   => for loop, next()\n",
    "````"
   ]
  },
  {
   "cell_type": "code",
   "execution_count": null,
   "metadata": {},
   "outputs": [],
   "source": []
  }
 ],
 "metadata": {
  "kernelspec": {
   "display_name": "Python 3",
   "language": "python",
   "name": "python3"
  },
  "language_info": {
   "codemirror_mode": {
    "name": "ipython",
    "version": 3
   },
   "file_extension": ".py",
   "mimetype": "text/x-python",
   "name": "python",
   "nbconvert_exporter": "python",
   "pygments_lexer": "ipython3",
   "version": "3.7.3"
  },
  "toc": {
   "base_numbering": 1,
   "nav_menu": {},
   "number_sections": true,
   "sideBar": true,
   "skip_h1_title": false,
   "title_cell": "Table of Contents",
   "title_sidebar": "Contents",
   "toc_cell": false,
   "toc_position": {},
   "toc_section_display": true,
   "toc_window_display": false
  },
  "varInspector": {
   "cols": {
    "lenName": 16,
    "lenType": 16,
    "lenVar": 40
   },
   "kernels_config": {
    "python": {
     "delete_cmd_postfix": "",
     "delete_cmd_prefix": "del ",
     "library": "var_list.py",
     "varRefreshCmd": "print(var_dic_list())"
    },
    "r": {
     "delete_cmd_postfix": ") ",
     "delete_cmd_prefix": "rm(",
     "library": "var_list.r",
     "varRefreshCmd": "cat(var_dic_list()) "
    }
   },
   "types_to_exclude": [
    "module",
    "function",
    "builtin_function_or_method",
    "instance",
    "_Feature"
   ],
   "window_display": false
  }
 },
 "nbformat": 4,
 "nbformat_minor": 2
}

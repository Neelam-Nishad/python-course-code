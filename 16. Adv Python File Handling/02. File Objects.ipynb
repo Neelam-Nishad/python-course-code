{
 "cells": [
  {
   "cell_type": "markdown",
   "metadata": {},
   "source": [
    "File Objects in Python\n",
    "A file object allows us to use, access and manipulate all the user accessible files. One can read and write any such files.\n",
    "When a file operation fails for an I/O-related reason, the exception IOError is raised. This includes situations where the operation is not defined for some reason, like seek() on a tty device or writing a file opened for reading.\n",
    "Files have the following methods:\n",
    "\n",
    "open(): Opens a file in given access mode.\n",
    "### open(file_address, access_mode) \n",
    " \n",
    "Examples of accessing a file: A file can be opened with a built-in function called open(). This function takes in the file’s address and the access_mode and returns a file object.\n",
    "There are different types of access_modes:\n",
    "\n",
    "#### r: Opens a file for reading only\n",
    "#### r+: Opens a file for both reading and writing\n",
    "#### w: Opens a file for writing only\n",
    "#### w+: Open a file for writing and reading.\n",
    "#### a: Opens a file for appending\n",
    "#### a+: Opens a file for both appending and reading\n"
   ]
  },
  {
   "cell_type": "markdown",
   "metadata": {},
   "source": [
    "data.txt <br>\n",
    "this is first line <br>\n",
    "this is second line <br>\n",
    "this is third line <br>\n",
    "this is fourth line <br>\n",
    "this is fifth line     <br>"
   ]
  },
  {
   "cell_type": "code",
   "execution_count": null,
   "metadata": {},
   "outputs": [],
   "source": []
  },
  {
   "cell_type": "code",
   "execution_count": 35,
   "metadata": {},
   "outputs": [
    {
     "name": "stdout",
     "output_type": "stream",
     "text": [
      "this is first line\n",
      "this is second line\n",
      "this is third line\n",
      "this is fourth line\n",
      "this is fifth line\n"
     ]
    }
   ],
   "source": [
    "data = open(\"data.txt\", 'r+') # we extract the data from file and store into variable 'data'\n",
    "text = data.read()           # then we read the data from 'data' varibale and store into 'text' variable.\n",
    "print(text)                  # then we print the text\n",
    "data.close()                 # then we close the file"
   ]
  },
  {
   "cell_type": "code",
   "execution_count": 32,
   "metadata": {},
   "outputs": [
    {
     "name": "stdout",
     "output_type": "stream",
     "text": [
      "this is first line\n",
      "\n"
     ]
    }
   ],
   "source": [
    "data = open(\"data.txt\", 'r+')\n",
    "textLine1 = data.readline() # this is first line\n",
    "# textLine1 = data.readline()\n",
    "print(textLine1)\n",
    "data.close()"
   ]
  },
  {
   "cell_type": "code",
   "execution_count": 28,
   "metadata": {},
   "outputs": [
    {
     "name": "stdout",
     "output_type": "stream",
     "text": [
      "['this is first line\\n', 'this is second line\\n', 'this is third line\\n', 'this is fourth line\\n', 'this is fifth line']\n"
     ]
    }
   ],
   "source": [
    "data = open(\"data.txt\", 'r+')\n",
    "textLine= data.readlines()\n",
    "print(textLine)\n",
    "data.close()"
   ]
  },
  {
   "cell_type": "code",
   "execution_count": null,
   "metadata": {},
   "outputs": [],
   "source": []
  }
 ],
 "metadata": {
  "kernelspec": {
   "display_name": "Python 3",
   "language": "python",
   "name": "python3"
  },
  "language_info": {
   "codemirror_mode": {
    "name": "ipython",
    "version": 3
   },
   "file_extension": ".py",
   "mimetype": "text/x-python",
   "name": "python",
   "nbconvert_exporter": "python",
   "pygments_lexer": "ipython3",
   "version": "3.7.3"
  }
 },
 "nbformat": 4,
 "nbformat_minor": 2
}

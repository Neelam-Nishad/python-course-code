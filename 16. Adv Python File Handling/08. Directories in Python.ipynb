{
 "cells": [
  {
   "cell_type": "markdown",
   "metadata": {},
   "source": [
    "# Python Directory and Files Management"
   ]
  },
  {
   "cell_type": "markdown",
   "metadata": {},
   "source": [
    "1.1 [Get Current Directory](#section1)  \n",
    "1.2 [Changing Directory](#section2)  \n",
    "1.3 [List Directories and Files](#section3)  \n",
    "1.4 [Making a New Directory](#section4)  \n",
    "1.5 [Renaming a Directory or a File](#section5)  \n",
    "1.6 [Removing Directory or File](#section6)"
   ]
  },
  {
   "cell_type": "markdown",
   "metadata": {},
   "source": [
    "<a id=\"section1\"></a>\n",
    "**1. Get Current Directory**  \n",
    "We can get the present working directory using the **getcwd()** method."
   ]
  },
  {
   "cell_type": "code",
   "execution_count": 1,
   "metadata": {
    "ExecuteTime": {
     "end_time": "2019-06-28T15:12:07.358209Z",
     "start_time": "2019-06-28T15:12:07.342139Z"
    }
   },
   "outputs": [
    {
     "data": {
      "text/plain": [
       "'D:\\\\code\\\\Python\\\\Python Course Content\\\\PythonCourseContent\\\\16. Adv Python File Handling'"
      ]
     },
     "execution_count": 1,
     "metadata": {},
     "output_type": "execute_result"
    }
   ],
   "source": [
    "import os\n",
    "os.getcwd()"
   ]
  },
  {
   "cell_type": "markdown",
   "metadata": {},
   "source": [
    "<a id=\"section2\"></a>\n",
    "**2. Changing Directory**  \n",
    "We can change the current working directory using the **chdir()** method.  \n",
    "  \n",
    "The new path that we want to change to must be supplied as a string to this method. We can use both forward slash (/) or the backward slash (\\) to separate path elements."
   ]
  },
  {
   "cell_type": "code",
   "execution_count": 4,
   "metadata": {
    "ExecuteTime": {
     "end_time": "2019-06-28T15:13:21.085102Z",
     "start_time": "2019-06-28T15:13:21.077579Z"
    }
   },
   "outputs": [
    {
     "data": {
      "text/plain": [
       "'D:\\\\code\\\\Python Data Science'"
      ]
     },
     "execution_count": 4,
     "metadata": {},
     "output_type": "execute_result"
    }
   ],
   "source": [
    "import os\n",
    "os.chdir('D:\\code\\Python Data Science')\n",
    "os.getcwd()"
   ]
  },
  {
   "cell_type": "markdown",
   "metadata": {
    "ExecuteTime": {
     "end_time": "2019-06-28T15:10:49.235956Z",
     "start_time": "2019-06-28T15:10:49.228983Z"
    }
   },
   "source": [
    "<a id=\"section3\"></a>\n",
    "**3. List Directories and Files**    \n",
    "All files and sub directories inside a directory can be known using the **listdir()** method."
   ]
  },
  {
   "cell_type": "code",
   "execution_count": 7,
   "metadata": {
    "ExecuteTime": {
     "end_time": "2019-06-28T15:14:06.178920Z",
     "start_time": "2019-06-28T15:14:06.171944Z"
    }
   },
   "outputs": [
    {
     "data": {
      "text/plain": [
       "['.ipynb_checkpoints',\n",
       " '10 SAmple',\n",
       " '1Data Processing',\n",
       " '2.Data Visulisation',\n",
       " 'ext..ipynb',\n",
       " 'Install_.txt',\n",
       " 'Jupitor.txt',\n",
       " 'jupyter',\n",
       " 'Jupyter Beginning.ipynb',\n",
       " 'Sites.txt',\n",
       " 'timevsdist.pdf',\n",
       " 'timevsdist.png']"
      ]
     },
     "execution_count": 7,
     "metadata": {},
     "output_type": "execute_result"
    }
   ],
   "source": [
    "import os \n",
    "os.listdir() # returns in form of list"
   ]
  },
  {
   "cell_type": "markdown",
   "metadata": {
    "ExecuteTime": {
     "end_time": "2019-06-28T15:15:05.303304Z",
     "start_time": "2019-06-28T15:15:05.293742Z"
    }
   },
   "source": [
    "<a id=\"section4\"></a>\n",
    "**4. Making a New Directory**    \n",
    "We can make a new directory using the **mkdir()** method.  \n",
    "  \n",
    "This method takes in the path of the new directory. If the full path is not specified, the new directory is created in the current working directory."
   ]
  },
  {
   "cell_type": "code",
   "execution_count": 17,
   "metadata": {
    "ExecuteTime": {
     "end_time": "2019-06-28T15:22:03.637701Z",
     "start_time": "2019-06-28T15:22:03.628176Z"
    }
   },
   "outputs": [
    {
     "data": {
      "text/plain": [
       "['.ipynb_checkpoints',\n",
       " '10 SAmple',\n",
       " '1Data Processing',\n",
       " '2.Data Visulisation',\n",
       " 'ext..ipynb',\n",
       " 'Install_.txt',\n",
       " 'Jupitor.txt',\n",
       " 'jupyter',\n",
       " 'Jupyter Beginning.ipynb',\n",
       " 'Sites.txt',\n",
       " 'test',\n",
       " 'timevsdist.pdf',\n",
       " 'timevsdist.png']"
      ]
     },
     "execution_count": 17,
     "metadata": {},
     "output_type": "execute_result"
    }
   ],
   "source": [
    "import os \n",
    "os.mkdir(\"test\")\n",
    "os.listdir()"
   ]
  },
  {
   "cell_type": "markdown",
   "metadata": {
    "ExecuteTime": {
     "end_time": "2019-06-28T15:17:56.093245Z",
     "start_time": "2019-06-28T15:17:56.084260Z"
    }
   },
   "source": [
    "<a id=\"section5\"></a>\n",
    "**5. Renaming a Directory or a File**    \n",
    "The **rename()** method can rename a directory or a file.\n",
    "\n",
    "The first argument is the old name and the new name must be supplies as the second argument."
   ]
  },
  {
   "cell_type": "code",
   "execution_count": 18,
   "metadata": {
    "ExecuteTime": {
     "end_time": "2019-06-28T15:22:09.531853Z",
     "start_time": "2019-06-28T15:22:09.524300Z"
    }
   },
   "outputs": [
    {
     "name": "stdout",
     "output_type": "stream",
     "text": [
      "['.ipynb_checkpoints', '10 SAmple', '1Data Processing', '2.Data Visulisation', 'ext..ipynb', 'Install_.txt', 'Jupitor.txt', 'jupyter', 'Jupyter Beginning.ipynb', 'Sites.txt', 'test', 'timevsdist.pdf', 'timevsdist.png']\n",
      "['.ipynb_checkpoints', '10 SAmple', '1Data Processing', '2.Data Visulisation', 'ext..ipynb', 'Install_.txt', 'Jupitor.txt', 'jupyter', 'Jupyter Beginning.ipynb', 'list', 'Sites.txt', 'timevsdist.pdf', 'timevsdist.png']\n"
     ]
    }
   ],
   "source": [
    "import os\n",
    "print(os.listdir())\n",
    "os.rename('test', 'list')\n",
    "print(os.listdir())"
   ]
  },
  {
   "cell_type": "markdown",
   "metadata": {
    "ExecuteTime": {
     "end_time": "2019-06-28T15:23:02.430575Z",
     "start_time": "2019-06-28T15:23:02.418574Z"
    }
   },
   "source": [
    "<a id=\"section5\"></a>\n",
    "**6. Removing Directory or File**    \n",
    "A file can be removed (deleted) using the remove() method.\n",
    "\n",
    "Similarly, the rmdir() method removes an empty directory."
   ]
  },
  {
   "cell_type": "code",
   "execution_count": 23,
   "metadata": {
    "ExecuteTime": {
     "end_time": "2019-06-28T15:25:08.515349Z",
     "start_time": "2019-06-28T15:25:08.499389Z"
    }
   },
   "outputs": [
    {
     "ename": "PermissionError",
     "evalue": "[WinError 5] Access is denied: 'list'",
     "output_type": "error",
     "traceback": [
      "\u001b[1;31m---------------------------------------------------------------------------\u001b[0m",
      "\u001b[1;31mPermissionError\u001b[0m                           Traceback (most recent call last)",
      "\u001b[1;32m<ipython-input-23-fd1de2e1d85f>\u001b[0m in \u001b[0;36m<module>\u001b[1;34m\u001b[0m\n\u001b[0;32m      1\u001b[0m \u001b[1;32mimport\u001b[0m \u001b[0mos\u001b[0m\u001b[1;33m\u001b[0m\u001b[1;33m\u001b[0m\u001b[0m\n\u001b[1;32m----> 2\u001b[1;33m \u001b[0mos\u001b[0m\u001b[1;33m.\u001b[0m\u001b[0mremove\u001b[0m\u001b[1;33m(\u001b[0m\u001b[1;34m\"list\"\u001b[0m\u001b[1;33m)\u001b[0m\u001b[1;33m\u001b[0m\u001b[1;33m\u001b[0m\u001b[0m\n\u001b[0m\u001b[0;32m      3\u001b[0m \u001b[0mos\u001b[0m\u001b[1;33m.\u001b[0m\u001b[0mdirlist\u001b[0m\u001b[1;33m(\u001b[0m\u001b[1;33m)\u001b[0m\u001b[1;33m\u001b[0m\u001b[1;33m\u001b[0m\u001b[0m\n",
      "\u001b[1;31mPermissionError\u001b[0m: [WinError 5] Access is denied: 'list'"
     ]
    }
   ],
   "source": [
    "import os\n",
    "os.remove(\"list\")\n",
    "os.dirlist()"
   ]
  },
  {
   "cell_type": "markdown",
   "metadata": {},
   "source": [
    "In order to remove a non-empty directory we can use the rmtree() method inside the shutil module."
   ]
  },
  {
   "cell_type": "code",
   "execution_count": 27,
   "metadata": {
    "ExecuteTime": {
     "end_time": "2019-06-28T15:38:42.925568Z",
     "start_time": "2019-06-28T15:38:42.913561Z"
    }
   },
   "outputs": [
    {
     "ename": "SyntaxError",
     "evalue": "invalid syntax (<ipython-input-27-0f19201ad80e>, line 4)",
     "output_type": "error",
     "traceback": [
      "\u001b[1;36m  File \u001b[1;32m\"<ipython-input-27-0f19201ad80e>\"\u001b[1;36m, line \u001b[1;32m4\u001b[0m\n\u001b[1;33m    Traceback (most recent call last):\u001b[0m\n\u001b[1;37m                         ^\u001b[0m\n\u001b[1;31mSyntaxError\u001b[0m\u001b[1;31m:\u001b[0m invalid syntax\n"
     ]
    }
   ],
   "source": [
    ">>> os.listdir()\n",
    "['test']\n",
    ">>> os.rmdir('test')\n",
    "Traceback (most recent call last):\n",
    "...\n",
    "OSError: [WinError 145] The directory is not empty: 'test'\n",
    ">>> import shutil\n",
    ">>> shutil.rmtree('test')\n",
    ">>> os.listdir()\n",
    "[]"
   ]
  },
  {
   "cell_type": "code",
   "execution_count": null,
   "metadata": {},
   "outputs": [],
   "source": []
  }
 ],
 "metadata": {
  "kernelspec": {
   "display_name": "Python 3",
   "language": "python",
   "name": "python3"
  },
  "language_info": {
   "codemirror_mode": {
    "name": "ipython",
    "version": 3
   },
   "file_extension": ".py",
   "mimetype": "text/x-python",
   "name": "python",
   "nbconvert_exporter": "python",
   "pygments_lexer": "ipython3",
   "version": "3.7.3"
  },
  "toc": {
   "base_numbering": 1,
   "nav_menu": {},
   "number_sections": true,
   "sideBar": true,
   "skip_h1_title": false,
   "title_cell": "Table of Contents",
   "title_sidebar": "Contents",
   "toc_cell": false,
   "toc_position": {
    "height": "calc(100% - 180px)",
    "left": "10px",
    "top": "150px",
    "width": "243.667px"
   },
   "toc_section_display": true,
   "toc_window_display": true
  },
  "varInspector": {
   "cols": {
    "lenName": 16,
    "lenType": 16,
    "lenVar": 40
   },
   "kernels_config": {
    "python": {
     "delete_cmd_postfix": "",
     "delete_cmd_prefix": "del ",
     "library": "var_list.py",
     "varRefreshCmd": "print(var_dic_list())"
    },
    "r": {
     "delete_cmd_postfix": ") ",
     "delete_cmd_prefix": "rm(",
     "library": "var_list.r",
     "varRefreshCmd": "cat(var_dic_list()) "
    }
   },
   "oldHeight": 171.333666,
   "position": {
    "height": "40px",
    "left": "910px",
    "right": "20px",
    "top": "120px",
    "width": "350px"
   },
   "types_to_exclude": [
    "module",
    "function",
    "builtin_function_or_method",
    "instance",
    "_Feature"
   ],
   "varInspector_section_display": "none",
   "window_display": true
  }
 },
 "nbformat": 4,
 "nbformat_minor": 2
}

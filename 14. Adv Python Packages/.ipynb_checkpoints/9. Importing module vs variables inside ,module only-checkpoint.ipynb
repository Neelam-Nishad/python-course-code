{
 "cells": [
  {
   "cell_type": "code",
   "execution_count": 9,
   "metadata": {},
   "outputs": [],
   "source": [
    "# https://support.enthought.com/hc/en-us/articles/204469240-Jupyter-IPython-After-editing-a-module-changes-are-not-effective-without-kernel-restart"
   ]
  },
  {
   "cell_type": "code",
   "execution_count": 8,
   "metadata": {},
   "outputs": [
    {
     "name": "stdout",
     "output_type": "stream",
     "text": [
      "Variable   Type      Data/Info\n",
      "------------------------------\n",
      "Stack      module    <module 'ds.stack.Stack' <...>es\\\\ds\\\\stack\\\\Stack.py'>\n"
     ]
    }
   ],
   "source": [
    "%reset -f\n",
    "# here we imported Stack.py as Stack Modules Object\n",
    "from ds.stack import Stack\n",
    "%whos"
   ]
  },
  {
   "cell_type": "code",
   "execution_count": 7,
   "metadata": {
    "scrolled": true
   },
   "outputs": [
    {
     "name": "stdout",
     "output_type": "stream",
     "text": [
      "Variable   Type        Data/Info\n",
      "--------------------------------\n",
      "Stack      type        <class 'ds.stack.Stack.Stack'>\n",
      "foo        function    <function foo at 0x0000025339113D08>\n",
      "n          int         50\n",
      "prints     function    <function prints at 0x000002533920E400>\n",
      "s          str         String in Stack File\n"
     ]
    }
   ],
   "source": [
    "%reset -f\n",
    "# here we imported all the variables inside Stack.py file, but not module itself (Stack Module Object)\n",
    "from ds.stack.Stack import * \n",
    "%whos"
   ]
  },
  {
   "cell_type": "code",
   "execution_count": null,
   "metadata": {},
   "outputs": [],
   "source": []
  }
 ],
 "metadata": {
  "kernelspec": {
   "display_name": "Python 3",
   "language": "python",
   "name": "python3"
  },
  "language_info": {
   "codemirror_mode": {
    "name": "ipython",
    "version": 3
   },
   "file_extension": ".py",
   "mimetype": "text/x-python",
   "name": "python",
   "nbconvert_exporter": "python",
   "pygments_lexer": "ipython3",
   "version": "3.7.3"
  }
 },
 "nbformat": 4,
 "nbformat_minor": 2
}

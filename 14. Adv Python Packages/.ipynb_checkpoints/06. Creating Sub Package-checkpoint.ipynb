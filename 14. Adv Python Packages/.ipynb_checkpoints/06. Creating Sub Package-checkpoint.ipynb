{
 "cells": [
  {
   "cell_type": "code",
   "execution_count": null,
   "metadata": {},
   "outputs": [],
   "source": [
    "# https://stackoverflow.com/questions/4534438/typeerror-module-object-is-not-callable"
   ]
  },
  {
   "cell_type": "code",
   "execution_count": 8,
   "metadata": {
    "scrolled": true
   },
   "outputs": [
    {
     "name": "stdout",
     "output_type": "stream",
     "text": [
      "[40, 50, 60]\n",
      "[40, 50, 60, 10, 40]\n"
     ]
    }
   ],
   "source": [
    "from ds.stack.Stack import Stack\n",
    "# myStack = Stack()\n",
    "myStack = Stack([40, 50, 60])\n",
    "myStack.printStack()\n",
    "myStack.push(10)\n",
    "myStack.push(40)\n",
    "myStack.printStack()\n"
   ]
  },
  {
   "cell_type": "code",
   "execution_count": 1,
   "metadata": {},
   "outputs": [
    {
     "name": "stdout",
     "output_type": "stream",
     "text": [
      "[40, 50, 60]\n",
      "[40, 50, 60, 10, 40]\n",
      "String in Stack File\n",
      "15\n"
     ]
    }
   ],
   "source": [
    "from ds.stack.Stack import  *\n",
    "# myStack = Stack()\n",
    "myStack = Stack([40, 50, 60])\n",
    "myStack.printStack()\n",
    "myStack.push(10)\n",
    "myStack.push(40)\n",
    "myStack.printStack()\n",
    "print(s)\n",
    "foo(15)"
   ]
  },
  {
   "cell_type": "code",
   "execution_count": 11,
   "metadata": {},
   "outputs": [
    {
     "name": "stdout",
     "output_type": "stream",
     "text": [
      "[40, 50, 60]\n",
      "[40, 50, 60, 10, 40]\n",
      "String in Stack File\n",
      "15\n",
      "String in Stack File\n"
     ]
    }
   ],
   "source": [
    "from ds.stack.Stack import  *\n",
    "\n",
    "# myStack = Stack()\n",
    "myStack = Stack([40, 50, 60])\n",
    "myStack.printStack()\n",
    "myStack.push(10)\n",
    "myStack.push(40)\n",
    "myStack.printStack()\n",
    "print(s)\n",
    "foo(15)\n",
    "prints()"
   ]
  },
  {
   "cell_type": "code",
   "execution_count": 15,
   "metadata": {},
   "outputs": [
    {
     "name": "stdout",
     "output_type": "stream",
     "text": [
      "Interactive namespace is empty.\n",
      "Interactive namespace is empty.\n"
     ]
    }
   ],
   "source": [
    "%whos\n",
    "%reset -f\n",
    "%whos"
   ]
  },
  {
   "cell_type": "code",
   "execution_count": 37,
   "metadata": {},
   "outputs": [
    {
     "name": "stdout",
     "output_type": "stream",
     "text": [
      "[40, 50, 60]\n",
      "[40, 50, 60, 10, 40]\n",
      "String in Stack File\n",
      "15\n",
      "String in Stack File\n",
      "Another String\n",
      "Another StringAnother\n",
      "90\n"
     ]
    }
   ],
   "source": [
    "import importlib\n",
    "importlib.reload(Stack)\n",
    "\n",
    "from ds.stack import Stack\n",
    "# myStack = Stack.Stack()\n",
    "\n",
    "myStack = Stack.Stack([40, 50, 60])\n",
    "myStack.printStack()\n",
    "myStack.push(10)\n",
    "myStack.push(40)\n",
    "myStack.printStack()\n",
    "print(Stack.s)\n",
    "Stack.foo(15)\n",
    "Stack.prints()\n",
    "print(Stack.k)\n",
    "print(Stack.m)\n",
    "print(Stack.n)"
   ]
  },
  {
   "cell_type": "code",
   "execution_count": 38,
   "metadata": {},
   "outputs": [
    {
     "name": "stdout",
     "output_type": "stream",
     "text": [
      "Variable    Type      Data/Info\n",
      "-------------------------------\n",
      "Stack       module    <module 'ds.stack.Stack' <...>es\\\\ds\\\\stack\\\\Stack.py'>\n",
      "importlib   module    <module 'importlib' from <...>\\importlib\\\\__init__.py'>\n",
      "myStack     Stack     <ds.stack.Stack.Stack obj<...>ct at 0x000002611AAB00B8>\n"
     ]
    }
   ],
   "source": [
    "%whos"
   ]
  },
  {
   "cell_type": "code",
   "execution_count": 1,
   "metadata": {},
   "outputs": [],
   "source": []
  },
  {
   "cell_type": "code",
   "execution_count": null,
   "metadata": {},
   "outputs": [],
   "source": []
  }
 ],
 "metadata": {
  "kernelspec": {
   "display_name": "Python 3",
   "language": "python",
   "name": "python3"
  },
  "language_info": {
   "codemirror_mode": {
    "name": "ipython",
    "version": 3
   },
   "file_extension": ".py",
   "mimetype": "text/x-python",
   "name": "python",
   "nbconvert_exporter": "python",
   "pygments_lexer": "ipython3",
   "version": "3.7.3"
  }
 },
 "nbformat": 4,
 "nbformat_minor": 2
}

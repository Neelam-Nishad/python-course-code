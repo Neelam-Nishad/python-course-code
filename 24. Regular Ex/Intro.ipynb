{
 "cells": [
  {
   "cell_type": "code",
   "execution_count": 1,
   "metadata": {
    "ExecuteTime": {
     "end_time": "2019-07-05T10:00:58.071879Z",
     "start_time": "2019-07-05T10:00:58.063880Z"
    }
   },
   "outputs": [],
   "source": [
    "statement = \"My First Statement\""
   ]
  },
  {
   "cell_type": "code",
   "execution_count": 10,
   "metadata": {
    "ExecuteTime": {
     "end_time": "2019-07-05T10:08:03.883020Z",
     "start_time": "2019-07-05T10:08:03.875026Z"
    },
    "scrolled": true
   },
   "outputs": [
    {
     "name": "stdout",
     "output_type": "stream",
     "text": [
      "<re.Match object; span=(0, 1), match='M'>\n",
      "<re.Match object; span=(1, 2), match='y'>\n",
      "<re.Match object; span=(2, 3), match=' '>\n",
      "<re.Match object; span=(3, 4), match='F'>\n",
      "<re.Match object; span=(4, 5), match='i'>\n",
      "<re.Match object; span=(5, 6), match='r'>\n",
      "<re.Match object; span=(6, 7), match='s'>\n",
      "<re.Match object; span=(7, 8), match='t'>\n",
      "<re.Match object; span=(8, 9), match=' '>\n",
      "<re.Match object; span=(9, 10), match='S'>\n",
      "<re.Match object; span=(10, 11), match='t'>\n",
      "<re.Match object; span=(11, 12), match='a'>\n",
      "<re.Match object; span=(12, 13), match='t'>\n",
      "<re.Match object; span=(13, 14), match='e'>\n",
      "<re.Match object; span=(14, 15), match='m'>\n",
      "<re.Match object; span=(15, 16), match='e'>\n",
      "<re.Match object; span=(16, 17), match='n'>\n",
      "<re.Match object; span=(17, 18), match='t'>\n"
     ]
    }
   ],
   "source": [
    "import re\n",
    "pattern = re.compile(\".\")\n",
    "sample = pattern.finditer(statement)\n",
    "for i in sample:\n",
    "    print(i)"
   ]
  },
  {
   "cell_type": "code",
   "execution_count": 10,
   "metadata": {
    "ExecuteTime": {
     "end_time": "2019-07-05T10:08:03.883020Z",
     "start_time": "2019-07-05T10:08:03.875026Z"
    },
    "scrolled": true
   },
   "outputs": [
    {
     "name": "stdout",
     "output_type": "stream",
     "text": [
      "<re.Match object; span=(0, 1), match='M'>\n",
      "<re.Match object; span=(1, 2), match='y'>\n",
      "<re.Match object; span=(2, 3), match=' '>\n",
      "<re.Match object; span=(3, 4), match='F'>\n",
      "<re.Match object; span=(4, 5), match='i'>\n",
      "<re.Match object; span=(5, 6), match='r'>\n",
      "<re.Match object; span=(6, 7), match='s'>\n",
      "<re.Match object; span=(7, 8), match='t'>\n",
      "<re.Match object; span=(8, 9), match=' '>\n",
      "<re.Match object; span=(9, 10), match='S'>\n",
      "<re.Match object; span=(10, 11), match='t'>\n",
      "<re.Match object; span=(11, 12), match='a'>\n",
      "<re.Match object; span=(12, 13), match='t'>\n",
      "<re.Match object; span=(13, 14), match='e'>\n",
      "<re.Match object; span=(14, 15), match='m'>\n",
      "<re.Match object; span=(15, 16), match='e'>\n",
      "<re.Match object; span=(16, 17), match='n'>\n",
      "<re.Match object; span=(17, 18), match='t'>\n"
     ]
    }
   ],
   "source": [
    "import re\n",
    "pattern = re.compile(\".\")\n",
    "sample = pattern.finditer(statement)\n",
    "for i in sample:\n",
    "    print(i)"
   ]
  },
  {
   "cell_type": "code",
   "execution_count": null,
   "metadata": {},
   "outputs": [],
   "source": []
  }
 ],
 "metadata": {
  "kernelspec": {
   "display_name": "Python 3",
   "language": "python",
   "name": "python3"
  },
  "language_info": {
   "codemirror_mode": {
    "name": "ipython",
    "version": 3
   },
   "file_extension": ".py",
   "mimetype": "text/x-python",
   "name": "python",
   "nbconvert_exporter": "python",
   "pygments_lexer": "ipython3",
   "version": "3.7.3"
  },
  "toc": {
   "base_numbering": 1,
   "nav_menu": {},
   "number_sections": true,
   "sideBar": true,
   "skip_h1_title": false,
   "title_cell": "Table of Contents",
   "title_sidebar": "Contents",
   "toc_cell": false,
   "toc_position": {},
   "toc_section_display": true,
   "toc_window_display": false
  },
  "varInspector": {
   "cols": {
    "lenName": 16,
    "lenType": 16,
    "lenVar": 40
   },
   "kernels_config": {
    "python": {
     "delete_cmd_postfix": "",
     "delete_cmd_prefix": "del ",
     "library": "var_list.py",
     "varRefreshCmd": "print(var_dic_list())"
    },
    "r": {
     "delete_cmd_postfix": ") ",
     "delete_cmd_prefix": "rm(",
     "library": "var_list.r",
     "varRefreshCmd": "cat(var_dic_list()) "
    }
   },
   "types_to_exclude": [
    "module",
    "function",
    "builtin_function_or_method",
    "instance",
    "_Feature"
   ],
   "window_display": false
  }
 },
 "nbformat": 4,
 "nbformat_minor": 2
}

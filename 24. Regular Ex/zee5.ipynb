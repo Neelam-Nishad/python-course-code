{
 "cells": [
  {
   "cell_type": "code",
   "execution_count": 5,
   "metadata": {
    "ExecuteTime": {
     "end_time": "2019-07-05T18:56:25.196035Z",
     "start_time": "2019-07-05T18:56:25.193063Z"
    }
   },
   "outputs": [],
   "source": [
    "text_to_search = \"https://www.zee5.com/tvshows/details/title/0-6-366/sarla-is-in-a-dilemma-deciding-about-the-marriage-proposal-from-prithvi-kundali-bhagya/0-1-237005\""
   ]
  },
  {
   "cell_type": "code",
   "execution_count": 6,
   "metadata": {
    "ExecuteTime": {
     "end_time": "2019-07-05T18:56:26.020305Z",
     "start_time": "2019-07-05T18:56:26.016827Z"
    }
   },
   "outputs": [
    {
     "name": "stdout",
     "output_type": "stream",
     "text": [
      "<re.Match object; span=(138, 148), match='0-1-237005'>\n"
     ]
    }
   ],
   "source": [
    "import re\n",
    "pattern = re.compile('\\d-\\d-\\d{6}')\n",
    "\n",
    "matches = pattern.finditer(text_to_search)\n",
    "\n",
    "for match in matches:\n",
    "    print(match)"
   ]
  },
  {
   "cell_type": "code",
   "execution_count": 7,
   "metadata": {
    "ExecuteTime": {
     "end_time": "2019-07-05T18:57:14.730570Z",
     "start_time": "2019-07-05T18:57:14.722549Z"
    }
   },
   "outputs": [
    {
     "data": {
      "text/plain": [
       "<re.Match object; span=(138, 148), match='0-1-237005'>"
      ]
     },
     "execution_count": 7,
     "metadata": {},
     "output_type": "execute_result"
    }
   ],
   "source": [
    "match"
   ]
  },
  {
   "cell_type": "code",
   "execution_count": 9,
   "metadata": {
    "ExecuteTime": {
     "end_time": "2019-07-05T18:59:25.763702Z",
     "start_time": "2019-07-05T18:59:25.760233Z"
    }
   },
   "outputs": [
    {
     "name": "stdout",
     "output_type": "stream",
     "text": [
      "['0-1-237005']\n"
     ]
    }
   ],
   "source": [
    "import re\n",
    "pattern = re.compile('\\d-\\d-\\d{6}')\n",
    "\n",
    "matches = re.findall('\\d-\\d-\\d{6}', text_to_search)\n",
    "\n",
    "print(matches)"
   ]
  },
  {
   "cell_type": "code",
   "execution_count": 12,
   "metadata": {
    "ExecuteTime": {
     "end_time": "2019-07-05T19:00:25.611061Z",
     "start_time": "2019-07-05T19:00:25.607551Z"
    }
   },
   "outputs": [
    {
     "data": {
      "text/plain": [
       "['0', '1', '237005']"
      ]
     },
     "execution_count": 12,
     "metadata": {},
     "output_type": "execute_result"
    }
   ],
   "source": [
    "strip_matches = matches[0].split('-')\n",
    "strip_matches"
   ]
  },
  {
   "cell_type": "code",
   "execution_count": 16,
   "metadata": {
    "ExecuteTime": {
     "end_time": "2019-07-05T19:02:01.786411Z",
     "start_time": "2019-07-05T19:02:01.783905Z"
    }
   },
   "outputs": [],
   "source": [
    "j=''\n",
    "for i in strip_matches:\n",
    "    j=j+i"
   ]
  },
  {
   "cell_type": "code",
   "execution_count": 18,
   "metadata": {
    "ExecuteTime": {
     "end_time": "2019-07-05T19:02:33.474483Z",
     "start_time": "2019-07-05T19:02:33.470974Z"
    }
   },
   "outputs": [
    {
     "name": "stdout",
     "output_type": "stream",
     "text": [
      "01237005\n"
     ]
    }
   ],
   "source": [
    "print(j)"
   ]
  },
  {
   "cell_type": "code",
   "execution_count": 29,
   "metadata": {
    "ExecuteTime": {
     "end_time": "2019-07-05T19:04:44.641543Z",
     "start_time": "2019-07-05T19:04:44.639560Z"
    }
   },
   "outputs": [],
   "source": [
    "sample = \"https://akamaividz.zee5.com/resources/0-1-237005/list/1242x699/01237005_list.jpg\""
   ]
  },
  {
   "cell_type": "code",
   "execution_count": 36,
   "metadata": {
    "ExecuteTime": {
     "end_time": "2019-07-05T19:05:39.396720Z",
     "start_time": "2019-07-05T19:05:39.393713Z"
    }
   },
   "outputs": [],
   "source": [
    "url = 'https://akamaividz.zee5.com/resources/'+matches[0]+'/list/1242x699/'+j+'_list.jpg'"
   ]
  },
  {
   "cell_type": "code",
   "execution_count": 37,
   "metadata": {
    "ExecuteTime": {
     "end_time": "2019-07-05T19:05:41.426591Z",
     "start_time": "2019-07-05T19:05:41.423123Z"
    }
   },
   "outputs": [
    {
     "data": {
      "text/plain": [
       "'https://akamaividz.zee5.com/resources/0-1-237005/list/1242x699/01237005_list.jpg'"
      ]
     },
     "execution_count": 37,
     "metadata": {},
     "output_type": "execute_result"
    }
   ],
   "source": [
    "url"
   ]
  },
  {
   "cell_type": "code",
   "execution_count": 38,
   "metadata": {
    "ExecuteTime": {
     "end_time": "2019-07-05T19:05:42.484223Z",
     "start_time": "2019-07-05T19:05:42.480251Z"
    }
   },
   "outputs": [
    {
     "data": {
      "text/plain": [
       "True"
      ]
     },
     "execution_count": 38,
     "metadata": {},
     "output_type": "execute_result"
    }
   ],
   "source": [
    "sample == url"
   ]
  },
  {
   "cell_type": "code",
   "execution_count": null,
   "metadata": {},
   "outputs": [],
   "source": []
  }
 ],
 "metadata": {
  "kernelspec": {
   "display_name": "Python 3",
   "language": "python",
   "name": "python3"
  },
  "language_info": {
   "codemirror_mode": {
    "name": "ipython",
    "version": 3
   },
   "file_extension": ".py",
   "mimetype": "text/x-python",
   "name": "python",
   "nbconvert_exporter": "python",
   "pygments_lexer": "ipython3",
   "version": "3.7.3"
  },
  "toc": {
   "base_numbering": 1,
   "nav_menu": {},
   "number_sections": true,
   "sideBar": true,
   "skip_h1_title": false,
   "title_cell": "Table of Contents",
   "title_sidebar": "Contents",
   "toc_cell": false,
   "toc_position": {},
   "toc_section_display": true,
   "toc_window_display": false
  },
  "varInspector": {
   "cols": {
    "lenName": 16,
    "lenType": 16,
    "lenVar": 40
   },
   "kernels_config": {
    "python": {
     "delete_cmd_postfix": "",
     "delete_cmd_prefix": "del ",
     "library": "var_list.py",
     "varRefreshCmd": "print(var_dic_list())"
    },
    "r": {
     "delete_cmd_postfix": ") ",
     "delete_cmd_prefix": "rm(",
     "library": "var_list.r",
     "varRefreshCmd": "cat(var_dic_list()) "
    }
   },
   "types_to_exclude": [
    "module",
    "function",
    "builtin_function_or_method",
    "instance",
    "_Feature"
   ],
   "window_display": false
  }
 },
 "nbformat": 4,
 "nbformat_minor": 2
}

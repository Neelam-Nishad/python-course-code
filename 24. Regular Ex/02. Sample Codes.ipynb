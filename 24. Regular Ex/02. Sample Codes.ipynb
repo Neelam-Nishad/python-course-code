{
 "cells": [
  {
   "cell_type": "markdown",
   "metadata": {},
   "source": [
    "```\n",
    "\\b(\\d)\\1+\\b\n",
    "\n",
    "Explaination: \n",
    "\\b   # match word boundary\n",
    "(\\d) # match digit remember it\n",
    "\\1+  # match one or more instances of the previously matched digit\n",
    "\\b   # match word boundary\n",
    "```"
   ]
  },
  {
   "cell_type": "markdown",
   "metadata": {},
   "source": [
    "```\n",
    "^(\\d)(?!\\1+$)\\d*$\n",
    "\n",
    "^     # Start of string\n",
    "(\\d)  # Match a digit\n",
    "(?!   # Assert that the following doesn't match:\n",
    " \\1+  # one or more repetitions of the previously matched digit\n",
    " $    # until the end of the string\n",
    ")     # End of lookahead assertion\n",
    "\\d*   # Match zero or more digits\n",
    "$     # until the end of the string\n",
    "```"
   ]
  },
  {
   "cell_type": "markdown",
   "metadata": {},
   "source": [
    "```\n",
    "JHMCU26809C211501 - good\n",
    "JHMGD18508S219366 - good\n",
    "JHMCU268091111111 - bad\n",
    "12345678901234567 - good\n",
    "ASD1111111ASD2313 - bad\n",
    "ASDIIIIIIIASDASD2 - bad\n",
    "IIIIIIIADS1EE2345 - bad\n",
    "```"
   ]
  }
 ],
 "metadata": {
  "kernelspec": {
   "display_name": "Python 3",
   "language": "python",
   "name": "python3"
  },
  "language_info": {
   "codemirror_mode": {
    "name": "ipython",
    "version": 3
   },
   "file_extension": ".py",
   "mimetype": "text/x-python",
   "name": "python",
   "nbconvert_exporter": "python",
   "pygments_lexer": "ipython3",
   "version": "3.7.3"
  },
  "toc": {
   "base_numbering": 1,
   "nav_menu": {},
   "number_sections": true,
   "sideBar": true,
   "skip_h1_title": false,
   "title_cell": "Table of Contents",
   "title_sidebar": "Contents",
   "toc_cell": false,
   "toc_position": {},
   "toc_section_display": true,
   "toc_window_display": false
  },
  "varInspector": {
   "cols": {
    "lenName": 16,
    "lenType": 16,
    "lenVar": 40
   },
   "kernels_config": {
    "python": {
     "delete_cmd_postfix": "",
     "delete_cmd_prefix": "del ",
     "library": "var_list.py",
     "varRefreshCmd": "print(var_dic_list())"
    },
    "r": {
     "delete_cmd_postfix": ") ",
     "delete_cmd_prefix": "rm(",
     "library": "var_list.r",
     "varRefreshCmd": "cat(var_dic_list()) "
    }
   },
   "types_to_exclude": [
    "module",
    "function",
    "builtin_function_or_method",
    "instance",
    "_Feature"
   ],
   "window_display": false
  }
 },
 "nbformat": 4,
 "nbformat_minor": 2
}

{
 "cells": [
  {
   "cell_type": "code",
   "execution_count": 1,
   "metadata": {},
   "outputs": [],
   "source": [
    "# clear()\tRemove all items form the dictionary.\n",
    "# copy()\tReturn a shallow copy of the dictionary.\n",
    "# fromkeys(seq[, v])\tReturn a new dictionary with keys from seq and value equal to v (defaults to None).\n",
    "# get(key[,d])\tReturn the value of key. If key doesnot exit, return d (defaults to None).\n",
    "# items()\tReturn a new view of the dictionary's items (key, value).\n",
    "# keys()\tReturn a new view of the dictionary's keys.\n",
    "# pop(key[,d])\tRemove the item with key and return its value or d if key is not found. If d is not provided and key is not found, raises KeyError.\n",
    "# popitem()\tRemove and return an arbitary item (key, value). Raises KeyError if the dictionary is empty.\n",
    "# setdefault(key[,d])\tIf key is in the dictionary, return its value. If not, insert key with a value of d and return d (defaults to None).\n",
    "# update([other])\tUpdate the dictionary with the key/value pairs from other, overwriting existing keys.\n",
    "# values()\tReturn a new view of the dictionary's values"
   ]
  },
  {
   "cell_type": "code",
   "execution_count": 3,
   "metadata": {},
   "outputs": [
    {
     "name": "stdout",
     "output_type": "stream",
     "text": [
      "{}\n"
     ]
    }
   ],
   "source": [
    "# clear the dictionary\n",
    "#  <dict_name>.clear()\n",
    "datatype={'float': [1.5, 2.5, 3.5], 'char': ['a', 'b', 'c'], 'string': ['abc', 'bcd', 'cde']}\n",
    "datatype.clear()\n",
    "print(datatype)"
   ]
  },
  {
   "cell_type": "code",
   "execution_count": 21,
   "metadata": {},
   "outputs": [
    {
     "data": {
      "text/plain": [
       "[1.5, 2.5, 3.5]"
      ]
     },
     "execution_count": 21,
     "metadata": {},
     "output_type": "execute_result"
    }
   ],
   "source": [
    "# <dict_name>.get(key) : return the value of key\n",
    "datatype={'float': [1.5, 2.5, 3.5], 'char': ['a', 'b', 'c'], 'string': ['abc', 'bcd', 'cde']}\n",
    "datatype.get(\"float\")"
   ]
  },
  {
   "cell_type": "code",
   "execution_count": 22,
   "metadata": {},
   "outputs": [
    {
     "data": {
      "text/plain": [
       "dict_items([('float', [1.5, 2.5, 3.5]), ('char', ['a', 'b', 'c']), ('string', ['abc', 'bcd', 'cde'])])"
      ]
     },
     "execution_count": 22,
     "metadata": {},
     "output_type": "execute_result"
    }
   ],
   "source": [
    "# items() returns the dictionary view of\n",
    "datatype.items()"
   ]
  },
  {
   "cell_type": "code",
   "execution_count": 24,
   "metadata": {},
   "outputs": [
    {
     "name": "stdout",
     "output_type": "stream",
     "text": [
      "{'float': [1.5, 2.5, 3.5], 'char': ['a', 'b', 'c'], 'string': ['abc', 'bcd', 'cde']}\n"
     ]
    }
   ],
   "source": [
    "# setdefault() : Inserts Key With a Value if Key is not Present\n",
    "datatype={'float': [1.5, 2.5, 3.5], 'char': ['a', 'b', 'c'], 'string': ['abc', 'bcd', 'cde']}\n",
    "datatype.setdefault(\"float\", [4.5, 5.5, 6.5]) # key already present\n",
    "print(datatype)"
   ]
  },
  {
   "cell_type": "code",
   "execution_count": 30,
   "metadata": {},
   "outputs": [
    {
     "name": "stdout",
     "output_type": "stream",
     "text": [
      "{'float': [1.5, 2.5, 3.5], 'char': ['a', 'b', 'c'], 'string': ['abc', 'bcd', 'cde']}\n",
      "{'float': [1.5, 2.5, 3.5], 'char': ['a', 'b', 'c'], 'string': ['abc', 'bcd', 'cde'], 'int': [4.5, 5.5, 6.5]}\n"
     ]
    }
   ],
   "source": [
    "datatype={'float': [1.5, 2.5, 3.5], 'char': ['a', 'b', 'c'], 'string': ['abc', 'bcd', 'cde']}\n",
    "print(datatype)\n",
    "datatype.setdefault(\"int\", [4.5, 5.5, 6.5]) # key not present\n",
    "print(datatype)"
   ]
  },
  {
   "cell_type": "code",
   "execution_count": 35,
   "metadata": {},
   "outputs": [
    {
     "name": "stdout",
     "output_type": "stream",
     "text": [
      "dict_values([[1.5, 2.5, 3.5], ['a', 'b', 'c'], ['abc', 'bcd', 'cde'], [4.5, 5.5, 6.5]])\n",
      "dict_keys(['float', 'char', 'string', 'int'])\n"
     ]
    }
   ],
   "source": [
    "# values() returns set of values in dictionary \n",
    "datatype = {'float': [1.5, 2.5, 3.5], 'char': ['a', 'b', 'c'], 'string': ['abc', 'bcd', 'cde'], 'int': [4.5, 5.5, 6.5]}\n",
    "print(datatype.values())\n",
    "\n",
    "# keys() returns set of keys in dictionary\n",
    "print(datatype.keys())"
   ]
  },
  {
   "cell_type": "code",
   "execution_count": 40,
   "metadata": {},
   "outputs": [],
   "source": [
    "# update the dictionary i.e. add other dictionary into ourself, its like union without repetitive elements"
   ]
  },
  {
   "cell_type": "code",
   "execution_count": 38,
   "metadata": {},
   "outputs": [
    {
     "name": "stdout",
     "output_type": "stream",
     "text": [
      "None\n",
      "{1: 'one', 2: 'two', 3: 'three'}\n"
     ]
    }
   ],
   "source": [
    "d = {1:\"one\", 2:\"two\"}\n",
    "d1 = {3: \"three\"}\n",
    "d.update(d1)\n",
    "print(d)"
   ]
  },
  {
   "cell_type": "code",
   "execution_count": 39,
   "metadata": {},
   "outputs": [
    {
     "name": "stdout",
     "output_type": "stream",
     "text": [
      "{1: 'one', 2: 'two', 3: 'three', 4: 'four', 5: 'five', 6: 'six'}\n"
     ]
    }
   ],
   "source": [
    "d = {1:\"one\", 2:\"two\", 3: \"three\", 4:\"four\"}\n",
    "d1 = {4:\"four\", 5:\"five\", 6:\"six\"}\n",
    "d.update(d1)\n",
    "print(d)\n"
   ]
  },
  {
   "cell_type": "code",
   "execution_count": 6,
   "metadata": {},
   "outputs": [],
   "source": [
    "# # un-usual methods\n",
    "# Situation : you have keys list \n",
    "#             fruits = [\"mango\", \"orange\", \"lemon\", \"tomato\"]\n",
    "#         and you have values list\n",
    "#             gene = \"fruit\"\n",
    "# make dictionary out of it... using dict.fromkeys() nethods"
   ]
  },
  {
   "cell_type": "code",
   "execution_count": 13,
   "metadata": {},
   "outputs": [],
   "source": [
    "fruits = [\"mango\", \"orange\", \"lemon\", \"tomato\"]\n",
    "gene = \"fruit\"\n",
    "fruits_qty=dict.fromkeys(fruits, gene)    "
   ]
  },
  {
   "cell_type": "code",
   "execution_count": 14,
   "metadata": {},
   "outputs": [
    {
     "name": "stdout",
     "output_type": "stream",
     "text": [
      "{'mango': 'fruit', 'orange': 'fruit', 'lemon': 'fruit', 'tomato': 'fruit'}\n"
     ]
    }
   ],
   "source": [
    "print(fruits_qty)"
   ]
  },
  {
   "cell_type": "code",
   "execution_count": null,
   "metadata": {},
   "outputs": [],
   "source": []
  }
 ],
 "metadata": {
  "kernelspec": {
   "display_name": "Python 3",
   "language": "python",
   "name": "python3"
  },
  "language_info": {
   "codemirror_mode": {
    "name": "ipython",
    "version": 3
   },
   "file_extension": ".py",
   "mimetype": "text/x-python",
   "name": "python",
   "nbconvert_exporter": "python",
   "pygments_lexer": "ipython3",
   "version": "3.7.3"
  }
 },
 "nbformat": 4,
 "nbformat_minor": 2
}

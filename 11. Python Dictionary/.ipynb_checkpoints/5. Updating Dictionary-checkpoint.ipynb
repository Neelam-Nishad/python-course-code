{
 "cells": [
  {
   "cell_type": "code",
   "execution_count": 1,
   "metadata": {},
   "outputs": [
    {
     "name": "stdout",
     "output_type": "stream",
     "text": [
      "Interactive namespace is empty.\n"
     ]
    }
   ],
   "source": [
    "%who"
   ]
  },
  {
   "cell_type": "code",
   "execution_count": 2,
   "metadata": {},
   "outputs": [],
   "source": [
    "dictionary = {'float': [1.5, 2.5, 3.5], 'char': ['a', 'b', 'c'], 'string': ['abc', 'bcd', 'cde'], 'int': [4.5, 5.5, 6.5]}\n",
    "# update means update the existing value, or add if it doesn't exist"
   ]
  },
  {
   "cell_type": "code",
   "execution_count": 3,
   "metadata": {},
   "outputs": [
    {
     "name": "stdout",
     "output_type": "stream",
     "text": [
      "{'float': [1.5, 2.5, 3.5], 'char': ['a', 'b', 'c'], 'string': ['abc', 'bcd', 'cde'], 'int': [4.5, 5.5, 6.5]}\n"
     ]
    }
   ],
   "source": [
    "print(dictionary)"
   ]
  },
  {
   "cell_type": "code",
   "execution_count": 9,
   "metadata": {},
   "outputs": [
    {
     "data": {
      "text/plain": [
       "{'float': [1.5, 2.5, 3.5],\n",
       " 'char': ['a', 'b', 'c'],\n",
       " 'string': ['abc', 'bcd', 'cde'],\n",
       " 'int': [4, 5, 6]}"
      ]
     },
     "execution_count": 9,
     "metadata": {},
     "output_type": "execute_result"
    }
   ],
   "source": [
    "dictionary.update({\"int\":[4, 5, 6]}) # updating exisiting value\n",
    "\n",
    "dictionary"
   ]
  },
  {
   "cell_type": "code",
   "execution_count": 11,
   "metadata": {},
   "outputs": [
    {
     "name": "stdout",
     "output_type": "stream",
     "text": [
      "{'float': [1.5, 2.5, 3.5], 'char': ['a', 'b', 'c'], 'string': ['abc', 'bcd', 'cde'], 'int': [4, 5, 6], 'list': [[1, 2, 3], [4, 5, 6], [7, 8, 9]]}\n"
     ]
    }
   ],
   "source": [
    "dictionary.update({\"list\":[[1, 2, 3], [4, 5, 6], [7, 8, 9]]})\n",
    "print(dictionary)"
   ]
  },
  {
   "cell_type": "code",
   "execution_count": null,
   "metadata": {},
   "outputs": [],
   "source": []
  }
 ],
 "metadata": {
  "kernelspec": {
   "display_name": "Python 3",
   "language": "python",
   "name": "python3"
  },
  "language_info": {
   "codemirror_mode": {
    "name": "ipython",
    "version": 3
   },
   "file_extension": ".py",
   "mimetype": "text/x-python",
   "name": "python",
   "nbconvert_exporter": "python",
   "pygments_lexer": "ipython3",
   "version": "3.7.3"
  }
 },
 "nbformat": 4,
 "nbformat_minor": 2
}

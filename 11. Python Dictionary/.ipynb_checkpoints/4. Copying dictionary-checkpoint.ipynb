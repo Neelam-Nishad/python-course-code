{
 "cells": [
  {
   "cell_type": "code",
   "execution_count": 2,
   "metadata": {},
   "outputs": [
    {
     "name": "stdout",
     "output_type": "stream",
     "text": [
      "{'PENAN': 18, 'CHETAN': 19, 'RAHUL': 20}\n",
      "{'LATA': 20, 'ARADHANA': 19, 'KALPANA': 18}\n"
     ]
    }
   ],
   "source": [
    "boys ={\"PENAN\": 18, \"CHETAN\": 19, \"RAHUL\": 20}\n",
    "girls = {\"LATA\": 20, \"ARADHANA\":19, \"KALPANA\": 18}\n",
    "\n",
    "# assign those dictionaries to another empty dictionarries respectively with copy() function\n",
    "StudentX = boys.copy()\n",
    "StudentY = girls.copy()\n",
    "\n",
    "print(StudentX)\n",
    "print(StudentY)"
   ]
  },
  {
   "cell_type": "code",
   "execution_count": null,
   "metadata": {},
   "outputs": [],
   "source": []
  }
 ],
 "metadata": {
  "kernelspec": {
   "display_name": "Python 3",
   "language": "python",
   "name": "python3"
  },
  "language_info": {
   "codemirror_mode": {
    "name": "ipython",
    "version": 3
   },
   "file_extension": ".py",
   "mimetype": "text/x-python",
   "name": "python",
   "nbconvert_exporter": "python",
   "pygments_lexer": "ipython3",
   "version": "3.7.3"
  }
 },
 "nbformat": 4,
 "nbformat_minor": 2
}

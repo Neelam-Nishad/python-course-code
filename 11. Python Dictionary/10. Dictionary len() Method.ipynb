{
 "cells": [
  {
   "cell_type": "code",
   "execution_count": 1,
   "metadata": {},
   "outputs": [
    {
     "name": "stdout",
     "output_type": "stream",
     "text": [
      "len of dictionary :  3\n"
     ]
    }
   ],
   "source": [
    "datatype = {\n",
    "    \"int\" : [1, 2, 3],\n",
    "    \"float\" : [1.5, 2.5, 3.5],\n",
    "    \"char\" : ['a', 'b', 'c']\n",
    "}\n",
    "print(\"length of dictionary : \",len(datatype))"
   ]
  },
  {
   "cell_type": "code",
   "execution_count": 6,
   "metadata": {},
   "outputs": [
    {
     "name": "stdout",
     "output_type": "stream",
     "text": [
      "{'int': [1, 2, 3], 'float': [1.5, 2.5, 3.5], 'char': ['a', 'b', 'c'], 'str': ['aa', 'ab', 'ba', 'bb']}\n",
      "length of dictionary :  4\n"
     ]
    }
   ],
   "source": [
    "datatype[\"str\"]=[\"aa\", \"ab\", 'ba', 'bb']\n",
    "print(datatype)\n",
    "print(\"length of dictionary : \",len(datatype))"
   ]
  },
  {
   "cell_type": "code",
   "execution_count": null,
   "metadata": {},
   "outputs": [],
   "source": []
  }
 ],
 "metadata": {
  "kernelspec": {
   "display_name": "Python 3",
   "language": "python",
   "name": "python3"
  },
  "language_info": {
   "codemirror_mode": {
    "name": "ipython",
    "version": 3
   },
   "file_extension": ".py",
   "mimetype": "text/x-python",
   "name": "python",
   "nbconvert_exporter": "python",
   "pygments_lexer": "ipython3",
   "version": "3.7.3"
  }
 },
 "nbformat": 4,
 "nbformat_minor": 2
}

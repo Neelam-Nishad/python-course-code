{
 "cells": [
  {
   "cell_type": "markdown",
   "metadata": {},
   "source": [
    "# dictionary are immutable"
   ]
  },
  {
   "cell_type": "code",
   "execution_count": 2,
   "metadata": {
    "ExecuteTime": {
     "end_time": "2019-07-08T01:24:03.468749Z",
     "start_time": "2019-07-08T01:24:03.466744Z"
    }
   },
   "outputs": [],
   "source": [
    "# # dictionary follow pattern of key and value\n",
    "# dictionary_name={\n",
    "#     key:value,\n",
    "#     key_2:value_2,....\n",
    "# }"
   ]
  },
  {
   "cell_type": "markdown",
   "metadata": {},
   "source": [
    "## create dictionary using { } curly brackets"
   ]
  },
  {
   "cell_type": "code",
   "execution_count": 3,
   "metadata": {
    "ExecuteTime": {
     "end_time": "2019-07-08T01:24:20.727854Z",
     "start_time": "2019-07-08T01:24:20.723842Z"
    }
   },
   "outputs": [
    {
     "data": {
      "text/plain": [
       "{'int': [1, 2, 3], 'floats': [1.5, 2.5, 3.5], 'char': ['a', 'b', 'c']}"
      ]
     },
     "execution_count": 3,
     "metadata": {},
     "output_type": "execute_result"
    }
   ],
   "source": [
    "d = {\n",
    "    \"int\" : [1, 2, 3],\n",
    "    \"floats\" : [1.5, 2.5, 3.5],\n",
    "    \"char\" : ['a', 'b', 'c']\n",
    "}\n",
    "d"
   ]
  },
  {
   "cell_type": "markdown",
   "metadata": {},
   "source": [
    "## create dictionary using dict() "
   ]
  },
  {
   "cell_type": "code",
   "execution_count": 6,
   "metadata": {},
   "outputs": [
    {
     "data": {
      "text/plain": [
       "{1: 'name', 2: 'address', 3: 'phone_number'}"
      ]
     },
     "execution_count": 6,
     "metadata": {},
     "output_type": "execute_result"
    }
   ],
   "source": [
    "playing = dict({1:\"name\", 2:\"address\", 3:\"phone_number\"})\n",
    "playing"
   ]
  },
  {
   "cell_type": "code",
   "execution_count": 7,
   "metadata": {},
   "outputs": [
    {
     "data": {
      "text/plain": [
       "{1: 'orange', 2: 'mango', 3: 'rose'}"
      ]
     },
     "execution_count": 7,
     "metadata": {},
     "output_type": "execute_result"
    }
   ],
   "source": [
    "my_dict = dict([(1, \"orange\"), (2, \"mango\"), (3, \"rose\")])\n",
    "my_dict"
   ]
  },
  {
   "cell_type": "code",
   "execution_count": 8,
   "metadata": {},
   "outputs": [
    {
     "data": {
      "text/plain": [
       "list"
      ]
     },
     "execution_count": 8,
     "metadata": {},
     "output_type": "execute_result"
    }
   ],
   "source": [
    "type([(1, \"orange\"), (2, \"mango\"), (3, \"rose\")])"
   ]
  },
  {
   "cell_type": "code",
   "execution_count": 9,
   "metadata": {},
   "outputs": [
    {
     "data": {
      "text/plain": [
       "tuple"
      ]
     },
     "execution_count": 9,
     "metadata": {},
     "output_type": "execute_result"
    }
   ],
   "source": [
    "type((1, \"orange\"))"
   ]
  },
  {
   "cell_type": "markdown",
   "metadata": {},
   "source": [
    "## convering list(tuple) into dictionary i.e [(), (), ()] => {, , ,}"
   ]
  },
  {
   "cell_type": "code",
   "execution_count": 9,
   "metadata": {
    "ExecuteTime": {
     "end_time": "2019-07-08T01:26:54.925421Z",
     "start_time": "2019-07-08T01:26:54.921411Z"
    }
   },
   "outputs": [
    {
     "data": {
      "text/plain": [
       "{1: 'orange', 2: 'mango', 3: 'rose'}"
      ]
     },
     "execution_count": 9,
     "metadata": {},
     "output_type": "execute_result"
    }
   ],
   "source": [
    "my_dict = dict([(1, \"orange\"), (2, \"mango\"), (3, \"rose\")])\n",
    "my_dict"
   ]
  },
  {
   "cell_type": "code",
   "execution_count": 10,
   "metadata": {
    "ExecuteTime": {
     "end_time": "2019-07-08T01:27:01.685147Z",
     "start_time": "2019-07-08T01:27:01.681138Z"
    }
   },
   "outputs": [
    {
     "data": {
      "text/plain": [
       "OrderedDict([(4, 'Four'), (5, 'Five'), (6, 'Six')])"
      ]
     },
     "execution_count": 10,
     "metadata": {},
     "output_type": "execute_result"
    }
   ],
   "source": [
    "from collections import OrderedDict\n",
    "OrderedDict([\n",
    "    (4, \"Four\"), \n",
    "    (5, \"Five\"), \n",
    "    (6, \"Six\")\n",
    "])"
   ]
  },
  {
   "cell_type": "markdown",
   "metadata": {},
   "source": [
    "# Access dictionary\n"
   ]
  },
  {
   "cell_type": "markdown",
   "metadata": {},
   "source": [
    "## using keys "
   ]
  },
  {
   "cell_type": "code",
   "execution_count": 12,
   "metadata": {
    "ExecuteTime": {
     "end_time": "2019-07-08T01:29:09.029037Z",
     "start_time": "2019-07-08T01:29:09.026068Z"
    }
   },
   "outputs": [],
   "source": [
    "datatype = {\n",
    "    \"int\" : [1, 2, 3],\n",
    "    \"float\" : [1.5, 2.5, 3.5],\n",
    "    \"char\" : ['a', 'b', 'c']\n",
    "}"
   ]
  },
  {
   "cell_type": "code",
   "execution_count": 13,
   "metadata": {
    "ExecuteTime": {
     "end_time": "2019-07-08T01:29:10.372870Z",
     "start_time": "2019-07-08T01:29:10.369824Z"
    }
   },
   "outputs": [
    {
     "data": {
      "text/plain": [
       "[1, 2, 3]"
      ]
     },
     "execution_count": 13,
     "metadata": {},
     "output_type": "execute_result"
    }
   ],
   "source": [
    "datatype[\"int\"]"
   ]
  },
  {
   "cell_type": "code",
   "execution_count": 14,
   "metadata": {},
   "outputs": [
    {
     "data": {
      "text/plain": [
       "[1.5, 2.5, 3.5]"
      ]
     },
     "execution_count": 14,
     "metadata": {},
     "output_type": "execute_result"
    }
   ],
   "source": [
    "datatype[\"float\"]"
   ]
  },
  {
   "cell_type": "code",
   "execution_count": 20,
   "metadata": {},
   "outputs": [
    {
     "ename": "KeyError",
     "evalue": "'string'",
     "output_type": "error",
     "traceback": [
      "\u001b[1;31m---------------------------------------------------------------------------\u001b[0m",
      "\u001b[1;31mKeyError\u001b[0m                                  Traceback (most recent call last)",
      "\u001b[1;32m<ipython-input-20-52996a8c8240>\u001b[0m in \u001b[0;36m<module>\u001b[1;34m\u001b[0m\n\u001b[1;32m----> 1\u001b[1;33m \u001b[0mdatatype\u001b[0m\u001b[1;33m[\u001b[0m\u001b[1;34m\"string\"\u001b[0m\u001b[1;33m]\u001b[0m\u001b[1;33m\u001b[0m\u001b[1;33m\u001b[0m\u001b[0m\n\u001b[0m",
      "\u001b[1;31mKeyError\u001b[0m: 'string'"
     ]
    }
   ],
   "source": [
    "datatype[\"string\"]"
   ]
  },
  {
   "cell_type": "code",
   "execution_count": null,
   "metadata": {},
   "outputs": [],
   "source": [
    "# using get() function\n",
    "# get(key) returns value\n",
    "# None if key not exist"
   ]
  },
  {
   "cell_type": "code",
   "execution_count": 20,
   "metadata": {
    "ExecuteTime": {
     "end_time": "2019-07-08T01:30:14.453015Z",
     "start_time": "2019-07-08T01:30:14.450043Z"
    }
   },
   "outputs": [
    {
     "name": "stdout",
     "output_type": "stream",
     "text": [
      "None\n"
     ]
    }
   ],
   "source": [
    "print(datatype.get(\"string\"))"
   ]
  },
  {
   "cell_type": "code",
   "execution_count": 19,
   "metadata": {
    "ExecuteTime": {
     "end_time": "2019-07-08T01:29:56.853594Z",
     "start_time": "2019-07-08T01:29:56.849544Z"
    }
   },
   "outputs": [
    {
     "data": {
      "text/plain": [
       "{'int': [1, 2, 3], 'float': [1.5, 2.5, 3.5], 'char': ['a', 'b', 'c']}"
      ]
     },
     "execution_count": 19,
     "metadata": {},
     "output_type": "execute_result"
    }
   ],
   "source": [
    "datatype"
   ]
  },
  {
   "cell_type": "code",
   "execution_count": 26,
   "metadata": {},
   "outputs": [
    {
     "name": "stdout",
     "output_type": "stream",
     "text": [
      "Key doesn't exist\n"
     ]
    }
   ],
   "source": [
    "# it useful in many ways\n",
    "if(datatype.get(\"string\") == None):\n",
    "    print(\"Key doesn't exist\")\n",
    "else:\n",
    "    print(datatype.get(\"string\"))"
   ]
  },
  {
   "cell_type": "code",
   "execution_count": 38,
   "metadata": {},
   "outputs": [
    {
     "name": "stdout",
     "output_type": "stream",
     "text": [
      "{'int': [1, 2, 3], 'float': [1.5, 2.5, 3.5], 'char': ['a', 'b', 'c'], 'string': ['abc', 'bcd', 'cde']}\n"
     ]
    }
   ],
   "source": [
    "# add element in dictionary\n",
    "datatype = {\n",
    "    \"int\" : [1, 2, 3],\n",
    "    \"float\" : [1.5, 2.5, 3.5],\n",
    "    \"char\" : ['a', 'b', 'c']\n",
    "}\n",
    "datatype[\"string\"] = [\"abc\", \"bcd\", \"cde\"]\n",
    "print(datatype)"
   ]
  },
  {
   "cell_type": "code",
   "execution_count": 44,
   "metadata": {},
   "outputs": [
    {
     "name": "stdout",
     "output_type": "stream",
     "text": [
      "{'float': [1.5, 2.5, 3.5], 'int': [4, 5, 6]}\n"
     ]
    }
   ],
   "source": [
    "# change value of particular keys\n",
    "datatype[\"int\"] = [4, 5, 6]\n",
    "print(datatype)"
   ]
  },
  {
   "cell_type": "code",
   "execution_count": 46,
   "metadata": {},
   "outputs": [
    {
     "name": "stdout",
     "output_type": "stream",
     "text": [
      "{'float': [1.5, 2.5, 3.5], 'char': ['a', 'b', 'c'], 'string': ['abc', 'bcd', 'cde']}\n",
      "{'char': ['a', 'b', 'c'], 'string': ['abc', 'bcd', 'cde']}\n"
     ]
    }
   ],
   "source": [
    "# remove element from dictitonary using pop()\n",
    "datatype = {'int': [1, 2, 3], 'float': [1.5, 2.5, 3.5], 'char': ['a', 'b', 'c'], 'string': ['abc', 'bcd', 'cde']}\n",
    "datatype.pop(\"int\")\n",
    "print(datatype)\n",
    "\n",
    "# remove using del\n",
    "del datatype[\"float\"]\n",
    "print(datatype)"
   ]
  },
  {
   "cell_type": "code",
   "execution_count": 42,
   "metadata": {},
   "outputs": [
    {
     "name": "stdout",
     "output_type": "stream",
     "text": [
      "{'float': [1.5, 2.5, 3.5]}\n"
     ]
    }
   ],
   "source": [
    "# remove last item from dictionary\n",
    "datatpe={'float': [1.5, 2.5, 3.5], 'char': ['a', 'b', 'c'], 'string': ['abc', 'bcd', 'cde']}\n",
    "datatype.popitem()\n",
    "print(datatype)"
   ]
  },
  {
   "cell_type": "code",
   "execution_count": 47,
   "metadata": {},
   "outputs": [
    {
     "name": "stdout",
     "output_type": "stream",
     "text": [
      "{'char': ['a', 'b', 'c'], 'string': ['abc', 'bcd', 'cde']}\n"
     ]
    }
   ],
   "source": [
    "## assign dictionary to another variable\n",
    "datatpe={'float': [1.5, 2.5, 3.5], 'char': ['a', 'b', 'c'], 'string': ['abc', 'bcd', 'cde']}\n",
    "d = datatype\n",
    "print(d)"
   ]
  },
  {
   "cell_type": "code",
   "execution_count": 48,
   "metadata": {},
   "outputs": [],
   "source": [
    "# pop() already Covered"
   ]
  },
  {
   "cell_type": "code",
   "execution_count": null,
   "metadata": {},
   "outputs": [],
   "source": []
  }
 ],
 "metadata": {
  "kernelspec": {
   "display_name": "Python 3",
   "language": "python",
   "name": "python3"
  },
  "language_info": {
   "codemirror_mode": {
    "name": "ipython",
    "version": 3
   },
   "file_extension": ".py",
   "mimetype": "text/x-python",
   "name": "python",
   "nbconvert_exporter": "python",
   "pygments_lexer": "ipython3",
   "version": "3.7.3"
  },
  "toc": {
   "base_numbering": 1,
   "nav_menu": {},
   "number_sections": true,
   "sideBar": true,
   "skip_h1_title": false,
   "title_cell": "Table of Contents",
   "title_sidebar": "Contents",
   "toc_cell": false,
   "toc_position": {},
   "toc_section_display": true,
   "toc_window_display": false
  },
  "varInspector": {
   "cols": {
    "lenName": 16,
    "lenType": 16,
    "lenVar": 40
   },
   "kernels_config": {
    "python": {
     "delete_cmd_postfix": "",
     "delete_cmd_prefix": "del ",
     "library": "var_list.py",
     "varRefreshCmd": "print(var_dic_list())"
    },
    "r": {
     "delete_cmd_postfix": ") ",
     "delete_cmd_prefix": "rm(",
     "library": "var_list.r",
     "varRefreshCmd": "cat(var_dic_list()) "
    }
   },
   "types_to_exclude": [
    "module",
    "function",
    "builtin_function_or_method",
    "instance",
    "_Feature"
   ],
   "window_display": false
  }
 },
 "nbformat": 4,
 "nbformat_minor": 2
}

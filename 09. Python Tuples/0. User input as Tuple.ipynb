{
 "cells": [
  {
   "cell_type": "code",
   "execution_count": 4,
   "metadata": {},
   "outputs": [
    {
     "name": "stdout",
     "output_type": "stream",
     "text": [
      "Enter the Tuple : Hello World I am Python\n",
      "<class 'str'> :  Hello World I am Python\n",
      "<class 'list'> :  ['Hello', 'World', 'I', 'am', 'Python']\n",
      "<class 'tuple'> :  ('Hello', 'World', 'I', 'am', 'Python')\n"
     ]
    }
   ],
   "source": [
    "# idea: input as String, and make it list and make it tuple\n",
    "x = input(\"Enter the Tuple : \")\n",
    "print(type(x), \": \",x)\n",
    "x = x.strip().split(\" \")\n",
    "print(type(x), \": \", x)\n",
    "x=tuple(x)\n",
    "print(type(x), \": \", x)"
   ]
  },
  {
   "cell_type": "code",
   "execution_count": 6,
   "metadata": {},
   "outputs": [
    {
     "name": "stdout",
     "output_type": "stream",
     "text": [
      "Enter the Tuple : Hello World I am Python\n",
      "<class 'list'> :  ['Hello', 'World', 'I', 'am', 'Python']\n",
      "<class 'tuple'> :  ('Hello', 'World', 'I', 'am', 'Python')\n"
     ]
    }
   ],
   "source": [
    "# idea: input as String, and make it list and make it tuple (Simpler Version)\n",
    "x = input(\"Enter the Tuple : \").strip().split(\" \")\n",
    "print(type(x), \": \",x)\n",
    "x=tuple(x)\n",
    "print(type(x), \": \", x)"
   ]
  },
  {
   "cell_type": "code",
   "execution_count": null,
   "metadata": {},
   "outputs": [],
   "source": [
    "Hello World I am Python"
   ]
  }
 ],
 "metadata": {
  "kernelspec": {
   "display_name": "Python [conda env:myenvDS]",
   "language": "python",
   "name": "conda-env-myenvDS-py"
  },
  "language_info": {
   "codemirror_mode": {
    "name": "ipython",
    "version": 3
   },
   "file_extension": ".py",
   "mimetype": "text/x-python",
   "name": "python",
   "nbconvert_exporter": "python",
   "pygments_lexer": "ipython3",
   "version": "3.7.3"
  }
 },
 "nbformat": 4,
 "nbformat_minor": 2
}

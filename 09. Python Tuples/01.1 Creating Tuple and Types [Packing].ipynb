{
 "cells": [
  {
   "cell_type": "code",
   "execution_count": 1,
   "metadata": {},
   "outputs": [],
   "source": [
    "# creating tuple using () brackets"
   ]
  },
  {
   "cell_type": "code",
   "execution_count": 3,
   "metadata": {},
   "outputs": [
    {
     "name": "stdout",
     "output_type": "stream",
     "text": [
      "('PENAN', 'CHETAN', 'RAHUL')\n"
     ]
    }
   ],
   "source": [
    "names = (\"PENAN\", \"CHETAN\", \"RAHUL\")\n",
    "print(names)"
   ]
  },
  {
   "cell_type": "code",
   "execution_count": 4,
   "metadata": {},
   "outputs": [],
   "source": [
    "# types"
   ]
  },
  {
   "cell_type": "code",
   "execution_count": 19,
   "metadata": {},
   "outputs": [],
   "source": [
    "# types of list\n",
    "numInt = (1, 2, 3, 4, 5, 6, 7, 8, 9, 10, 11, 12, 13, 14) # tuple of integers\n",
    "Flower = (\"Rose\", \"Lily\", \"Daisy\", \"Iris\", \"Lavender\", \"Sunflower\", \"Violet\", \"Waxflower\" ) # tuple of strings\n",
    "numFloat = (1.1, 1.2, 1.3, 1.4, 1.5, 1.6, 1.7, 1.8, 1.9, 2.0 ) # tuple of float\n",
    "TFList = ( True, False, True, False ) # tuple of true-false\n",
    "emptyList = () # empty tuple\n",
    "Dtuple = ((1,2,3), (4,5,6), (7,8,9)) # 2D tuple ## Tuple in tuple\n",
    "student = (\"PENAN\", 20, \"B.Tech.\") # mix datatype\n",
    "students_info = ((\"PENAN\", 20, \"CRICKET\"), (\"CHETAN\", 21, \"FOOTBALL\"), (\"RAHUL\", 22, \"PROGRAMMING\")) # Tuple in tuple ## mix datatype"
   ]
  },
  {
   "cell_type": "code",
   "execution_count": 20,
   "metadata": {},
   "outputs": [
    {
     "name": "stdout",
     "output_type": "stream",
     "text": [
      "(1, 2, 3, 4, 5, 6, 7, 8, 9, 10, 11, 12, 13, 14)\n",
      "('Rose', 'Lily', 'Daisy', 'Iris', 'Lavender', 'Sunflower', 'Violet', 'Waxflower')\n",
      "(1.1, 1.2, 1.3, 1.4, 1.5, 1.6, 1.7, 1.8, 1.9, 2.0)\n",
      "(True, False, True, False)\n",
      "()\n",
      "((1, 2, 3), (4, 5, 6), (7, 8, 9))\n",
      "('PENAN', 20, 'B.Tech.')\n",
      "(('PENAN', 20, 'CRICKET'), ('CHETAN', 21, 'FOOTBALL'), ('RAHUL', 22, 'PROGRAMMING'))\n"
     ]
    }
   ],
   "source": [
    "print(numInt)\n",
    "print(Flower)\n",
    "print(numFloat)\n",
    "print(TFList)\n",
    "print(emptyList)\n",
    "print(Dtuple)\n",
    "print(student)\n",
    "print(students_info)"
   ]
  },
  {
   "cell_type": "markdown",
   "metadata": {},
   "source": [
    "# Packing -> Creating on Tuple on assignment"
   ]
  },
  {
   "cell_type": "code",
   "execution_count": 2,
   "metadata": {
    "ExecuteTime": {
     "end_time": "2019-07-06T21:14:49.040191Z",
     "start_time": "2019-07-06T21:14:49.033132Z"
    }
   },
   "outputs": [
    {
     "data": {
      "text/plain": [
       "(10, 20, 30, 40, 50)"
      ]
     },
     "execution_count": 2,
     "metadata": {},
     "output_type": "execute_result"
    }
   ],
   "source": [
    "nums = 10, 20, 30, 40 ,50\n",
    "nums"
   ]
  },
  {
   "cell_type": "code",
   "execution_count": 6,
   "metadata": {
    "ExecuteTime": {
     "end_time": "2019-07-06T21:15:26.548893Z",
     "start_time": "2019-07-06T21:15:26.544381Z"
    }
   },
   "outputs": [
    {
     "name": "stdout",
     "output_type": "stream",
     "text": [
      "<class 'tuple'>\n"
     ]
    }
   ],
   "source": [
    "print(type(nums))"
   ]
  },
  {
   "cell_type": "code",
   "execution_count": null,
   "metadata": {},
   "outputs": [],
   "source": []
  }
 ],
 "metadata": {
  "kernelspec": {
   "display_name": "Python 3",
   "language": "python",
   "name": "python3"
  },
  "language_info": {
   "codemirror_mode": {
    "name": "ipython",
    "version": 3
   },
   "file_extension": ".py",
   "mimetype": "text/x-python",
   "name": "python",
   "nbconvert_exporter": "python",
   "pygments_lexer": "ipython3",
   "version": "3.7.3"
  },
  "toc": {
   "base_numbering": 1,
   "nav_menu": {},
   "number_sections": true,
   "sideBar": true,
   "skip_h1_title": false,
   "title_cell": "Table of Contents",
   "title_sidebar": "Contents",
   "toc_cell": false,
   "toc_position": {},
   "toc_section_display": true,
   "toc_window_display": false
  },
  "varInspector": {
   "cols": {
    "lenName": 16,
    "lenType": 16,
    "lenVar": 40
   },
   "kernels_config": {
    "python": {
     "delete_cmd_postfix": "",
     "delete_cmd_prefix": "del ",
     "library": "var_list.py",
     "varRefreshCmd": "print(var_dic_list())"
    },
    "r": {
     "delete_cmd_postfix": ") ",
     "delete_cmd_prefix": "rm(",
     "library": "var_list.r",
     "varRefreshCmd": "cat(var_dic_list()) "
    }
   },
   "types_to_exclude": [
    "module",
    "function",
    "builtin_function_or_method",
    "instance",
    "_Feature"
   ],
   "window_display": false
  }
 },
 "nbformat": 4,
 "nbformat_minor": 2
}

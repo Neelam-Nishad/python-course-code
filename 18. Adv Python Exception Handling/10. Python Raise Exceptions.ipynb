{
 "cells": [
  {
   "cell_type": "markdown",
   "metadata": {},
   "source": [
    "## Raise of Exception"
   ]
  },
  {
   "cell_type": "markdown",
   "metadata": {
    "ExecuteTime": {
     "end_time": "2019-06-29T21:14:40.544987Z",
     "start_time": "2019-06-29T21:14:40.537966Z"
    }
   },
   "source": [
    "**Python also provides the raise keyword to be used in the context of exception handling. It causes an exception to be generated explicitly. Built-in errors are raised implicitly. However, a built-in or custom exception can be forced during execution.**"
   ]
  },
  {
   "cell_type": "code",
   "execution_count": 2,
   "metadata": {
    "ExecuteTime": {
     "end_time": "2019-06-29T21:20:01.917066Z",
     "start_time": "2019-06-29T21:19:58.248185Z"
    }
   },
   "outputs": [
    {
     "name": "stdout",
     "output_type": "stream",
     "text": [
      "Enter the value:950\n",
      "Next Statement in Try \n",
      "When no Error Occurs i.e. value less than 1000 entered\n",
      "We finally out of try-except block\n"
     ]
    }
   ],
   "source": [
    "try:\n",
    "    num = int(input(\"Enter the value:\"))\n",
    "    if num > 1000:\n",
    "        raise ValueError\n",
    "    print(\"Next Statement in Try \")\n",
    "except ValueError:\n",
    "    print(\"ValueError occured\")\n",
    "except :\n",
    "    print(\"Other Error Occured\")\n",
    "else:\n",
    "    print(\"When no Error Occurs i.e. value less than 1000 entered\")\n",
    "finally:\n",
    "    print(\"We finally out of try-except block\")"
   ]
  },
  {
   "cell_type": "code",
   "execution_count": 3,
   "metadata": {
    "ExecuteTime": {
     "end_time": "2019-06-29T21:20:11.136061Z",
     "start_time": "2019-06-29T21:20:07.281477Z"
    }
   },
   "outputs": [
    {
     "name": "stdout",
     "output_type": "stream",
     "text": [
      "Enter the value:1050\n",
      "ValueError occured\n",
      "We finally out of try-except block\n"
     ]
    }
   ],
   "source": [
    "try:\n",
    "    num = int(input(\"Enter the value:\"))\n",
    "    if num > 1000:\n",
    "        raise ValueError\n",
    "    print(\"Next Statement in Try \")\n",
    "except ValueError:\n",
    "    print(\"ValueError occured\")\n",
    "except :\n",
    "    print(\"Other Error Occured\")\n",
    "else:\n",
    "    print(\"When no Error Occurs i.e. value less than 1000 entered\")\n",
    "finally:\n",
    "    print(\"We finally out of try-except block\")"
   ]
  },
  {
   "cell_type": "code",
   "execution_count": null,
   "metadata": {},
   "outputs": [],
   "source": []
  }
 ],
 "metadata": {
  "kernelspec": {
   "display_name": "Python 3",
   "language": "python",
   "name": "python3"
  },
  "language_info": {
   "codemirror_mode": {
    "name": "ipython",
    "version": 3
   },
   "file_extension": ".py",
   "mimetype": "text/x-python",
   "name": "python",
   "nbconvert_exporter": "python",
   "pygments_lexer": "ipython3",
   "version": "3.7.3"
  },
  "toc": {
   "base_numbering": 1,
   "nav_menu": {},
   "number_sections": true,
   "sideBar": true,
   "skip_h1_title": false,
   "title_cell": "Table of Contents",
   "title_sidebar": "Contents",
   "toc_cell": false,
   "toc_position": {},
   "toc_section_display": true,
   "toc_window_display": false
  },
  "varInspector": {
   "cols": {
    "lenName": 16,
    "lenType": 16,
    "lenVar": 40
   },
   "kernels_config": {
    "python": {
     "delete_cmd_postfix": "",
     "delete_cmd_prefix": "del ",
     "library": "var_list.py",
     "varRefreshCmd": "print(var_dic_list())"
    },
    "r": {
     "delete_cmd_postfix": ") ",
     "delete_cmd_prefix": "rm(",
     "library": "var_list.r",
     "varRefreshCmd": "cat(var_dic_list()) "
    }
   },
   "types_to_exclude": [
    "module",
    "function",
    "builtin_function_or_method",
    "instance",
    "_Feature"
   ],
   "window_display": false
  }
 },
 "nbformat": 4,
 "nbformat_minor": 2
}

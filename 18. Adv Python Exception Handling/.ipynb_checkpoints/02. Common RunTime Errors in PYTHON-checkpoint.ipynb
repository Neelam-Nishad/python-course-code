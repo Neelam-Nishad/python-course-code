{
 "cells": [
  {
   "cell_type": "markdown",
   "metadata": {
    "ExecuteTime": {
     "end_time": "2019-06-29T20:55:43.496050Z",
     "start_time": "2019-06-29T20:55:43.477499Z"
    }
   },
   "source": [
    "Exception\tCause of Error  \n",
    "AssertionError\tRaised when assert statement fails.  \n",
    "AttributeError\tRaised when attribute assignment or reference fails.  \n",
    "EOFError\tRaised when the input() functions hits end-of-file condition.  \n",
    "FloatingPointError\tRaised when a floating point operation fails.  \n",
    "GeneratorExit\tRaise when a generator's close() method is called.  \n",
    "ImportError\tRaised when the imported module is not found.  \n",
    "IndexError\tRaised when index of a sequence is out of range.  \n",
    "KeyError\tRaised when a key is not found in a dictionary.  \n",
    "KeyboardInterrupt\tRaised when the user hits interrupt key (Ctrl+c or delete).  \n",
    "MemoryError\tRaised when an operation runs out of memory.  \n",
    "NameError\tRaised when a variable is not found in local or global scope.  \n",
    "NotImplementedError\tRaised by abstract methods.  \n",
    "OSError\tRaised when system operation causes system related error.  \n",
    "OverflowError\tRaised when result of an arithmetic operation is too large to be represented.  \n",
    "ReferenceError\tRaised when a weak reference proxy is used to access a garbage collected referent.  \n",
    "RuntimeError\tRaised when an error does not fall under any other category.  \n",
    "StopIteration\tRaised by next() function to indicate that there is no further item to be returned by iterator.  \n",
    "SyntaxError\tRaised by parser when syntax error is encountered.  \n",
    "IndentationError\tRaised when there is incorrect indentation.  \n",
    "TabError\tRaised when indentation consists of inconsistent tabs and spaces.  \n",
    "SystemError\tRaised when interpreter detects internal error.  \n",
    "SystemExit\tRaised by sys.exit() function.  \n",
    "TypeError\tRaised when a function or operation is applied to an object of incorrect type.  \n",
    "UnboundLocalError\tRaised when a reference is made to a local variable in a function or method, but no value has been bound to that variable.  \n",
    "UnicodeError\tRaised when a Unicode-related encoding or decoding error occurs.  \n",
    "UnicodeEncodeError\tRaised when a Unicode-related error occurs during encoding.  \n",
    "UnicodeDecodeError\tRaised when a Unicode-related error occurs during decoding.  \n",
    "UnicodeTranslateError\tRaised when a Unicode-related error occurs during translating.  \n",
    "ValueError\tRaised when a function gets argument of correct type but improper value.  \n",
    "ZeroDivisionError\tRaised when second operand of division or modulo operation is zero.  "
   ]
  },
  {
   "cell_type": "code",
   "execution_count": null,
   "metadata": {},
   "outputs": [],
   "source": []
  }
 ],
 "metadata": {
  "kernelspec": {
   "display_name": "Python 3",
   "language": "python",
   "name": "python3"
  },
  "language_info": {
   "codemirror_mode": {
    "name": "ipython",
    "version": 3
   },
   "file_extension": ".py",
   "mimetype": "text/x-python",
   "name": "python",
   "nbconvert_exporter": "python",
   "pygments_lexer": "ipython3",
   "version": "3.7.3"
  },
  "toc": {
   "base_numbering": 1,
   "nav_menu": {},
   "number_sections": true,
   "sideBar": true,
   "skip_h1_title": false,
   "title_cell": "Table of Contents",
   "title_sidebar": "Contents",
   "toc_cell": false,
   "toc_position": {},
   "toc_section_display": true,
   "toc_window_display": false
  },
  "varInspector": {
   "cols": {
    "lenName": 16,
    "lenType": 16,
    "lenVar": 40
   },
   "kernels_config": {
    "python": {
     "delete_cmd_postfix": "",
     "delete_cmd_prefix": "del ",
     "library": "var_list.py",
     "varRefreshCmd": "print(var_dic_list())"
    },
    "r": {
     "delete_cmd_postfix": ") ",
     "delete_cmd_prefix": "rm(",
     "library": "var_list.r",
     "varRefreshCmd": "cat(var_dic_list()) "
    }
   },
   "types_to_exclude": [
    "module",
    "function",
    "builtin_function_or_method",
    "instance",
    "_Feature"
   ],
   "window_display": false
  }
 },
 "nbformat": 4,
 "nbformat_minor": 2
}

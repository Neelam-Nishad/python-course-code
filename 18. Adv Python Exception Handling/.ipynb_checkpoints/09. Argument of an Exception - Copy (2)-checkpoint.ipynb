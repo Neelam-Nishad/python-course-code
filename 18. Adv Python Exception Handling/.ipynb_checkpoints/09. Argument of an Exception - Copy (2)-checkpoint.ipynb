{
 "cells": [
  {
   "cell_type": "markdown",
   "metadata": {},
   "source": [
    "# prefered custom except > any except"
   ]
  },
  {
   "cell_type": "code",
   "execution_count": 2,
   "metadata": {
    "ExecuteTime": {
     "end_time": "2019-06-29T21:21:36.627785Z",
     "start_time": "2019-06-29T21:21:32.583824Z"
    }
   },
   "outputs": [
    {
     "name": "stdout",
     "output_type": "stream",
     "text": [
      "Enter the value:1050\n",
      "ValueError occured\n",
      "We finally out of try-except block\n"
     ]
    }
   ],
   "source": [
    "try:\n",
    "    num = int(input(\"Enter the value:\"))\n",
    "    if num > 1000:\n",
    "        raise ValueError\n",
    "    print(\"Next Statement in Try \")\n",
    "except ValueError:\n",
    "    print(\"ValueError occured\")\n",
    "except :\n",
    "    print(\"Other Error Occured\")\n",
    "finally:\n",
    "    print(\"We finally out of try-except block\")"
   ]
  },
  {
   "cell_type": "markdown",
   "metadata": {},
   "source": [
    "# many custom except"
   ]
  },
  {
   "cell_type": "code",
   "execution_count": 6,
   "metadata": {
    "ExecuteTime": {
     "end_time": "2019-06-29T21:25:17.305658Z",
     "start_time": "2019-06-29T21:25:17.300609Z"
    }
   },
   "outputs": [
    {
     "name": "stdout",
     "output_type": "stream",
     "text": [
      "TypeError occured\n"
     ]
    }
   ],
   "source": [
    "try:\n",
    "    5/'0'\n",
    "    print(\"Next Statement in Try \")\n",
    "except ValueError:\n",
    "    print(\"ValueError occured\")\n",
    "except ZeroDivisionError:\n",
    "    print(\"ZeroDivisionError Occured\")\n",
    "except TypeError:\n",
    "    print('TypeError occured')"
   ]
  },
  {
   "cell_type": "code",
   "execution_count": 8,
   "metadata": {
    "ExecuteTime": {
     "end_time": "2019-06-29T21:25:52.856393Z",
     "start_time": "2019-06-29T21:25:52.851415Z"
    }
   },
   "outputs": [
    {
     "name": "stdout",
     "output_type": "stream",
     "text": [
      "ValueError occured\n"
     ]
    }
   ],
   "source": [
    "try:\n",
    "    int('x')\n",
    "    print(\"Next Statement in Try \")\n",
    "except ValueError:\n",
    "    print(\"ValueError occured\")\n",
    "except ZeroDivisionError:\n",
    "    print(\"ZeroDivisionError Occured\")\n",
    "except TypeError:\n",
    "    print('TypeError occured')"
   ]
  },
  {
   "cell_type": "code",
   "execution_count": 9,
   "metadata": {
    "ExecuteTime": {
     "end_time": "2019-06-29T21:26:22.115052Z",
     "start_time": "2019-06-29T21:26:22.109541Z"
    }
   },
   "outputs": [
    {
     "name": "stdout",
     "output_type": "stream",
     "text": [
      "ZeroDivisionError Occured\n"
     ]
    }
   ],
   "source": [
    "try:\n",
    "    5/0\n",
    "    print(\"Next Statement in Try \")\n",
    "except ValueError:\n",
    "    print(\"ValueError occured\")\n",
    "except ZeroDivisionError:\n",
    "    print(\"ZeroDivisionError Occured\")\n",
    "except TypeError:\n",
    "    print('TypeError occured')"
   ]
  },
  {
   "cell_type": "code",
   "execution_count": null,
   "metadata": {},
   "outputs": [],
   "source": []
  }
 ],
 "metadata": {
  "kernelspec": {
   "display_name": "Python [conda env:myenvDS]",
   "language": "python",
   "name": "conda-env-myenvDS-py"
  },
  "language_info": {
   "codemirror_mode": {
    "name": "ipython",
    "version": 3
   },
   "file_extension": ".py",
   "mimetype": "text/x-python",
   "name": "python",
   "nbconvert_exporter": "python",
   "pygments_lexer": "ipython3",
   "version": "3.7.3"
  },
  "toc": {
   "base_numbering": 1,
   "nav_menu": {},
   "number_sections": true,
   "sideBar": true,
   "skip_h1_title": false,
   "title_cell": "Table of Contents",
   "title_sidebar": "Contents",
   "toc_cell": false,
   "toc_position": {},
   "toc_section_display": true,
   "toc_window_display": false
  },
  "varInspector": {
   "cols": {
    "lenName": 16,
    "lenType": 16,
    "lenVar": 40
   },
   "kernels_config": {
    "python": {
     "delete_cmd_postfix": "",
     "delete_cmd_prefix": "del ",
     "library": "var_list.py",
     "varRefreshCmd": "print(var_dic_list())"
    },
    "r": {
     "delete_cmd_postfix": ") ",
     "delete_cmd_prefix": "rm(",
     "library": "var_list.r",
     "varRefreshCmd": "cat(var_dic_list()) "
    }
   },
   "types_to_exclude": [
    "module",
    "function",
    "builtin_function_or_method",
    "instance",
    "_Feature"
   ],
   "window_display": false
  }
 },
 "nbformat": 4,
 "nbformat_minor": 2
}

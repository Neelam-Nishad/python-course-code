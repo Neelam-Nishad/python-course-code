{
 "cells": [
  {
   "cell_type": "markdown",
   "metadata": {
    "ExecuteTime": {
     "end_time": "2019-06-28T20:20:29.862054Z",
     "start_time": "2019-06-28T20:20:29.855571Z"
    }
   },
   "source": [
    "**OS Module Overview**  \n",
    "**The OS module in Python provides a way of using operating system dependent\n",
    "functionality.**\n",
    "\n",
    "The functions that the OS module provides allows you to interface with the\n",
    "underlying operating system that Python is running on – be that Windows, Mac or\n",
    "Linux. \n",
    "\n",
    "You can find important information about your location or about the process. \n",
    "\n",
    "In this post I will show some of these functions."
   ]
  },
  {
   "cell_type": "markdown",
   "metadata": {},
   "source": [
    "OS functions  \n",
    "**import os**\n",
    " \n",
    "Executing a shell command  \n",
    "**os.system()**\n",
    "\n",
    "Get the users environment   \n",
    "**os.environ()**\n",
    "\n",
    "#Returns the current working directory.  \n",
    "**os.getcwd()**\n",
    "\n",
    "Return the real group id of the current process.   \n",
    "**os.getgid()**    \n",
    "\n",
    "Return the current process’s user id.   \n",
    "**os.getuid()**\n",
    "\n",
    "Returns the real process ID of the current process.  \n",
    "**os.getpid()**    \n",
    "\n",
    "Set the current numeric umask and return the previous umask.  \n",
    "**os.umask(mask)**   \n",
    "\n",
    "Return information identifying the current operating system.  \n",
    "**os.uname()**     \n",
    "\n",
    "Change the root directory of the current process to path.  \n",
    "**os.chroot(path)**   \n",
    "\n",
    "Return a list of the entries in the directory given by path.  \n",
    "**os.listdir(path)** \n",
    "\n",
    "Create a directory named path with numeric mode mode.  \n",
    "**os.mkdir(path)**    \n",
    "\n",
    "Recursive directory creation function.  \n",
    "**os.makedirs(path)**  \n",
    "\n",
    "Remove (delete) the file path.  \n",
    "**os.remove(path)**    \n",
    "\n",
    "Remove directories recursively.  \n",
    "**os.removedirs(path)** \n",
    "\n",
    "Rename the file or directory src to dst.  \n",
    "**os.rename(src, dst)**  \n",
    "\n",
    "Remove (delete) the directory path.  \n",
    "**os.rmdir(path)**    "
   ]
  }
 ],
 "metadata": {
  "kernelspec": {
   "display_name": "Python 3",
   "language": "python",
   "name": "python3"
  },
  "language_info": {
   "codemirror_mode": {
    "name": "ipython",
    "version": 3
   },
   "file_extension": ".py",
   "mimetype": "text/x-python",
   "name": "python",
   "nbconvert_exporter": "python",
   "pygments_lexer": "ipython3",
   "version": "3.7.3"
  },
  "toc": {
   "base_numbering": 1,
   "nav_menu": {},
   "number_sections": true,
   "sideBar": true,
   "skip_h1_title": false,
   "title_cell": "Table of Contents",
   "title_sidebar": "Contents",
   "toc_cell": false,
   "toc_position": {},
   "toc_section_display": true,
   "toc_window_display": false
  },
  "varInspector": {
   "cols": {
    "lenName": 16,
    "lenType": 16,
    "lenVar": 40
   },
   "kernels_config": {
    "python": {
     "delete_cmd_postfix": "",
     "delete_cmd_prefix": "del ",
     "library": "var_list.py",
     "varRefreshCmd": "print(var_dic_list())"
    },
    "r": {
     "delete_cmd_postfix": ") ",
     "delete_cmd_prefix": "rm(",
     "library": "var_list.r",
     "varRefreshCmd": "cat(var_dic_list()) "
    }
   },
   "types_to_exclude": [
    "module",
    "function",
    "builtin_function_or_method",
    "instance",
    "_Feature"
   ],
   "window_display": false
  }
 },
 "nbformat": 4,
 "nbformat_minor": 2
}

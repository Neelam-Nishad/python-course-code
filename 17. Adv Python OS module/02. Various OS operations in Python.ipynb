{
 "cells": [
  {
   "cell_type": "markdown",
   "metadata": {},
   "source": [
    "**File System Methods**  \n",
    "**1. [get the current working directory path as a string ](#section1)**    \n",
    "**2. [get the contents of the current working directory as a list of strings ](#section2)**  \n",
    "**3.  [change the current working directory](#section3)**  \n",
    "**4. [make directory](#section4)**    \n",
    "**5.  [copy a file or directory ](#section5)**   \n",
    "**6. [move a file or directory](#section6)**   \n",
    "**7. [remove a file ](#section7)**    \n",
    "**8. [remove a directory and all files and directories in it](#section8)**   "
   ]
  },
  {
   "cell_type": "code",
   "execution_count": 1,
   "metadata": {
    "ExecuteTime": {
     "end_time": "2019-06-28T21:19:34.560835Z",
     "start_time": "2019-06-28T21:19:34.420960Z"
    }
   },
   "outputs": [],
   "source": [
    "# setting before executing next cells\n",
    "import os\n",
    "os.mkdir(\"new\")\n",
    "f = open(\"new/src.py\", \"w+\")\n",
    "f.close()"
   ]
  },
  {
   "cell_type": "markdown",
   "metadata": {},
   "source": [
    "<a id=\"section1\"></a>\n",
    "**1. get the current working directory path as a string**  \n",
    "**os.getcwd()** get the current working directory path as a string "
   ]
  },
  {
   "cell_type": "code",
   "execution_count": null,
   "metadata": {
    "ExecuteTime": {
     "end_time": "2019-06-28T21:19:34.569894Z",
     "start_time": "2019-06-28T21:19:34.397Z"
    }
   },
   "outputs": [],
   "source": [
    "import os\n",
    "os.getcwd()"
   ]
  },
  {
   "cell_type": "markdown",
   "metadata": {},
   "source": [
    "<a id=\"section2\"></a>\n",
    "2. get the contents of the current working directory as a list of strings   \n",
    "**os.listdir()** "
   ]
  },
  {
   "cell_type": "code",
   "execution_count": null,
   "metadata": {
    "ExecuteTime": {
     "end_time": "2019-06-28T21:19:34.571397Z",
     "start_time": "2019-06-28T21:19:34.400Z"
    },
    "scrolled": true
   },
   "outputs": [],
   "source": [
    "import os\n",
    "os.listdir()"
   ]
  },
  {
   "cell_type": "markdown",
   "metadata": {},
   "source": [
    "<a id=\"section3\"></a>\n",
    "**3.  change the current working directory**  \n",
    "os.chdir(\"/absolute/or/relative/path\") — change the current working directory"
   ]
  },
  {
   "cell_type": "code",
   "execution_count": null,
   "metadata": {
    "ExecuteTime": {
     "end_time": "2019-06-28T21:19:34.572902Z",
     "start_time": "2019-06-28T21:19:34.404Z"
    },
    "scrolled": false
   },
   "outputs": [],
   "source": [
    "import os\n",
    "os.chdir(\"new\")\n",
    "print(os.getcwd())"
   ]
  },
  {
   "cell_type": "markdown",
   "metadata": {},
   "source": [
    "<a id=\"section4\"></a>\n",
    "**4. make directory**  \n",
    "os.makedirs(\"dir1/dir2\") — make directory"
   ]
  },
  {
   "cell_type": "code",
   "execution_count": null,
   "metadata": {
    "ExecuteTime": {
     "end_time": "2019-06-28T21:19:34.573867Z",
     "start_time": "2019-06-28T21:19:34.407Z"
    }
   },
   "outputs": [],
   "source": [
    "os.makedirs(\"next\")"
   ]
  },
  {
   "cell_type": "markdown",
   "metadata": {},
   "source": [
    "<a id=\"section5\"></a>\n",
    "**5.  copy a file or directory**  \n",
    "shutil.copy2(\"source_file_path\", \"destination_directory_path\") — copy a file or directory "
   ]
  },
  {
   "cell_type": "code",
   "execution_count": null,
   "metadata": {
    "ExecuteTime": {
     "end_time": "2019-06-28T21:19:34.575373Z",
     "start_time": "2019-06-28T21:19:34.410Z"
    }
   },
   "outputs": [],
   "source": [
    "import shutil\n",
    "shutil.copy(\"src.py\", \"next/dest.py\")"
   ]
  },
  {
   "cell_type": "markdown",
   "metadata": {
    "ExecuteTime": {
     "end_time": "2019-06-28T20:41:25.407827Z",
     "start_time": "2019-06-28T20:41:25.400805Z"
    }
   },
   "source": [
    "<a id=\"section6\"></a>\n",
    "**6. move a file or directory**  \n",
    "shutil.move(\"source_file_path\", \"destination_directory_path\") — move a file or directory "
   ]
  },
  {
   "cell_type": "code",
   "execution_count": null,
   "metadata": {
    "ExecuteTime": {
     "end_time": "2019-06-28T21:19:34.576913Z",
     "start_time": "2019-06-28T21:19:34.413Z"
    }
   },
   "outputs": [],
   "source": [
    "shutil.move(\"src.py\", \"next/dest2.py\")"
   ]
  },
  {
   "cell_type": "markdown",
   "metadata": {
    "ExecuteTime": {
     "end_time": "2019-06-28T20:41:43.453682Z",
     "start_time": "2019-06-28T20:41:43.447169Z"
    }
   },
   "source": [
    "<a id=\"section7\"></a>\n",
    "**7. remove a file**  \n",
    "os.remove(\"my_file_path\") — remove a file "
   ]
  },
  {
   "cell_type": "code",
   "execution_count": null,
   "metadata": {
    "ExecuteTime": {
     "end_time": "2019-06-28T21:19:34.578379Z",
     "start_time": "2019-06-28T21:19:34.416Z"
    }
   },
   "outputs": [],
   "source": [
    "os.remove(\"next/dest2.py\")"
   ]
  },
  {
   "cell_type": "markdown",
   "metadata": {},
   "source": [
    "<a id=\"section8\"></a>\n",
    "**8. remove a directory and all files and directories in it**  \n",
    "shutil.rmtree(\"my_directory_path\")— remove a directory and all files and directories in it"
   ]
  },
  {
   "cell_type": "code",
   "execution_count": null,
   "metadata": {
    "ExecuteTime": {
     "end_time": "2019-06-28T21:19:34.579886Z",
     "start_time": "2019-06-28T21:19:34.421Z"
    }
   },
   "outputs": [],
   "source": [
    "shutil.rmtree(\"next\")"
   ]
  },
  {
   "cell_type": "code",
   "execution_count": null,
   "metadata": {
    "ExecuteTime": {
     "end_time": "2019-06-28T21:19:34.582393Z",
     "start_time": "2019-06-28T21:19:34.424Z"
    }
   },
   "outputs": [],
   "source": [
    "os.chdir(\"..\")"
   ]
  },
  {
   "cell_type": "code",
   "execution_count": null,
   "metadata": {
    "ExecuteTime": {
     "end_time": "2019-06-28T21:19:34.585399Z",
     "start_time": "2019-06-28T21:19:34.431Z"
    }
   },
   "outputs": [],
   "source": [
    "os.getcwd()"
   ]
  },
  {
   "cell_type": "code",
   "execution_count": 4,
   "metadata": {
    "ExecuteTime": {
     "end_time": "2019-06-28T21:20:47.657867Z",
     "start_time": "2019-06-28T21:20:47.652812Z"
    }
   },
   "outputs": [],
   "source": [
    "import shutil\n",
    "shutil.rmtree(\"new\")"
   ]
  },
  {
   "cell_type": "code",
   "execution_count": null,
   "metadata": {},
   "outputs": [],
   "source": []
  }
 ],
 "metadata": {
  "kernelspec": {
   "display_name": "Python 3",
   "language": "python",
   "name": "python3"
  },
  "language_info": {
   "codemirror_mode": {
    "name": "ipython",
    "version": 3
   },
   "file_extension": ".py",
   "mimetype": "text/x-python",
   "name": "python",
   "nbconvert_exporter": "python",
   "pygments_lexer": "ipython3",
   "version": "3.7.3"
  },
  "toc": {
   "base_numbering": 1,
   "nav_menu": {
    "height": "382px",
    "width": "232px"
   },
   "number_sections": true,
   "sideBar": true,
   "skip_h1_title": false,
   "title_cell": "Table of Contents",
   "title_sidebar": "Contents",
   "toc_cell": false,
   "toc_position": {},
   "toc_section_display": true,
   "toc_window_display": false
  },
  "varInspector": {
   "cols": {
    "lenName": 16,
    "lenType": 16,
    "lenVar": 40
   },
   "kernels_config": {
    "python": {
     "delete_cmd_postfix": "",
     "delete_cmd_prefix": "del ",
     "library": "var_list.py",
     "varRefreshCmd": "print(var_dic_list())"
    },
    "r": {
     "delete_cmd_postfix": ") ",
     "delete_cmd_prefix": "rm(",
     "library": "var_list.r",
     "varRefreshCmd": "cat(var_dic_list()) "
    }
   },
   "types_to_exclude": [
    "module",
    "function",
    "builtin_function_or_method",
    "instance",
    "_Feature"
   ],
   "window_display": false
  }
 },
 "nbformat": 4,
 "nbformat_minor": 2
}

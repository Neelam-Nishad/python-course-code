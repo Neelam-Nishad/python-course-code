{
 "cells": [
  {
   "cell_type": "code",
   "execution_count": 41,
   "metadata": {},
   "outputs": [],
   "source": [
    "# 1.1 Accessing Items in Python List\n",
    "# 1.2 Update A List Item / Replacemet of list element(s)\n",
    "# 1.3 Deleting an item in a list\n",
    "# 1.4 Addition of Two or more lists\n",
    "# 1.5 Some built-in python list functions"
   ]
  },
  {
   "cell_type": "code",
   "execution_count": 38,
   "metadata": {},
   "outputs": [
    {
     "name": "stdout",
     "output_type": "stream",
     "text": [
      "[0, 1, 2, 3, 4, 5, 6, 7, 8, 9]\n",
      "num[5] :  5\n",
      "channging the value num[5] to 'off' : \n",
      "num[5] :  off\n",
      "[0, 1, 2, 3, 4, 'off', 6, 7, 8, 9]\n"
     ]
    }
   ],
   "source": [
    "# update a list item\n",
    "# change the value of list item \n",
    "# we use the index :\n",
    "num = [0, 1, 2, 3, 4, 5, 6, 7, 8, 9]\n",
    "print(num)\n",
    "print(\"num[5] : \", num[5])\n",
    "num[5]= \"off\"\n",
    "print(\"channging the value num[5] to 'off' : \")\n",
    "print(\"num[5] : \", num[5])\n",
    "print(num)"
   ]
  },
  {
   "cell_type": "code",
   "execution_count": 39,
   "metadata": {},
   "outputs": [
    {
     "name": "stdout",
     "output_type": "stream",
     "text": [
      "[0, 1, 2, 3, 4, 5, 6, 7, 8, 9]\n",
      "change 2nd to 4th items : \n",
      "list after updation :  [0, 1, 'PENAN', 'CHETAN', 'RAHUL', 4, 5, 6, 7, 8, 9]\n"
     ]
    }
   ],
   "source": [
    "# updation \n",
    "# change 2nd to 4th items\n",
    "num = [0, 1, 2, 3, 4, 5, 6, 7, 8, 9]\n",
    "print(num)\n",
    "print(\"change 2nd to 4th items : \")\n",
    "num [2:4] = [\"PENAN\", \"CHETAN\", \"RAHUL\"]\n",
    "print(\"list after updation : \", num)"
   ]
  },
  {
   "cell_type": "code",
   "execution_count": 7,
   "metadata": {},
   "outputs": [
    {
     "name": "stdout",
     "output_type": "stream",
     "text": [
      "[0, 1, 3, 4, 5, 6, 7, 8, 9]\n"
     ]
    }
   ],
   "source": [
    "# removing the item from list\n",
    "\n",
    "# using del keyword\n",
    "num = [0, 1, 2, 3, 4, 5, 6, 7, 8, 9]\n",
    "del num[2]\n",
    "print(num)"
   ]
  },
  {
   "cell_type": "code",
   "execution_count": 43,
   "metadata": {},
   "outputs": [
    {
     "name": "stdout",
     "output_type": "stream",
     "text": [
      "[0, 1, 2, 3, 4, 6, 7, 8, 9]\n"
     ]
    }
   ],
   "source": [
    "# using pop function of list\n",
    "# syntax : list_name.pop(index)\n",
    "\n",
    "num = [0, 1, 2, 3, 4, 5, 6, 7, 8, 9]\n",
    "num.pop(5)\n",
    "print(num)"
   ]
  },
  {
   "cell_type": "code",
   "execution_count": 46,
   "metadata": {},
   "outputs": [
    {
     "name": "stdout",
     "output_type": "stream",
     "text": [
      "['PENAN', 'CHETAN', 'RAHUL', 10, 12, 13, 97, 99, 97]\n"
     ]
    }
   ],
   "source": [
    "# Addition of lists into one makes list\n",
    "# not list in lists\n",
    "# we use + operator\n",
    "name = [\"PENAN\", \"CHETAN\", \"RAHUL\"]\n",
    "age = [10, 12, 13]\n",
    "marks = [97, 99, 97]\n",
    "\n",
    "students = name + age + marks \n",
    "print(students)"
   ]
  },
  {
   "cell_type": "code",
   "execution_count": 54,
   "metadata": {},
   "outputs": [
    {
     "name": "stdout",
     "output_type": "stream",
     "text": [
      "['PENAN', 'CHETAN', 'RAHUL']\n",
      "['PENAN', 'CHETAN', 'RAHUL', [10, 12, 13]]\n"
     ]
    }
   ],
   "source": [
    "# some experiment \n",
    "name = [\"PENAN\", \"CHETAN\", \"RAHUL\"]\n",
    "age = [10, 12, 13]\n",
    "marks = [97, 99, 97]\n",
    "print(name)\n",
    "name.append(age)\n",
    "# print(list_lists)\n",
    "print(name)"
   ]
  },
  {
   "cell_type": "code",
   "execution_count": 55,
   "metadata": {},
   "outputs": [],
   "source": [
    "# Addition list in lists"
   ]
  },
  {
   "cell_type": "code",
   "execution_count": 59,
   "metadata": {},
   "outputs": [
    {
     "name": "stdout",
     "output_type": "stream",
     "text": [
      "[['PENAN', 'CHETAN', 'RAHUL'], [10, 12, 13], [97, 99, 97]]\n"
     ]
    }
   ],
   "source": [
    "#         name=[]            age=[]         marks=[]\n",
    "#          \\               |           /          \n",
    "#           \\              |          /\n",
    "#            \\             |         /\n",
    "#     [ ['PENAN', 'CHETAN', 'RAHUL'], [10, 12, 13], [97, 99, 97] ] \n",
    "name = [\"PENAN\", \"CHETAN\", \"RAHUL\"]\n",
    "age = [10, 12, 13]\n",
    "marks = [97, 99, 97]\n",
    "list_lists = [name, age, marks]\n",
    "print(list_lists)"
   ]
  },
  {
   "cell_type": "code",
   "execution_count": null,
   "metadata": {},
   "outputs": [],
   "source": []
  },
  {
   "cell_type": "code",
   "execution_count": null,
   "metadata": {},
   "outputs": [],
   "source": []
  },
  {
   "cell_type": "code",
   "execution_count": null,
   "metadata": {},
   "outputs": [],
   "source": []
  },
  {
   "cell_type": "code",
   "execution_count": null,
   "metadata": {},
   "outputs": [],
   "source": []
  },
  {
   "cell_type": "markdown",
   "metadata": {},
   "source": [
    "# SOME In-build functions "
   ]
  },
  {
   "cell_type": "code",
   "execution_count": null,
   "metadata": {},
   "outputs": [],
   "source": []
  },
  {
   "cell_type": "code",
   "execution_count": 10,
   "metadata": {},
   "outputs": [],
   "source": [
    "num = [0, 1, 2, 3, 4, 5, 6, 7, 8, 9]"
   ]
  },
  {
   "cell_type": "code",
   "execution_count": 21,
   "metadata": {},
   "outputs": [
    {
     "name": "stdout",
     "output_type": "stream",
     "text": [
      "[0, 1, 2, 3, 4, 5, 6, 7, 8, 9, 'appended']\n"
     ]
    }
   ],
   "source": [
    "# add an element to the end of the list\n",
    "num = [0, 1, 2, 3, 4, 5, 6, 7, 8, 9]\n",
    "num.append('appended')\n",
    "print(num)"
   ]
  },
  {
   "cell_type": "code",
   "execution_count": 22,
   "metadata": {},
   "outputs": [
    {
     "name": "stdout",
     "output_type": "stream",
     "text": [
      "[0, 1, 2, 3, 4, 5, 6, 7, 8, 9, 'appended']\n",
      "[0, 1, 2, 3, 'NEW_ELEMENT', 4, 5, 6, 7, 8, 9, 'appended']\n"
     ]
    }
   ],
   "source": [
    "# insert an element to particular index of the list \n",
    "# we use the built in function inset \n",
    "# syntax : list_name.insert(index, <element>)\n",
    "print(num)\n",
    "num.insert(4, \"NEW_ELEMENT\")\n",
    "print(num)"
   ]
  },
  {
   "cell_type": "code",
   "execution_count": 24,
   "metadata": {},
   "outputs": [
    {
     "name": "stdout",
     "output_type": "stream",
     "text": [
      "[0, 1, 2, 3, 'NEW_ELEMENT', 4, 5, 6, 7, 8, 9, 'appended']\n",
      "11\n"
     ]
    }
   ],
   "source": [
    "#to get the index of the first matched item\n",
    "# we use index built in function\n",
    "# syntax : list_mame.index(<element>)\n",
    "print(num)\n",
    "print(num.index(\"appended\"))"
   ]
  },
  {
   "cell_type": "code",
   "execution_count": 28,
   "metadata": {},
   "outputs": [
    {
     "name": "stdout",
     "output_type": "stream",
     "text": [
      "4\n"
     ]
    }
   ],
   "source": [
    "# IMPORTANT\n",
    "#to count number of a specific element in a list\n",
    "num = [0,'a', 1, 2,'a', 3, 'NEW_ELEMENT', 4, 5,'a', 6, 7, 8, 'a',  9, 'appended','ab'] # obviosly ab is not counted\n",
    "print(num.count('a'))"
   ]
  },
  {
   "cell_type": "code",
   "execution_count": 30,
   "metadata": {},
   "outputs": [
    {
     "name": "stdout",
     "output_type": "stream",
     "text": [
      "['ab', 'ab']\n",
      "0\n"
     ]
    }
   ],
   "source": [
    "str_l = [\"ab\", \"ab\"]\n",
    "print(str_l)\n",
    "print(str_l.count(\"a\")) # not matched"
   ]
  },
  {
   "cell_type": "code",
   "execution_count": 33,
   "metadata": {},
   "outputs": [
    {
     "name": "stdout",
     "output_type": "stream",
     "text": [
      "[0, 'a', 1, 2, 'a', 3, 'NEW_ELEMENT', 4, 5, 'a', 6, 7, 8, 'a', 9, 'appended', 'ab']\n",
      "['ab', 'appended', 9, 'a', 8, 7, 6, 'a', 5, 4, 'NEW_ELEMENT', 3, 'a', 2, 1, 'a', 0]\n"
     ]
    }
   ],
   "source": [
    "#to reverse the order of a list\n",
    "print(num)\n",
    "num.reverse()  # Permanant Change\n",
    "print(num)"
   ]
  },
  {
   "cell_type": "code",
   "execution_count": null,
   "metadata": {},
   "outputs": [],
   "source": []
  }
 ],
 "metadata": {
  "kernelspec": {
   "display_name": "Python 3",
   "language": "python",
   "name": "python3"
  },
  "language_info": {
   "codemirror_mode": {
    "name": "ipython",
    "version": 3
   },
   "file_extension": ".py",
   "mimetype": "text/x-python",
   "name": "python",
   "nbconvert_exporter": "python",
   "pygments_lexer": "ipython3",
   "version": "3.7.3"
  }
 },
 "nbformat": 4,
 "nbformat_minor": 2
}

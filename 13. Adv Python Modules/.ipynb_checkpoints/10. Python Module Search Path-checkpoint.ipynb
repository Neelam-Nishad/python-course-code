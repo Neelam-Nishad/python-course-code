{
 "cells": [
  {
   "cell_type": "code",
   "execution_count": 17,
   "metadata": {},
   "outputs": [
    {
     "data": {
      "text/plain": [
       "'D:\\\\code\\\\Python\\\\Python Course Content\\\\PythonCourseContent\\\\13. Adv Python Modules\\\\my_module.py'"
      ]
     },
     "execution_count": 17,
     "metadata": {},
     "output_type": "execute_result"
    }
   ],
   "source": [
    "import my_module as mm\n",
    "mm.__file__\n",
    "# dir(mm)"
   ]
  },
  {
   "cell_type": "code",
   "execution_count": 20,
   "metadata": {},
   "outputs": [
    {
     "data": {
      "text/plain": [
       "'D:\\\\code\\\\Python\\\\Python Course Content\\\\PythonCourseContent\\\\13. Adv Python Modules\\nc:\\\\users\\\\shree\\\\appdata\\\\local\\\\programs\\\\python\\\\python37\\\\python37.zip\\nc:\\\\users\\\\shree\\\\appdata\\\\local\\\\programs\\\\python\\\\python37\\\\DLLs\\nc:\\\\users\\\\shree\\\\appdata\\\\local\\\\programs\\\\python\\\\python37\\\\lib\\nc:\\\\users\\\\shree\\\\appdata\\\\local\\\\programs\\\\python\\\\python37\\n\\nC:\\\\Users\\\\shree\\\\AppData\\\\Roaming\\\\Python\\\\Python37\\\\site-packages\\nc:\\\\users\\\\shree\\\\appdata\\\\local\\\\programs\\\\python\\\\python37\\\\lib\\\\site-packages\\nc:\\\\users\\\\shree\\\\appdata\\\\local\\\\programs\\\\python\\\\python37\\\\lib\\\\site-packages\\\\IPython\\\\extensions\\nC:\\\\Users\\\\shree\\\\.ipython'"
      ]
     },
     "execution_count": 20,
     "metadata": {},
     "output_type": "execute_result"
    }
   ],
   "source": [
    "import sys\n",
    "# sys.path\n",
    "'\\n'.join(sys.path)"
   ]
  },
  {
   "cell_type": "code",
   "execution_count": 21,
   "metadata": {},
   "outputs": [
    {
     "ename": "ModuleNotFoundError",
     "evalue": "No module named 'numpy'",
     "output_type": "error",
     "traceback": [
      "\u001b[1;31m---------------------------------------------------------------------------\u001b[0m",
      "\u001b[1;31mModuleNotFoundError\u001b[0m                       Traceback (most recent call last)",
      "\u001b[1;32m<ipython-input-21-d4cdadb62aa7>\u001b[0m in \u001b[0;36m<module>\u001b[1;34m\u001b[0m\n\u001b[1;32m----> 1\u001b[1;33m \u001b[1;32mimport\u001b[0m \u001b[0mnumpy\u001b[0m\u001b[1;33m\u001b[0m\u001b[1;33m\u001b[0m\u001b[0m\n\u001b[0m",
      "\u001b[1;31mModuleNotFoundError\u001b[0m: No module named 'numpy'"
     ]
    }
   ],
   "source": [
    "import numpy"
   ]
  },
  {
   "cell_type": "code",
   "execution_count": null,
   "metadata": {},
   "outputs": [],
   "source": []
  }
 ],
 "metadata": {
  "kernelspec": {
   "display_name": "Python 3",
   "language": "python",
   "name": "python3"
  },
  "language_info": {
   "codemirror_mode": {
    "name": "ipython",
    "version": 3
   },
   "file_extension": ".py",
   "mimetype": "text/x-python",
   "name": "python",
   "nbconvert_exporter": "python",
   "pygments_lexer": "ipython3",
   "version": "3.7.3"
  }
 },
 "nbformat": 4,
 "nbformat_minor": 2
}

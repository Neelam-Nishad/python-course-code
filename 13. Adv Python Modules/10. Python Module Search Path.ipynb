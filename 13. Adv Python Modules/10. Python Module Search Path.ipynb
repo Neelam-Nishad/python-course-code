{
 "cells": [
  {
   "cell_type": "code",
   "execution_count": 3,
   "metadata": {},
   "outputs": [
    {
     "data": {
      "text/plain": [
       "'D:\\\\code\\\\Python\\\\Python Course Content\\\\PythonCourseContent\\\\13. Adv Python Modules\\\\my_module.py'"
      ]
     },
     "execution_count": 3,
     "metadata": {},
     "output_type": "execute_result"
    }
   ],
   "source": [
    "import my_module as mm\n",
    "mm.__file__ # shows module path\n",
    "# dir(mm)"
   ]
  },
  {
   "cell_type": "code",
   "execution_count": 7,
   "metadata": {},
   "outputs": [
    {
     "data": {
      "text/plain": [
       "'D:\\\\code\\\\Python\\\\Python Course Content\\\\PythonCourseContent\\\\13. Adv Python Modules\\nC:\\\\Users\\\\shree\\\\Anaconda3\\\\python37.zip\\nC:\\\\Users\\\\shree\\\\Anaconda3\\\\DLLs\\nC:\\\\Users\\\\shree\\\\Anaconda3\\\\lib\\nC:\\\\Users\\\\shree\\\\Anaconda3\\n\\nC:\\\\Users\\\\shree\\\\AppData\\\\Roaming\\\\Python\\\\Python37\\\\site-packages\\nC:\\\\Users\\\\shree\\\\Anaconda3\\\\lib\\\\site-packages\\nC:\\\\Users\\\\shree\\\\Anaconda3\\\\lib\\\\site-packages\\\\win32\\nC:\\\\Users\\\\shree\\\\Anaconda3\\\\lib\\\\site-packages\\\\win32\\\\lib\\nC:\\\\Users\\\\shree\\\\Anaconda3\\\\lib\\\\site-packages\\\\Pythonwin\\nC:\\\\Users\\\\shree\\\\Anaconda3\\\\lib\\\\site-packages\\\\IPython\\\\extensions\\nC:\\\\Users\\\\shree\\\\.ipython'"
      ]
     },
     "execution_count": 7,
     "metadata": {},
     "output_type": "execute_result"
    }
   ],
   "source": [
    "import sys # for sys there is no .__file__ attribute but .path\n",
    "# sys.path\n",
    "'\\n'.join(sys.path)"
   ]
  },
  {
   "cell_type": "code",
   "execution_count": 8,
   "metadata": {},
   "outputs": [
    {
     "data": {
      "text/plain": [
       "'C:\\\\Users\\\\shree\\\\Anaconda3\\\\lib\\\\site-packages\\\\numpy\\\\__init__.py'"
      ]
     },
     "execution_count": 8,
     "metadata": {},
     "output_type": "execute_result"
    }
   ],
   "source": [
    "import numpy\n",
    "numpy.__file__"
   ]
  },
  {
   "cell_type": "code",
   "execution_count": 9,
   "metadata": {},
   "outputs": [
    {
     "data": {
      "text/plain": [
       "'C:\\\\Users\\\\shree\\\\Anaconda3\\\\lib\\\\random.py'"
      ]
     },
     "execution_count": 9,
     "metadata": {},
     "output_type": "execute_result"
    }
   ],
   "source": [
    "import random\n",
    "random.__file__"
   ]
  },
  {
   "cell_type": "code",
   "execution_count": 10,
   "metadata": {},
   "outputs": [
    {
     "data": {
      "text/plain": [
       "'C:\\\\Users\\\\shree\\\\Anaconda3\\\\lib\\\\site-packages\\\\pandas\\\\__init__.py'"
      ]
     },
     "execution_count": 10,
     "metadata": {},
     "output_type": "execute_result"
    }
   ],
   "source": [
    "import pandas\n",
    "pandas.__file__"
   ]
  },
  {
   "cell_type": "code",
   "execution_count": null,
   "metadata": {},
   "outputs": [],
   "source": []
  },
  {
   "cell_type": "code",
   "execution_count": null,
   "metadata": {},
   "outputs": [],
   "source": []
  }
 ],
 "metadata": {
  "kernelspec": {
   "display_name": "Python 3",
   "language": "python",
   "name": "python3"
  },
  "language_info": {
   "codemirror_mode": {
    "name": "ipython",
    "version": 3
   },
   "file_extension": ".py",
   "mimetype": "text/x-python",
   "name": "python",
   "nbconvert_exporter": "python",
   "pygments_lexer": "ipython3",
   "version": "3.7.3"
  }
 },
 "nbformat": 4,
 "nbformat_minor": 2
}

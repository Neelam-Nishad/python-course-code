{
 "cells": [
  {
   "cell_type": "code",
   "execution_count": 1,
   "metadata": {},
   "outputs": [],
   "source": [
    "# Operators\tMeaning (DECREASING ORDER)\n",
    "\n",
    "# ()\tParentheses\n",
    "# **\tExponent\n",
    "# +x, -x, ~x\tUnary plus, Unary minus, Bitwise NOT\n",
    "# *, /, //, %\tMultiplication, Division, Floor division, Modulus\n",
    "# +, -\tAddition, Subtraction\n",
    "# <<, >>\tBitwise shift operators\n",
    "# &\tBitwise AND\n",
    "# ^\tBitwise XOR\n",
    "# |\tBitwise OR\n",
    "# ==, !=, >, >=, <, <=, is, is not, in, not in\tComparisions, Identity, Membership operators\n",
    "# not\tLogical NOT\n",
    "# and\tLogical AND\n",
    "# or\tLogical OR"
   ]
  },
  {
   "cell_type": "code",
   "execution_count": null,
   "metadata": {},
   "outputs": [],
   "source": []
  }
 ],
 "metadata": {
  "kernelspec": {
   "display_name": "Python 3",
   "language": "python",
   "name": "python3"
  },
  "language_info": {
   "codemirror_mode": {
    "name": "ipython",
    "version": 3
   },
   "file_extension": ".py",
   "mimetype": "text/x-python",
   "name": "python",
   "nbconvert_exporter": "python",
   "pygments_lexer": "ipython3",
   "version": "3.7.3"
  }
 },
 "nbformat": 4,
 "nbformat_minor": 2
}

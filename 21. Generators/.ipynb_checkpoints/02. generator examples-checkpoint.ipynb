{
 "cells": [
  {
   "cell_type": "markdown",
   "metadata": {},
   "source": [
    "# Count\n"
   ]
  },
  {
   "cell_type": "code",
   "execution_count": 19,
   "metadata": {
    "ExecuteTime": {
     "end_time": "2019-07-05T07:22:00.444238Z",
     "start_time": "2019-07-05T07:22:00.438260Z"
    }
   },
   "outputs": [],
   "source": [
    "def count(start, end, step):\n",
    "    i = start\n",
    "    while i < end:\n",
    "        yield i\n",
    "        i += step\n",
    "\n",
    "\n",
    "counter = list(count(5, 10, 0.5))"
   ]
  },
  {
   "cell_type": "code",
   "execution_count": 16,
   "metadata": {
    "ExecuteTime": {
     "end_time": "2019-07-05T07:21:14.491185Z",
     "start_time": "2019-07-05T07:21:14.486214Z"
    }
   },
   "outputs": [
    {
     "name": "stdout",
     "output_type": "stream",
     "text": [
      "5   5.5   6.0   6.5   7.0   7.5   8.0   8.5   9.0   9.5   "
     ]
    }
   ],
   "source": [
    "for num in counter :\n",
    "    print(num, end=\"   \")"
   ]
  },
  {
   "cell_type": "markdown",
   "metadata": {},
   "source": [
    "# Reverse String"
   ]
  },
  {
   "cell_type": "code",
   "execution_count": 15,
   "metadata": {
    "ExecuteTime": {
     "end_time": "2019-07-05T07:20:50.820159Z",
     "start_time": "2019-07-05T07:20:50.812138Z"
    }
   },
   "outputs": [
    {
     "data": {
      "text/plain": [
       "['d', 'l', 'r', 'o', 'W', ' ', 'o', 'l', 'l', 'e', 'H']"
      ]
     },
     "execution_count": 15,
     "metadata": {},
     "output_type": "execute_result"
    }
   ],
   "source": [
    "def rev_str(my_str):\n",
    "    for char in range(len(my_str)-1, -1, -1):\n",
    "\n",
    "        yield my_str[char]\n",
    "        char -= 1\n",
    "list(rev_str(\"Hello World\"))"
   ]
  },
  {
   "cell_type": "markdown",
   "metadata": {},
   "source": [
    "# fib series"
   ]
  },
  {
   "cell_type": "code",
   "execution_count": 20,
   "metadata": {
    "ExecuteTime": {
     "end_time": "2019-07-05T07:24:16.487477Z",
     "start_time": "2019-07-05T07:24:16.478453Z"
    }
   },
   "outputs": [
    {
     "data": {
      "text/plain": [
       "[0, 1, 1, 2, 3, 5, 8, 13, 21, 34]"
      ]
     },
     "execution_count": 20,
     "metadata": {},
     "output_type": "execute_result"
    }
   ],
   "source": [
    "def fibgen(n):\n",
    "    start, end = 0, 1\n",
    "    for i in range(n):\n",
    "        yield start\n",
    "        start, end = end, start + end\n",
    "list(fibgen(10))"
   ]
  },
  {
   "cell_type": "code",
   "execution_count": 1,
   "metadata": {
    "ExecuteTime": {
     "end_time": "2019-07-05T07:33:49.413124Z",
     "start_time": "2019-07-05T07:33:49.406105Z"
    }
   },
   "outputs": [],
   "source": [
    "def reve(n):\n",
    "    num = 0\n",
    "    while(n>0):\n",
    "        num = num *10 + n%10\n",
    "        n = n // 10\n",
    "    return num\n",
    "def rev_nums(args):\n",
    "    for i in args:\n",
    "        i = reve(i)\n",
    "        yield i"
   ]
  },
  {
   "cell_type": "code",
   "execution_count": 3,
   "metadata": {
    "ExecuteTime": {
     "end_time": "2019-07-05T07:34:00.726540Z",
     "start_time": "2019-07-05T07:34:00.718478Z"
    }
   },
   "outputs": [
    {
     "data": {
      "text/plain": [
       "[101, 102, 103, 104]"
      ]
     },
     "execution_count": 3,
     "metadata": {},
     "output_type": "execute_result"
    }
   ],
   "source": [
    "list(rev_nums([101, 201, 301, 401]))"
   ]
  },
  {
   "cell_type": "code",
   "execution_count": 5,
   "metadata": {
    "ExecuteTime": {
     "end_time": "2019-07-05T07:35:03.213029Z",
     "start_time": "2019-07-05T07:35:03.205011Z"
    }
   },
   "outputs": [
    {
     "name": "stdout",
     "output_type": "stream",
     "text": [
      "101\n",
      "102\n",
      "103\n",
      "104\n"
     ]
    }
   ],
   "source": [
    "iter = rev_nums([101, 201, 301, 401])\n",
    "print(next(iter))\n",
    "print(next(iter))\n",
    "print(next(iter))\n",
    "print(next(iter))"
   ]
  },
  {
   "cell_type": "code",
   "execution_count": null,
   "metadata": {},
   "outputs": [],
   "source": []
  }
 ],
 "metadata": {
  "kernelspec": {
   "display_name": "Python 3",
   "language": "python",
   "name": "python3"
  },
  "language_info": {
   "codemirror_mode": {
    "name": "ipython",
    "version": 3
   },
   "file_extension": ".py",
   "mimetype": "text/x-python",
   "name": "python",
   "nbconvert_exporter": "python",
   "pygments_lexer": "ipython3",
   "version": "3.7.3"
  },
  "toc": {
   "base_numbering": 1,
   "nav_menu": {},
   "number_sections": true,
   "sideBar": true,
   "skip_h1_title": false,
   "title_cell": "Table of Contents",
   "title_sidebar": "Contents",
   "toc_cell": false,
   "toc_position": {},
   "toc_section_display": true,
   "toc_window_display": false
  },
  "varInspector": {
   "cols": {
    "lenName": 16,
    "lenType": 16,
    "lenVar": 40
   },
   "kernels_config": {
    "python": {
     "delete_cmd_postfix": "",
     "delete_cmd_prefix": "del ",
     "library": "var_list.py",
     "varRefreshCmd": "print(var_dic_list())"
    },
    "r": {
     "delete_cmd_postfix": ") ",
     "delete_cmd_prefix": "rm(",
     "library": "var_list.r",
     "varRefreshCmd": "cat(var_dic_list()) "
    }
   },
   "types_to_exclude": [
    "module",
    "function",
    "builtin_function_or_method",
    "instance",
    "_Feature"
   ],
   "window_display": false
  }
 },
 "nbformat": 4,
 "nbformat_minor": 2
}

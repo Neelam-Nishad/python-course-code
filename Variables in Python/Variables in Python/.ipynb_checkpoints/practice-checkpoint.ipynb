{
 "cells": [
  {
   "cell_type": "code",
   "execution_count": 1,
   "metadata": {},
   "outputs": [],
   "source": [
    "def mult(a,b):\n",
    "    return a*b"
   ]
  },
  {
   "cell_type": "code",
   "execution_count": 2,
   "metadata": {
    "scrolled": true
   },
   "outputs": [
    {
     "ename": "NameError",
     "evalue": "name 'mutl' is not defined",
     "output_type": "error",
     "traceback": [
      "\u001b[1;31m---------------------------------------------------------------------------\u001b[0m",
      "\u001b[1;31mNameError\u001b[0m                                 Traceback (most recent call last)",
      "\u001b[1;32m<ipython-input-2-042faf69cf8e>\u001b[0m in \u001b[0;36m<module>\u001b[1;34m\u001b[0m\n\u001b[1;32m----> 1\u001b[1;33m \u001b[0mmutl\u001b[0m\u001b[1;33m(\u001b[0m\u001b[1;36m4\u001b[0m\u001b[1;33m,\u001b[0m\u001b[1;36m6\u001b[0m\u001b[1;33m)\u001b[0m\u001b[1;33m\u001b[0m\u001b[1;33m\u001b[0m\u001b[0m\n\u001b[0m",
      "\u001b[1;31mNameError\u001b[0m: name 'mutl' is not defined"
     ]
    }
   ],
   "source": [
    "mutl(4,6)"
   ]
  },
  {
   "cell_type": "code",
   "execution_count": 24,
   "metadata": {},
   "outputs": [
    {
     "data": {
      "text/plain": [
       "2400"
      ]
     },
     "execution_count": 24,
     "metadata": {},
     "output_type": "execute_result"
    }
   ],
   "source": [
    "def mult(a,b):\n",
    "    return a*b\n",
    "mult(40,60)"
   ]
  },
  {
   "cell_type": "code",
   "execution_count": 28,
   "metadata": {},
   "outputs": [
    {
     "name": "stdout",
     "output_type": "stream",
     "text": [
      "cell between both cells above and below\n"
     ]
    }
   ],
   "source": [
    "# cell between both cells above and below\n",
    "print(\"cell between both cells above and below\")"
   ]
  },
  {
   "cell_type": "code",
   "execution_count": 29,
   "metadata": {},
   "outputs": [
    {
     "name": "stdout",
     "output_type": "stream",
     "text": [
      "again new cell. Press [Alt] + [Enter]\n"
     ]
    }
   ],
   "source": [
    "print(\"again new cell. Press [Alt] + [Enter]\")"
   ]
  },
  {
   "cell_type": "code",
   "execution_count": 9,
   "metadata": {},
   "outputs": [
    {
     "ename": "NameError",
     "evalue": "name 'add' is not defined",
     "output_type": "error",
     "traceback": [
      "\u001b[1;31m---------------------------------------------------------------------------\u001b[0m",
      "\u001b[1;31mNameError\u001b[0m                                 Traceback (most recent call last)",
      "\u001b[1;32m<ipython-input-9-0dbd3fada76a>\u001b[0m in \u001b[0;36m<module>\u001b[1;34m\u001b[0m\n\u001b[0;32m      1\u001b[0m \u001b[1;32mimport\u001b[0m \u001b[0mfunc\u001b[0m\u001b[1;33m\u001b[0m\u001b[1;33m\u001b[0m\u001b[0m\n\u001b[0;32m      2\u001b[0m \u001b[0mmult\u001b[0m\u001b[1;33m(\u001b[0m\u001b[1;36m40\u001b[0m\u001b[1;33m,\u001b[0m\u001b[1;36m60\u001b[0m\u001b[1;33m)\u001b[0m\u001b[1;33m\u001b[0m\u001b[1;33m\u001b[0m\u001b[0m\n\u001b[1;32m----> 3\u001b[1;33m \u001b[0madd\u001b[0m\u001b[1;33m(\u001b[0m\u001b[1;36m40\u001b[0m\u001b[1;33m,\u001b[0m\u001b[1;36m60\u001b[0m\u001b[1;33m)\u001b[0m\u001b[1;33m\u001b[0m\u001b[1;33m\u001b[0m\u001b[0m\n\u001b[0m\u001b[0;32m      4\u001b[0m \u001b[0msub\u001b[0m\u001b[1;33m(\u001b[0m\u001b[1;36m60\u001b[0m\u001b[1;33m,\u001b[0m\u001b[1;36m5\u001b[0m\u001b[1;33m)\u001b[0m\u001b[1;33m\u001b[0m\u001b[1;33m\u001b[0m\u001b[0m\n",
      "\u001b[1;31mNameError\u001b[0m: name 'add' is not defined"
     ]
    }
   ],
   "source": [
    "import func\n",
    "mult(40,60)\n",
    "add(40,60)\n",
    "sub(60,5)"
   ]
  },
  {
   "cell_type": "code",
   "execution_count": 19,
   "metadata": {},
   "outputs": [
    {
     "name": "stdout",
     "output_type": "stream",
     "text": [
      "2400\n",
      "65\n",
      "10\n"
     ]
    }
   ],
   "source": [
    "import func\n",
    "print(func.mult(40,60))\n",
    "print(func.add(60,5))\n",
    "print(func.sub(60,50))"
   ]
  },
  {
   "cell_type": "code",
   "execution_count": 20,
   "metadata": {},
   "outputs": [
    {
     "data": {
      "text/plain": [
       "3000"
      ]
     },
     "execution_count": 20,
     "metadata": {},
     "output_type": "execute_result"
    }
   ],
   "source": [
    "import func\n",
    "func.mult(60,50)"
   ]
  },
  {
   "cell_type": "code",
   "execution_count": 23,
   "metadata": {
    "scrolled": true
   },
   "outputs": [
    {
     "name": "stdout",
     "output_type": "stream",
     "text": [
      "i is equal to  0\n",
      "i is equal to  1\n",
      "i is equal to  2\n",
      "i is equal to  3\n",
      "i is equal to  4\n",
      "i is equal to  5\n",
      "i is equal to  6\n",
      "i is equal to  7\n",
      "i is equal to  8\n",
      "i is equal to  9\n",
      "i is equal to  10\n",
      "i is equal to  11\n",
      "i is equal to  12\n",
      "i is equal to  13\n",
      "i is equal to  14\n",
      "i is equal to  15\n",
      "i is equal to  16\n",
      "i is equal to  17\n",
      "i is equal to  18\n",
      "i is equal to  19\n",
      "i is equal to  20\n",
      "i is equal to  21\n",
      "i is equal to  22\n",
      "i is equal to  23\n",
      "i is equal to  24\n",
      "i is equal to  25\n",
      "i is equal to  26\n",
      "i is equal to  27\n",
      "i is equal to  28\n",
      "i is equal to  29\n",
      "i is equal to  30\n",
      "i is equal to  31\n",
      "i is equal to  32\n",
      "i is equal to  33\n",
      "i is equal to  34\n",
      "i is equal to  35\n",
      "i is equal to  36\n",
      "i is equal to  37\n",
      "i is equal to  38\n",
      "i is equal to  39\n",
      "i is equal to  40\n",
      "i is equal to  41\n",
      "i is equal to  42\n",
      "i is equal to  43\n",
      "i is equal to  44\n",
      "i is equal to  45\n",
      "i is equal to  46\n",
      "i is equal to  47\n",
      "i is equal to  48\n",
      "i is equal to  49\n"
     ]
    }
   ],
   "source": [
    "for i in range(50):\n",
    "    print(\"i is equal to \", i) # left side of output below reduces output (vertical wrap)"
   ]
  },
  {
   "cell_type": "markdown",
   "metadata": {},
   "source": [
    "# this is demostration of markdown support in Jupyter"
   ]
  },
  {
   "cell_type": "code",
   "execution_count": 31,
   "metadata": {},
   "outputs": [
    {
     "ename": "SyntaxError",
     "evalue": "invalid syntax (<ipython-input-31-9ecf832139b9>, line 2)",
     "output_type": "error",
     "traceback": [
      "\u001b[1;36m  File \u001b[1;32m\"<ipython-input-31-9ecf832139b9>\"\u001b[1;36m, line \u001b[1;32m2\u001b[0m\n\u001b[1;33m    * First bullet point\u001b[0m\n\u001b[1;37m                 ^\u001b[0m\n\u001b[1;31mSyntaxError\u001b[0m\u001b[1;31m:\u001b[0m invalid syntax\n"
     ]
    }
   ],
   "source": [
    "## This is header \n",
    "* First bullet point\n",
    "* second bullet point\n",
    "### smaller header"
   ]
  },
  {
   "cell_type": "markdown",
   "metadata": {},
   "source": [
    "## This is header \n",
    "* First bullet point\n",
    "* second bullet point\n",
    "### smaller header"
   ]
  },
  {
   "cell_type": "markdown",
   "metadata": {},
   "source": [
    "# this is useful for REASEARCHERS, SCIENTIFIC USE"
   ]
  },
  {
   "cell_type": "code",
   "execution_count": 33,
   "metadata": {},
   "outputs": [
    {
     "name": "stdout",
     "output_type": "stream",
     "text": [
      "i is equal to  0\n",
      "i is equal to  1\n",
      "i is equal to  2\n",
      "i is equal to  3\n",
      "i is equal to  4\n",
      "i is equal to  5\n",
      "i is equal to  6\n",
      "i is equal to  7\n",
      "i is equal to  8\n",
      "i is equal to  9\n",
      "Wall time: 966 µs\n"
     ]
    }
   ],
   "source": [
    "%%time \n",
    "for i in range(10):\n",
    "    print(\"i is equal to \", i)"
   ]
  },
  {
   "cell_type": "code",
   "execution_count": 34,
   "metadata": {
    "scrolled": true
   },
   "outputs": [
    {
     "name": "stdout",
     "output_type": "stream",
     "text": [
      "i is equal to  0\n",
      "i is equal to  1\n",
      "i is equal to  2\n",
      "i is equal to  3\n",
      "i is equal to  4\n",
      "i is equal to  5\n",
      "i is equal to  6\n",
      "i is equal to  7\n",
      "i is equal to  8\n",
      "i is equal to  9\n",
      "i is equal to  10\n",
      "i is equal to  11\n",
      "i is equal to  12\n",
      "i is equal to  13\n",
      "i is equal to  14\n",
      "i is equal to  15\n",
      "i is equal to  16\n",
      "i is equal to  17\n",
      "i is equal to  18\n",
      "i is equal to  19\n",
      "i is equal to  20\n",
      "i is equal to  21\n",
      "i is equal to  22\n",
      "i is equal to  23\n",
      "i is equal to  24\n",
      "i is equal to  25\n",
      "i is equal to  26\n",
      "i is equal to  27\n",
      "i is equal to  28\n",
      "i is equal to  29\n",
      "i is equal to  30\n",
      "i is equal to  31\n",
      "i is equal to  32\n",
      "i is equal to  33\n",
      "i is equal to  34\n",
      "i is equal to  35\n",
      "i is equal to  36\n",
      "i is equal to  37\n",
      "i is equal to  38\n",
      "i is equal to  39\n",
      "i is equal to  40\n",
      "i is equal to  41\n",
      "i is equal to  42\n",
      "i is equal to  43\n",
      "i is equal to  44\n",
      "i is equal to  45\n",
      "i is equal to  46\n",
      "i is equal to  47\n",
      "i is equal to  48\n",
      "i is equal to  49\n",
      "Wall time: 4.01 ms\n"
     ]
    }
   ],
   "source": [
    "%%time \n",
    "for i in range(50):\n",
    "    print(\"i is equal to \", i)"
   ]
  },
  {
   "cell_type": "code",
   "execution_count": null,
   "metadata": {},
   "outputs": [],
   "source": []
  }
 ],
 "metadata": {
  "kernelspec": {
   "display_name": "Python 3",
   "language": "python",
   "name": "python3"
  },
  "language_info": {
   "codemirror_mode": {
    "name": "ipython",
    "version": 3
   },
   "file_extension": ".py",
   "mimetype": "text/x-python",
   "name": "python",
   "nbconvert_exporter": "python",
   "pygments_lexer": "ipython3",
   "version": "3.7.3"
  }
 },
 "nbformat": 4,
 "nbformat_minor": 2
}

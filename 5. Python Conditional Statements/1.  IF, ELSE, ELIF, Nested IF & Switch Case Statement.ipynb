{
 "cells": [
  {
   "cell_type": "code",
   "execution_count": 7,
   "metadata": {},
   "outputs": [],
   "source": [
    "# if EXPRESSION:\n",
    "#     STATEMENT #1\n",
    "# elif EXPRESSION:\n",
    "#     STATEMENT #2\n",
    "# elif EXPRESSION:\n",
    "#     STATEMENT #3    \n",
    "# else:\n",
    "#     STATEMENT #4"
   ]
  },
  {
   "cell_type": "code",
   "execution_count": 9,
   "metadata": {},
   "outputs": [
    {
     "name": "stdout",
     "output_type": "stream",
     "text": [
      "8 is greater than 7\n"
     ]
    }
   ],
   "source": [
    "x, y = 7, 8\n",
    "if x>y:\n",
    "    print(f'{x} is greater than {y}')\n",
    "else:\n",
    "    print(f'{y} is greater than {x}')      "
   ]
  },
  {
   "cell_type": "code",
   "execution_count": 10,
   "metadata": {},
   "outputs": [],
   "source": [
    "# nested if else"
   ]
  },
  {
   "cell_type": "code",
   "execution_count": 16,
   "metadata": {},
   "outputs": [
    {
     "name": "stdout",
     "output_type": "stream",
     "text": [
      "13 is greater than 11 and 10\n"
     ]
    }
   ],
   "source": [
    "x, y, z=11, 13, 10\n",
    "if(x>y):\n",
    "    if (x>z):\n",
    "        print(f'{x} is greater than {y} and {z}')\n",
    "    else:\n",
    "        print(f'{z} is greater than {x} and {z}')\n",
    "else:\n",
    "    if (y>z):\n",
    "        print(f'{y} is greater than {x} and {z}')\n",
    "    else:\n",
    "        print(f'{z} is greater than {x} and {y}')"
   ]
  },
  {
   "cell_type": "code",
   "execution_count": 17,
   "metadata": {},
   "outputs": [],
   "source": [
    "# How to execute conditional statement with minimal code"
   ]
  },
  {
   "cell_type": "code",
   "execution_count": 20,
   "metadata": {},
   "outputs": [],
   "source": [
    "# syntax:  A If B else C"
   ]
  },
  {
   "cell_type": "code",
   "execution_count": 25,
   "metadata": {},
   "outputs": [
    {
     "data": {
      "text/plain": [
       "13"
      ]
     },
     "execution_count": 25,
     "metadata": {},
     "output_type": "execute_result"
    }
   ],
   "source": [
    "x, y, z=11, 13, 10 \n",
    "x if x > y else y\n",
    "# ans = x if x > y else y"
   ]
  },
  {
   "cell_type": "code",
   "execution_count": 30,
   "metadata": {},
   "outputs": [],
   "source": [
    "x, y = 10, 12\n",
    "\n",
    "st = f\"{x} is greater than {y}\" if x > y else f\"{y} is greater than {x}\""
   ]
  },
  {
   "cell_type": "code",
   "execution_count": 31,
   "metadata": {},
   "outputs": [
    {
     "data": {
      "text/plain": [
       "'12 is greater than 10'"
      ]
     },
     "execution_count": 31,
     "metadata": {},
     "output_type": "execute_result"
    }
   ],
   "source": [
    "st"
   ]
  },
  {
   "cell_type": "code",
   "execution_count": 32,
   "metadata": {},
   "outputs": [],
   "source": [
    "# Switch Statement"
   ]
  },
  {
   "cell_type": "code",
   "execution_count": 34,
   "metadata": {},
   "outputs": [],
   "source": [
    "# Python language doesn’t have a switch statement.\n",
    "\n",
    "# Python uses dictionary mapping to implement switch statement in Python"
   ]
  },
  {
   "cell_type": "code",
   "execution_count": 38,
   "metadata": {},
   "outputs": [],
   "source": [
    "# def SwitchExample(argument):\n",
    "#     switcher = {\n",
    "#         0: \" This is Case Zero \",\n",
    "#         1: \" This is Case One \",\n",
    "#         2: \" This is Case Two \",\n",
    "#     }\n",
    "#     return switcher.get(argument, \"nothing\")\n",
    "\n",
    "\n",
    "# if __name__ == \"__main__\":\n",
    "#     argument = 1\n",
    "#     print (SwitchExample(argument))"
   ]
  },
  {
   "cell_type": "code",
   "execution_count": 44,
   "metadata": {},
   "outputs": [
    {
     "ename": "NameError",
     "evalue": "name 'randrange' is not defined",
     "output_type": "error",
     "traceback": [
      "\u001b[1;31m---------------------------------------------------------------------------\u001b[0m",
      "\u001b[1;31mNameError\u001b[0m                                 Traceback (most recent call last)",
      "\u001b[1;32m<ipython-input-44-7a211bcf35f1>\u001b[0m in \u001b[0;36m<module>\u001b[1;34m\u001b[0m\n\u001b[0;32m     11\u001b[0m \u001b[1;33m\u001b[0m\u001b[0m\n\u001b[0;32m     12\u001b[0m \u001b[0marg\u001b[0m \u001b[1;33m=\u001b[0m \u001b[1;36m1\u001b[0m\u001b[1;33m\u001b[0m\u001b[1;33m\u001b[0m\u001b[0m\n\u001b[1;32m---> 13\u001b[1;33m \u001b[0marg\u001b[0m \u001b[1;33m=\u001b[0m \u001b[0mrandrange\u001b[0m\u001b[1;33m(\u001b[0m\u001b[1;36m0\u001b[0m\u001b[1;33m,\u001b[0m\u001b[1;36m5\u001b[0m\u001b[1;33m,\u001b[0m\u001b[1;36m1\u001b[0m\u001b[1;33m)\u001b[0m\u001b[1;33m\u001b[0m\u001b[1;33m\u001b[0m\u001b[0m\n\u001b[0m\u001b[0;32m     14\u001b[0m \u001b[0mprint\u001b[0m\u001b[1;33m(\u001b[0m\u001b[0mswitch\u001b[0m\u001b[1;33m(\u001b[0m\u001b[0marg\u001b[0m\u001b[1;33m)\u001b[0m\u001b[1;33m)\u001b[0m\u001b[1;33m\u001b[0m\u001b[1;33m\u001b[0m\u001b[0m\n",
      "\u001b[1;31mNameError\u001b[0m: name 'randrange' is not defined"
     ]
    }
   ],
   "source": [
    "import random\n",
    "def switch(arg):\n",
    "    switcher = {\n",
    "        1 : \"one chosen\",\n",
    "        2 : \"two chosem\",\n",
    "        3 : \"three chosen\",\n",
    "        4 : \"four chosen\",\n",
    "        5 : \"five chosen\"\n",
    "    }\n",
    "    return switcher.get(arg, \"nothing\")\n",
    "\n",
    "arg = 1\n",
    "arg = randrange(0,5,1)\n",
    "print(switch(arg))"
   ]
  },
  {
   "cell_type": "code",
   "execution_count": null,
   "metadata": {},
   "outputs": [],
   "source": []
  }
 ],
 "metadata": {
  "kernelspec": {
   "display_name": "Python 3",
   "language": "python",
   "name": "python3"
  },
  "language_info": {
   "codemirror_mode": {
    "name": "ipython",
    "version": 3
   },
   "file_extension": ".py",
   "mimetype": "text/x-python",
   "name": "python",
   "nbconvert_exporter": "python",
   "pygments_lexer": "ipython3",
   "version": "3.7.3"
  }
 },
 "nbformat": 4,
 "nbformat_minor": 2
}

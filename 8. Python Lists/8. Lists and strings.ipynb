{
 "cells": [
  {
   "cell_type": "markdown",
   "metadata": {},
   "source": [
    "# Lists and strings"
   ]
  },
  {
   "cell_type": "code",
   "execution_count": 2,
   "metadata": {},
   "outputs": [
    {
     "name": "stdout",
     "output_type": "stream",
     "text": [
      "['M', 'a', 'g', 'e', 'n', 't', 'a']\n"
     ]
    }
   ],
   "source": [
    "# convert list from strings\n",
    "# 1. one character one by one\n",
    "string = \"Magenta\"\n",
    "list_f = list(string)\n",
    "print(list_f)"
   ]
  },
  {
   "cell_type": "code",
   "execution_count": 3,
   "metadata": {},
   "outputs": [
    {
     "name": "stdout",
     "output_type": "stream",
     "text": [
      "['Rose', 'Magenta', 'Lily', 'Iris']\n"
     ]
    }
   ],
   "source": [
    "#  split string into list, i.e. word by word\n",
    "string = \"Rose Magenta Lily Iris\"\n",
    "list_flowers = string.split(\" \")\n",
    "print(list_flowers)"
   ]
  },
  {
   "cell_type": "code",
   "execution_count": null,
   "metadata": {},
   "outputs": [],
   "source": []
  }
 ],
 "metadata": {
  "kernelspec": {
   "display_name": "Python 3",
   "language": "python",
   "name": "python3"
  },
  "language_info": {
   "codemirror_mode": {
    "name": "ipython",
    "version": 3
   },
   "file_extension": ".py",
   "mimetype": "text/x-python",
   "name": "python",
   "nbconvert_exporter": "python",
   "pygments_lexer": "ipython3",
   "version": "3.7.3"
  }
 },
 "nbformat": 4,
 "nbformat_minor": 2
}

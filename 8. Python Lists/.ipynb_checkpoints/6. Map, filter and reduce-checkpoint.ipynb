{
 "cells": [
  {
   "cell_type": "code",
   "execution_count": null,
   "metadata": {},
   "outputs": [],
   "source": [
    "# lambda arguments: expression"
   ]
  },
  {
   "cell_type": "markdown",
   "metadata": {},
   "source": [
    "# map"
   ]
  },
  {
   "cell_type": "code",
   "execution_count": 43,
   "metadata": {},
   "outputs": [],
   "source": [
    "# Map applies a function to all the items in an input_list"
   ]
  },
  {
   "cell_type": "code",
   "execution_count": null,
   "metadata": {},
   "outputs": [],
   "source": []
  },
  {
   "cell_type": "code",
   "execution_count": 16,
   "metadata": {},
   "outputs": [],
   "source": [
    "# map(function_to_apply, list_of_inputs)"
   ]
  },
  {
   "cell_type": "code",
   "execution_count": 18,
   "metadata": {},
   "outputs": [],
   "source": [
    "# Most of the times we want to pass all the list elements to a function one-by-one and then collect the output. For instance:\n",
    "\n",
    "# items = [1, 2, 3, 4, 5]\n",
    "# squared = []\n",
    "# for i in items:\n",
    "#     squared.append(i**2)\n",
    "\n",
    "# Map allows us to implement this in a much simpler and nicer way. Here you go:"
   ]
  },
  {
   "cell_type": "code",
   "execution_count": 14,
   "metadata": {},
   "outputs": [
    {
     "data": {
      "text/plain": [
       "[0, 1, 2, 3, 4, 5, 6, 7, 8, 9]"
      ]
     },
     "execution_count": 14,
     "metadata": {},
     "output_type": "execute_result"
    }
   ],
   "source": [
    "items = [0, 1, 2, 3, 4, 5, 6, 7, 8, 9]\n",
    "items"
   ]
  },
  {
   "cell_type": "code",
   "execution_count": 3,
   "metadata": {},
   "outputs": [],
   "source": [
    "# map facility"
   ]
  },
  {
   "cell_type": "code",
   "execution_count": 11,
   "metadata": {},
   "outputs": [
    {
     "name": "stdout",
     "output_type": "stream",
     "text": [
      "[0, 1, 4, 9, 16, 25, 36, 49, 64, 81]\n",
      "[0, 1, 8, 27, 64, 125, 216, 343, 512, 729]\n"
     ]
    }
   ],
   "source": [
    "# v1.0\n",
    "items = [0, 1, 2, 3, 4, 5, 6, 7, 8, 9]\n",
    "sq = list(map(lambda x: x**2, items))\n",
    "cubed = list(map(lambda x: x**3, items))\n",
    "print(sq)\n",
    "print(cubed)"
   ]
  },
  {
   "cell_type": "code",
   "execution_count": 13,
   "metadata": {},
   "outputs": [
    {
     "name": "stdout",
     "output_type": "stream",
     "text": [
      "[0, 1, 4, 9, 16, 25, 36, 49, 64, 81]\n"
     ]
    }
   ],
   "source": [
    "# v1.1\n",
    "items = [0, 1, 2, 3, 4, 5, 6, 7, 8, 9]\n",
    "def sq(x): return x**2\n",
    "sq = list (map(sq, items))\n",
    "print(sq)"
   ]
  },
  {
   "cell_type": "markdown",
   "metadata": {},
   "source": [
    "# Filter"
   ]
  },
  {
   "cell_type": "code",
   "execution_count": 24,
   "metadata": {},
   "outputs": [],
   "source": [
    "# filter creates a list of elements for which a function returns true"
   ]
  },
  {
   "cell_type": "code",
   "execution_count": 44,
   "metadata": {},
   "outputs": [
    {
     "name": "stdout",
     "output_type": "stream",
     "text": [
      "[1, 2, 3, 4]\n"
     ]
    }
   ],
   "source": [
    "# EXAMPLE : FINDING THE POSITIVE ELEMENETS FROM LIST \n",
    "number = [-5, -4, -3, -2, -1, 0, 1, 2, 3, 4]\n",
    "positives = list(filter(lambda x:x>0, number))\n",
    "print(positives)"
   ]
  },
  {
   "cell_type": "code",
   "execution_count": 50,
   "metadata": {},
   "outputs": [
    {
     "name": "stdout",
     "output_type": "stream",
     "text": [
      "[-25, 7, -4, -1, 1, 4, 9, 25]\n"
     ]
    }
   ],
   "source": [
    "# EXAMPLE 2 : REMOVING elements from elements from list\n",
    "# removing 16 from list \n",
    "f_list = list(filter(lambda x: x!=16 ,[-25, 16, 16 -9, -4, -1, 1, 4, 9, 25]))\n",
    "# f_list = list(filter(lambda x: x is not 16 ,[-25, 16, 16 -9, -4, -1, 1, 4, 9, 25])) # is also available\n",
    "print(f_list)"
   ]
  },
  {
   "cell_type": "markdown",
   "metadata": {},
   "source": [
    "# Reduce"
   ]
  },
  {
   "cell_type": "code",
   "execution_count": null,
   "metadata": {},
   "outputs": [],
   "source": [
    "# Reduce is a really useful function for performing some \n",
    "# computation on a list and returning the result. \n",
    "# It applies a rolling computation to sequential pairs of values in a list.\n",
    "# For example, if you wanted to compute the product of a list of integers."
   ]
  },
  {
   "cell_type": "code",
   "execution_count": 31,
   "metadata": {},
   "outputs": [
    {
     "name": "stdout",
     "output_type": "stream",
     "text": [
      "-2880\n"
     ]
    }
   ],
   "source": [
    "product = 1\n",
    "numbers = [-5, -4, -3, -2, -1, 1, 2, 3, 4]\n",
    "for num in numbers:\n",
    "    product = product * num\n",
    "print(product)"
   ]
  },
  {
   "cell_type": "code",
   "execution_count": 32,
   "metadata": {},
   "outputs": [],
   "source": [
    "# simpler way to do this:\n",
    "# 1. you need to import it from functools import reduce"
   ]
  },
  {
   "cell_type": "code",
   "execution_count": 42,
   "metadata": {},
   "outputs": [
    {
     "name": "stdout",
     "output_type": "stream",
     "text": [
      "-2880\n"
     ]
    }
   ],
   "source": [
    "from functools import reduce\n",
    "numbers = [-5, -4, -3, -2, -1, 1, 2, 3, 4]\n",
    "calculation = reduce(lambda x, y: x*y, numbers)\n",
    "print(calculation)"
   ]
  },
  {
   "cell_type": "code",
   "execution_count": null,
   "metadata": {},
   "outputs": [],
   "source": [
    "# map to use perform operation on all list items\n",
    "# filter to filter out list items on basis of condition\n",
    "# reduce to get value commuliative by performing operation on all list items"
   ]
  }
 ],
 "metadata": {
  "kernelspec": {
   "display_name": "Python 3",
   "language": "python",
   "name": "python3"
  },
  "language_info": {
   "codemirror_mode": {
    "name": "ipython",
    "version": 3
   },
   "file_extension": ".py",
   "mimetype": "text/x-python",
   "name": "python",
   "nbconvert_exporter": "python",
   "pygments_lexer": "ipython3",
   "version": "3.7.3"
  }
 },
 "nbformat": 4,
 "nbformat_minor": 2
}

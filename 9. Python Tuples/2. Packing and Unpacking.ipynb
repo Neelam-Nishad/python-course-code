{
 "cells": [
  {
   "cell_type": "markdown",
   "metadata": {},
   "source": [
    "# unpacking "
   ]
  },
  {
   "cell_type": "code",
   "execution_count": 5,
   "metadata": {},
   "outputs": [
    {
     "ename": "TypeError",
     "evalue": "printing() missing 3 required positional arguments: 'b', 'c', and 'd'",
     "output_type": "error",
     "traceback": [
      "\u001b[1;31m---------------------------------------------------------------------------\u001b[0m",
      "\u001b[1;31mTypeError\u001b[0m                                 Traceback (most recent call last)",
      "\u001b[1;32m<ipython-input-5-6eb5a59c0a7e>\u001b[0m in \u001b[0;36m<module>\u001b[1;34m\u001b[0m\n\u001b[0;32m     13\u001b[0m \u001b[0mname\u001b[0m \u001b[1;33m=\u001b[0m \u001b[1;33m[\u001b[0m\u001b[1;34m\"PENAN\"\u001b[0m\u001b[1;33m,\u001b[0m \u001b[1;34m\"CHETAN\"\u001b[0m\u001b[1;33m,\u001b[0m \u001b[1;34m\"RAHUL\"\u001b[0m\u001b[1;33m,\u001b[0m \u001b[1;34m\"MANOJ\"\u001b[0m\u001b[1;33m]\u001b[0m\u001b[1;33m\u001b[0m\u001b[1;33m\u001b[0m\u001b[0m\n\u001b[0;32m     14\u001b[0m \u001b[1;33m\u001b[0m\u001b[0m\n\u001b[1;32m---> 15\u001b[1;33m \u001b[0mprinting\u001b[0m\u001b[1;33m(\u001b[0m\u001b[0mname\u001b[0m\u001b[1;33m)\u001b[0m\u001b[1;33m\u001b[0m\u001b[1;33m\u001b[0m\u001b[0m\n\u001b[0m",
      "\u001b[1;31mTypeError\u001b[0m: printing() missing 3 required positional arguments: 'b', 'c', and 'd'"
     ]
    }
   ],
   "source": [
    "# need of unpacking \n",
    "# We use two operators * (for tuples) and ** (for dictionaries).\n",
    "\n",
    "# situation :Consider a situation where we have \n",
    "# a function that receives four arguments. We want \n",
    "# to make call to this function and we have a list \n",
    "# of size 4 with us that has all arguments for the \n",
    "# function. If we simply pass list to the function, \n",
    "# the call doesn’t work\n",
    "\n",
    "def printing (a, b, c, d):\n",
    "    print(a, b, c, d)\n",
    "name = [\"PENAN\", \"CHETAN\", \"RAHUL\", \"MANOJ\"]\n",
    "\n",
    "printing(name)"
   ]
  },
  {
   "cell_type": "code",
   "execution_count": 4,
   "metadata": {},
   "outputs": [
    {
     "name": "stdout",
     "output_type": "stream",
     "text": [
      "PENAN CHETAN RAHUL MANOJ\n"
     ]
    }
   ],
   "source": [
    "# Unpacking\n",
    "# Solution : We can use * to unpack the list \n",
    "#     so that all elements of it can be passed \n",
    "#     as different parameters.\n",
    "\n",
    "def printing (a, b, c, d):\n",
    "    print(a, b, c, d)\n",
    "name = [\"PENAN\", \"CHETAN\", \"RAHUL\", \"MANOJ\"]\n",
    "\n",
    "printing(*name) # we pass * List"
   ]
  },
  {
   "cell_type": "markdown",
   "metadata": {},
   "source": [
    "# Packing"
   ]
  },
  {
   "cell_type": "code",
   "execution_count": 6,
   "metadata": {},
   "outputs": [],
   "source": [
    "# Situation : When we don’t know how many \n",
    "# arguments need to be passed to a python \n",
    "# function, we can use Packing to pack all \n",
    "# arguments in a tuple."
   ]
  },
  {
   "cell_type": "code",
   "execution_count": 17,
   "metadata": {},
   "outputs": [
    {
     "name": "stdout",
     "output_type": "stream",
     "text": [
      "sum = 20\n",
      "sum = 41\n"
     ]
    }
   ],
   "source": [
    "def summed(*args): # we receive as tuple\n",
    "    sum = 0\n",
    "    for i in range(0, len(args)):\n",
    "        sum = sum + args[i]\n",
    "    print(\"sum =\", sum )\n",
    "summed( 1, 4, 6, 9 )\n",
    "summed( 16, 25)"
   ]
  },
  {
   "cell_type": "markdown",
   "metadata": {},
   "source": [
    "# Packing and Unpacking "
   ]
  },
  {
   "cell_type": "code",
   "execution_count": 21,
   "metadata": {},
   "outputs": [
    {
     "name": "stdout",
     "output_type": "stream",
     "text": [
      "('LILY', 'ROSE', 'IRIS', 'PALETTE')\n",
      "LILY ROSE IRIS\n",
      "HELLO WORLD IRIS\n"
     ]
    }
   ],
   "source": [
    "def fun1(a, b, c): #unpacking\n",
    "    print(a, b, c)\n",
    "def fun2(*args): # Packing\n",
    "    print(args)\n",
    "    args = list(args) \n",
    "\n",
    "    fun1(*args[0:3]) # we can only pass list items to unpacking\n",
    "    args[0:2]=[\"HELLO\", \"WORLD\"] # we convert into list to change the value \n",
    "    fun1(*args[0:3])\n",
    "\n",
    "fun2(\"LILY\", \"ROSE\", \"IRIS\", \"PALETTE\")"
   ]
  },
  {
   "cell_type": "markdown",
   "metadata": {},
   "source": [
    "# Tuple Packing and Unpacking"
   ]
  },
  {
   "cell_type": "code",
   "execution_count": 22,
   "metadata": {},
   "outputs": [
    {
     "data": {
      "text/plain": [
       "('PENAN', 20, 'B.Tech.')"
      ]
     },
     "execution_count": 22,
     "metadata": {},
     "output_type": "execute_result"
    }
   ],
   "source": [
    "student = ( \"PENAN\", 20, \"B.Tech.\") # tuple ## packing items into list \n",
    "student"
   ]
  },
  {
   "cell_type": "code",
   "execution_count": 25,
   "metadata": {},
   "outputs": [
    {
     "name": "stdout",
     "output_type": "stream",
     "text": [
      "PENAN\n",
      "20\n",
      "B.Tech.\n"
     ]
    }
   ],
   "source": [
    "(name, age, course) = student ## unpacking list items into separate items and assigning to variables\n",
    "print(name)\n",
    "print(age)\n",
    "print(course)"
   ]
  },
  {
   "cell_type": "code",
   "execution_count": null,
   "metadata": {},
   "outputs": [],
   "source": []
  }
 ],
 "metadata": {
  "kernelspec": {
   "display_name": "Python 3",
   "language": "python",
   "name": "python3"
  },
  "language_info": {
   "codemirror_mode": {
    "name": "ipython",
    "version": 3
   },
   "file_extension": ".py",
   "mimetype": "text/x-python",
   "name": "python",
   "nbconvert_exporter": "python",
   "pygments_lexer": "ipython3",
   "version": "3.7.3"
  }
 },
 "nbformat": 4,
 "nbformat_minor": 2
}

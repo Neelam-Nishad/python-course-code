{
 "cells": [
  {
   "cell_type": "code",
   "execution_count": 1,
   "metadata": {},
   "outputs": [],
   "source": [
    "# creating tuple using () brackets"
   ]
  },
  {
   "cell_type": "code",
   "execution_count": 3,
   "metadata": {},
   "outputs": [
    {
     "name": "stdout",
     "output_type": "stream",
     "text": [
      "('PENAN', 'CHETAN', 'RAHUL')\n"
     ]
    }
   ],
   "source": [
    "names = (\"PENAN\", \"CHETAN\", \"RAHUL\")\n",
    "print(names)"
   ]
  },
  {
   "cell_type": "code",
   "execution_count": 4,
   "metadata": {},
   "outputs": [],
   "source": [
    "# types"
   ]
  },
  {
   "cell_type": "code",
   "execution_count": 16,
   "metadata": {},
   "outputs": [],
   "source": [
    "# types of list\n",
    "numInt = (1, 2, 3, 4, 5, 6, 7, 8, 9, 10, 11, 12, 13, 14) # tuple of integers\n",
    "Flower = (\"Rose\", \"Lily\", \"Daisy\", \"Iris\", \"Lavender\", \"Sunflower\", \"Violet\", \"Waxflower\" ) # tuple of strings\n",
    "numFloat = (1.1, 1.2, 1.3, 1.4, 1.5, 1.6, 1.7, 1.8, 1.9, 2.0 ) # tuple of float\n",
    "TFList = ( True, False, True, False ) # tuple of true-false\n",
    "emptyList = () # empty tuple\n",
    "Dtuple = ((1,2,3), (4,5,6), (7,8,9)) # 2D tuple ## Tuple in tuple\n",
    "student = (\"PENAN\", 20, \"B.Tech.\") # mix datatype\n",
    "students_info = ((\"PENAN\", 20, \"CRICKET\"), (\"CHETAN\", 21, \"FOOTBALL\"), (\"RAHUL\", 22, \"PROGRAMMING\")) # Tuple in tuple ## mix datatype"
   ]
  },
  {
   "cell_type": "code",
   "execution_count": 18,
   "metadata": {},
   "outputs": [
    {
     "name": "stdout",
     "output_type": "stream",
     "text": [
      "(1, 2, 3, 4, 5, 6, 7, 8, 9, 10, 11, 12, 13, 14)\n",
      "('Rose', 'Lily', 'Daisy', 'Iris', 'Lavender', 'Sunflower', 'Violet', 'Waxflower')\n",
      "(1.1, 1.2, 1.3, 1.4, 1.5, 1.6, 1.7, 1.8, 1.9, 2.0)\n",
      "(True, False, True, False)\n",
      "()\n",
      "((1, 2, 3), (4, 5, 6), (7, 8, 9))\n",
      "(('PENAN', 20, 'CRICKET'), ('CHETAN', 21, 'FOOTBALL'), ('RAHUL', 22, 'PROGRAMMING'))\n"
     ]
    },
    {
     "ename": "NameError",
     "evalue": "name 'students_info' is not defined",
     "output_type": "error",
     "traceback": [
      "\u001b[1;31m---------------------------------------------------------------------------\u001b[0m",
      "\u001b[1;31mNameError\u001b[0m                                 Traceback (most recent call last)",
      "\u001b[1;32m<ipython-input-18-1ffaad0d3714>\u001b[0m in \u001b[0;36m<module>\u001b[1;34m\u001b[0m\n\u001b[0;32m      6\u001b[0m \u001b[0mprint\u001b[0m\u001b[1;33m(\u001b[0m\u001b[0mDtuple\u001b[0m\u001b[1;33m)\u001b[0m\u001b[1;33m\u001b[0m\u001b[1;33m\u001b[0m\u001b[0m\n\u001b[0;32m      7\u001b[0m \u001b[0mprint\u001b[0m\u001b[1;33m(\u001b[0m\u001b[0mstudent\u001b[0m\u001b[1;33m)\u001b[0m\u001b[1;33m\u001b[0m\u001b[1;33m\u001b[0m\u001b[0m\n\u001b[1;32m----> 8\u001b[1;33m \u001b[0mprint\u001b[0m\u001b[1;33m(\u001b[0m\u001b[0mstudents_info\u001b[0m\u001b[1;33m)\u001b[0m\u001b[1;33m\u001b[0m\u001b[1;33m\u001b[0m\u001b[0m\n\u001b[0m",
      "\u001b[1;31mNameError\u001b[0m: name 'students_info' is not defined"
     ]
    }
   ],
   "source": [
    "print(numInt)\n",
    "print(Flower)\n",
    "print(numFloat)\n",
    "print(TFList)\n",
    "print(emptyList)\n",
    "print(Dtuple)\n",
    "print(student)\n",
    "print(students_info)"
   ]
  },
  {
   "cell_type": "code",
   "execution_count": null,
   "metadata": {},
   "outputs": [],
   "source": []
  }
 ],
 "metadata": {
  "kernelspec": {
   "display_name": "Python 3",
   "language": "python",
   "name": "python3"
  },
  "language_info": {
   "codemirror_mode": {
    "name": "ipython",
    "version": 3
   },
   "file_extension": ".py",
   "mimetype": "text/x-python",
   "name": "python",
   "nbconvert_exporter": "python",
   "pygments_lexer": "ipython3",
   "version": "3.7.3"
  }
 },
 "nbformat": 4,
 "nbformat_minor": 2
}

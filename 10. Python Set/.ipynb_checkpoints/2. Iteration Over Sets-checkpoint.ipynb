{
 "cells": [
  {
   "cell_type": "code",
   "execution_count": 4,
   "metadata": {},
   "outputs": [
    {
     "name": "stdout",
     "output_type": "stream",
     "text": [
      "banana\n",
      "mango\n",
      "apple\n",
      "pinapple\n"
     ]
    }
   ],
   "source": [
    "fruit = {\"banana\", \"mango\", \"apple\", \"pinapple\"}\n",
    "# Iterate OVer Fruit\n",
    "for item in fruit:\n",
    "    print(item)"
   ]
  },
  {
   "cell_type": "code",
   "execution_count": 7,
   "metadata": {},
   "outputs": [
    {
     "name": "stdout",
     "output_type": "stream",
     "text": [
      "banana\n",
      "mango\n",
      "apple\n",
      "pinapple\n"
     ]
    },
    {
     "data": {
      "text/plain": [
       "[None, None, None, None]"
      ]
     },
     "execution_count": 7,
     "metadata": {},
     "output_type": "execute_result"
    }
   ],
   "source": [
    "# Iterating over a set using comprehension.\n",
    "[print(item) for item in fruit]\n"
   ]
  },
  {
   "cell_type": "code",
   "execution_count": 2,
   "metadata": {},
   "outputs": [
    {
     "name": "stdout",
     "output_type": "stream",
     "text": [
      "{'banana', 'mango', 'apple', 'pinapple'}\n"
     ]
    }
   ],
   "source": [
    "print(fruit)"
   ]
  },
  {
   "cell_type": "code",
   "execution_count": 6,
   "metadata": {},
   "outputs": [
    {
     "name": "stdout",
     "output_type": "stream",
     "text": [
      "0  :  banana\n",
      "1  :  mango\n",
      "2  :  apple\n",
      "3  :  pinapple\n"
     ]
    }
   ],
   "source": [
    "for id, value in enumerate(fruit):\n",
    "    print(id, \" : \", value)"
   ]
  },
  {
   "cell_type": "code",
   "execution_count": 2,
   "metadata": {},
   "outputs": [
    {
     "name": "stdout",
     "output_type": "stream",
     "text": [
      "0  :  banana\n",
      "1  :  mango\n",
      "2  :  apple\n",
      "3  :  pinapple\n"
     ]
    }
   ],
   "source": [
    "# 3 : Convert to List and have indexed Access\n",
    "fruit = {\"banana\", \"mango\", \"apple\", \"pinapple\"}\n",
    "list_fruit = list(fruit)\n",
    "i = 0 \n",
    "while(i<len(list_fruit)):\n",
    "    print(i, \" : \", list_fruit[i])\n",
    "    i = i + 1"
   ]
  },
  {
   "cell_type": "code",
   "execution_count": null,
   "metadata": {},
   "outputs": [],
   "source": []
  },
  {
   "cell_type": "code",
   "execution_count": null,
   "metadata": {},
   "outputs": [],
   "source": []
  }
 ],
 "metadata": {
  "kernelspec": {
   "display_name": "Python 3",
   "language": "python",
   "name": "python3"
  },
  "language_info": {
   "codemirror_mode": {
    "name": "ipython",
    "version": 3
   },
   "file_extension": ".py",
   "mimetype": "text/x-python",
   "name": "python",
   "nbconvert_exporter": "python",
   "pygments_lexer": "ipython3",
   "version": "3.7.3"
  }
 },
 "nbformat": 4,
 "nbformat_minor": 2
}

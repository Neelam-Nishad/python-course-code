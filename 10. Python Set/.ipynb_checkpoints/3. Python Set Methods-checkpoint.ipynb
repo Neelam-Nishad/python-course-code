{
 "cells": [
  {
   "cell_type": "code",
   "execution_count": 2,
   "metadata": {},
   "outputs": [],
   "source": [
    "# Add element"
   ]
  },
  {
   "cell_type": "code",
   "execution_count": 4,
   "metadata": {},
   "outputs": [],
   "source": [
    "# Method\tDescription\n",
    "# add()\tAdds an element to the set\n",
    "# clear()\tRemoves all the elements from the set\n",
    "# copy()\tReturns a copy of the set\n",
    "# difference()\tReturns a set containing the difference between two or more sets\n",
    "# difference_update()\tRemoves the items in this set that are also included in another, specified set\n",
    "# discard()\tRemove the specified item\n",
    "# intersection()\tReturns a set, that is the intersection of two other sets\n",
    "# intersection_update()\tRemoves the items in this set that are not present in other, specified set(s)\n",
    "# isdisjoint()\tReturns whether two sets have a intersection or not\n",
    "# issubset()\tReturns whether another set contains this set or not\n",
    "# issuperset()\tReturns whether this set contains another set or not\n",
    "# pop()\tRemoves an element from the set\n",
    "# remove()\tRemoves the specified element\n",
    "# symmetric_difference()\tReturns a set with the symmetric differences of two sets\n",
    "# symmetric_difference_update()\tinserts the symmetric differences from this set and another\n",
    "# union()\tReturn a set containing the union of sets\n",
    "# update()\tUpdate the set with the union of this set and others"
   ]
  },
  {
   "cell_type": "code",
   "execution_count": 14,
   "metadata": {},
   "outputs": [
    {
     "name": "stdout",
     "output_type": "stream",
     "text": [
      "{'banana', 'pinapple', 'mango', 'apple'}\n",
      "{'mango', 'tomato', 5, 'pinapple', 10, 'apple', 'banana'}\n"
     ]
    }
   ],
   "source": [
    "# add() to add element to set\n",
    "# set.add(elmnt)\n",
    "fruit = { \"banana\", \"apple\", \"pinapple\", \"mango\" }\n",
    "print(fruit)\n",
    "fruit.add(\"tomato\")\n",
    "fruit.add(5)\n",
    "fruit.add(10)\n",
    "print(fruit)"
   ]
  },
  {
   "cell_type": "code",
   "execution_count": 22,
   "metadata": {},
   "outputs": [
    {
     "name": "stdout",
     "output_type": "stream",
     "text": [
      "{'banana', 'pinapple', 'mango', 'apple'}\n",
      "set()\n"
     ]
    }
   ],
   "source": [
    "# clear all elements in set\n",
    "fruit = { \"banana\", \"apple\", \"pinapple\", \"mango\" }\n",
    "print(fruit)\n",
    "fruit.clear()\n",
    "print(fruit)"
   ]
  },
  {
   "cell_type": "code",
   "execution_count": 23,
   "metadata": {},
   "outputs": [],
   "source": [
    "# set Operations\n",
    "# 1. union sets\n",
    "# 2. intersection sets\n",
    "# 3. difference sets\n",
    "# 4. issubset \n",
    "# 5. issuperset\n",
    "# 6. isdisjoint"
   ]
  },
  {
   "cell_type": "code",
   "execution_count": 25,
   "metadata": {},
   "outputs": [
    {
     "data": {
      "text/plain": [
       "{5, 10, 15, 20, 25, 30}"
      ]
     },
     "execution_count": 25,
     "metadata": {},
     "output_type": "execute_result"
    }
   ],
   "source": [
    "# union of sets\n",
    "x = {5, 10, 15, 20}\n",
    "y = {15, 20, 25, 30}\n",
    "x.union(y)"
   ]
  },
  {
   "cell_type": "code",
   "execution_count": 26,
   "metadata": {},
   "outputs": [
    {
     "data": {
      "text/plain": [
       "{15, 20}"
      ]
     },
     "execution_count": 26,
     "metadata": {},
     "output_type": "execute_result"
    }
   ],
   "source": [
    "# intersection of sets\n",
    "x = {5, 10, 15, 20}\n",
    "y = {15, 20, 25, 30}\n",
    "x.intersection(y)"
   ]
  },
  {
   "cell_type": "code",
   "execution_count": 21,
   "metadata": {},
   "outputs": [
    {
     "data": {
      "text/plain": [
       "{5, 10}"
      ]
     },
     "execution_count": 21,
     "metadata": {},
     "output_type": "execute_result"
    }
   ],
   "source": [
    "# difference () \n",
    "x = {5, 10, 15, 20}\n",
    "y = {15, 20, 25, 30}\n",
    "x.difference(y)  # x - y"
   ]
  },
  {
   "cell_type": "code",
   "execution_count": 20,
   "metadata": {},
   "outputs": [
    {
     "data": {
      "text/plain": [
       "{25, 30}"
      ]
     },
     "execution_count": 20,
     "metadata": {},
     "output_type": "execute_result"
    }
   ],
   "source": [
    "y.difference(x)  # y - x"
   ]
  },
  {
   "cell_type": "code",
   "execution_count": 29,
   "metadata": {},
   "outputs": [
    {
     "data": {
      "text/plain": [
       "True"
      ]
     },
     "execution_count": 29,
     "metadata": {},
     "output_type": "execute_result"
    }
   ],
   "source": [
    "# issubset()\n",
    "x = {5, 10, 15, 20, 25}\n",
    "y = {15, 20}\n",
    "y.issubset(x) # y is subset of x ?"
   ]
  },
  {
   "cell_type": "code",
   "execution_count": 30,
   "metadata": {},
   "outputs": [
    {
     "data": {
      "text/plain": [
       "False"
      ]
     },
     "execution_count": 30,
     "metadata": {},
     "output_type": "execute_result"
    }
   ],
   "source": [
    "x.issubset(y) # x is subset of y ?"
   ]
  },
  {
   "cell_type": "code",
   "execution_count": 32,
   "metadata": {},
   "outputs": [
    {
     "data": {
      "text/plain": [
       "False"
      ]
     },
     "execution_count": 32,
     "metadata": {},
     "output_type": "execute_result"
    }
   ],
   "source": [
    "# 5. issuperset\n",
    "x = {5, 10, 15, 20, 25}\n",
    "y = {15, 20}\n",
    "y.issuperset(x) # y is subset of x ?"
   ]
  },
  {
   "cell_type": "code",
   "execution_count": 33,
   "metadata": {},
   "outputs": [
    {
     "data": {
      "text/plain": [
       "True"
      ]
     },
     "execution_count": 33,
     "metadata": {},
     "output_type": "execute_result"
    }
   ],
   "source": [
    "x.issuperset(y) # y is subset of x ?"
   ]
  },
  {
   "cell_type": "code",
   "execution_count": 34,
   "metadata": {},
   "outputs": [
    {
     "data": {
      "text/plain": [
       "False"
      ]
     },
     "execution_count": 34,
     "metadata": {},
     "output_type": "execute_result"
    }
   ],
   "source": [
    "# 6. isdisjoint()\n",
    "x = {5, 10, 15, 20, 25}\n",
    "y = {15, 20}\n",
    "x.isdisjoint(y)"
   ]
  },
  {
   "cell_type": "code",
   "execution_count": 36,
   "metadata": {},
   "outputs": [
    {
     "data": {
      "text/plain": [
       "True"
      ]
     },
     "execution_count": 36,
     "metadata": {},
     "output_type": "execute_result"
    }
   ],
   "source": [
    "x = {5, 10, 15, 20}\n",
    "y = {25, 30, 35, 40}\n",
    "x.isdisjoint(y)"
   ]
  },
  {
   "cell_type": "code",
   "execution_count": null,
   "metadata": {},
   "outputs": [],
   "source": [
    "# 7. Set Difference"
   ]
  }
 ],
 "metadata": {
  "kernelspec": {
   "display_name": "Python 3",
   "language": "python",
   "name": "python3"
  },
  "language_info": {
   "codemirror_mode": {
    "name": "ipython",
    "version": 3
   },
   "file_extension": ".py",
   "mimetype": "text/x-python",
   "name": "python",
   "nbconvert_exporter": "python",
   "pygments_lexer": "ipython3",
   "version": "3.7.3"
  }
 },
 "nbformat": 4,
 "nbformat_minor": 2
}

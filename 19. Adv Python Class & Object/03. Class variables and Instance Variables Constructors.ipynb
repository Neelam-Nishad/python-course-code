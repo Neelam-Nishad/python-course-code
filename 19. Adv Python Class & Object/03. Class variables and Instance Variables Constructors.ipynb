{
 "cells": [
  {
   "cell_type": "markdown",
   "metadata": {
    "ExecuteTime": {
     "end_time": "2019-07-01T20:30:59.339488Z",
     "start_time": "2019-07-01T20:30:59.336985Z"
    }
   },
   "source": [
    "# Class Variable"
   ]
  },
  {
   "cell_type": "code",
   "execution_count": 29,
   "metadata": {
    "ExecuteTime": {
     "end_time": "2019-07-01T20:32:16.650533Z",
     "start_time": "2019-07-01T20:32:16.646522Z"
    }
   },
   "outputs": [
    {
     "data": {
      "text/plain": [
       "'female'"
      ]
     },
     "execution_count": 29,
     "metadata": {},
     "output_type": "execute_result"
    }
   ],
   "source": [
    "class girl:\n",
    "    gender = 'female' # class Variable, always created when you create object\n",
    "\n",
    "s = girl()\n",
    "s.gender"
   ]
  },
  {
   "cell_type": "markdown",
   "metadata": {},
   "source": [
    "# Instance Varible"
   ]
  },
  {
   "cell_type": "code",
   "execution_count": 31,
   "metadata": {
    "ExecuteTime": {
     "end_time": "2019-07-01T20:33:20.736073Z",
     "start_time": "2019-07-01T20:33:20.731560Z"
    }
   },
   "outputs": [
    {
     "data": {
      "text/plain": [
       "'Rohini'"
      ]
     },
     "execution_count": 31,
     "metadata": {},
     "output_type": "execute_result"
    }
   ],
   "source": [
    "class girl:\n",
    "   def __init__(self, name):\n",
    "    self.name=name\n",
    "\n",
    "s = girl(\"Rohini\")\n",
    "s.name"
   ]
  },
  {
   "cell_type": "markdown",
   "metadata": {},
   "source": [
    "# Both Class Variable and Instance Variable "
   ]
  },
  {
   "cell_type": "code",
   "execution_count": null,
   "metadata": {
    "ExecuteTime": {
     "end_time": "2019-07-01T20:30:43.536750Z",
     "start_time": "2019-07-01T20:30:43.533752Z"
    }
   },
   "outputs": [],
   "source": [
    "class girl:\n",
    "    gender = 'female' # class Variable, always created when you create object\n",
    "    def nameOfGirl(self, name):\n",
    "        self.name = name         # Instance Variable, created onlyw when you call function"
   ]
  },
  {
   "cell_type": "code",
   "execution_count": 16,
   "metadata": {
    "ExecuteTime": {
     "end_time": "2019-07-01T19:40:16.415957Z",
     "start_time": "2019-07-01T19:40:16.412997Z"
    }
   },
   "outputs": [],
   "source": [
    "Rohini = girl() # As you created Object, class varibles are created and not Instance Variable"
   ]
  },
  {
   "cell_type": "code",
   "execution_count": 24,
   "metadata": {
    "ExecuteTime": {
     "end_time": "2019-07-01T19:42:00.491792Z",
     "start_time": "2019-07-01T19:42:00.486778Z"
    }
   },
   "outputs": [
    {
     "data": {
      "text/plain": [
       "'female'"
      ]
     },
     "execution_count": 24,
     "metadata": {},
     "output_type": "execute_result"
    }
   ],
   "source": [
    "Rohini.gender # this is class  variable"
   ]
  },
  {
   "cell_type": "code",
   "execution_count": 20,
   "metadata": {
    "ExecuteTime": {
     "end_time": "2019-07-01T19:40:44.043958Z",
     "start_time": "2019-07-01T19:40:44.036977Z"
    }
   },
   "outputs": [
    {
     "ename": "AttributeError",
     "evalue": "'girl' object has no attribute 'name'",
     "output_type": "error",
     "traceback": [
      "\u001b[1;31m---------------------------------------------------------------------------\u001b[0m",
      "\u001b[1;31mAttributeError\u001b[0m                            Traceback (most recent call last)",
      "\u001b[1;32m<ipython-input-20-8beafe48dee4>\u001b[0m in \u001b[0;36m<module>\u001b[1;34m\u001b[0m\n\u001b[1;32m----> 1\u001b[1;33m \u001b[0mRohini\u001b[0m\u001b[1;33m.\u001b[0m\u001b[0mname\u001b[0m\u001b[1;33m\u001b[0m\u001b[1;33m\u001b[0m\u001b[0m\n\u001b[0m",
      "\u001b[1;31mAttributeError\u001b[0m: 'girl' object has no attribute 'name'"
     ]
    }
   ],
   "source": [
    "Rohini.name # this is instance variable"
   ]
  },
  {
   "cell_type": "code",
   "execution_count": 21,
   "metadata": {
    "ExecuteTime": {
     "end_time": "2019-07-01T19:40:51.856011Z",
     "start_time": "2019-07-01T19:40:51.853005Z"
    }
   },
   "outputs": [],
   "source": [
    "Rohini.nameOfGirl(\"Rohini\")"
   ]
  },
  {
   "cell_type": "code",
   "execution_count": 26,
   "metadata": {
    "ExecuteTime": {
     "end_time": "2019-07-01T20:29:00.183646Z",
     "start_time": "2019-07-01T20:29:00.179134Z"
    }
   },
   "outputs": [
    {
     "data": {
      "text/plain": [
       "'Rohini'"
      ]
     },
     "execution_count": 26,
     "metadata": {},
     "output_type": "execute_result"
    }
   ],
   "source": [
    "Rohini.name # this is instance variable"
   ]
  },
  {
   "cell_type": "markdown",
   "metadata": {},
   "source": [
    "# Changing the Class Variable In Instance Variable"
   ]
  },
  {
   "cell_type": "markdown",
   "metadata": {},
   "source": [
    "* **concept here, we can class variable inside function via \"self\"**"
   ]
  },
  {
   "cell_type": "code",
   "execution_count": 34,
   "metadata": {
    "ExecuteTime": {
     "end_time": "2019-07-01T20:36:37.071190Z",
     "start_time": "2019-07-01T20:36:37.066178Z"
    }
   },
   "outputs": [
    {
     "name": "stdout",
     "output_type": "stream",
     "text": [
      "old name ABC\n",
      "new name Swati\n"
     ]
    }
   ],
   "source": [
    "class girl:\n",
    "    name = 'ABC' # class Variable, always created when you create object\n",
    "    def changeName(self, name):\n",
    "        self.name = name         # Instance Variable, created onlyw when you call function\n",
    "\n",
    "h = girl()\n",
    "print(\"old name\", h.name)\n",
    "h.changeName(\"Swati\")\n",
    "print(\"new name\", h.name)"
   ]
  },
  {
   "cell_type": "code",
   "execution_count": null,
   "metadata": {},
   "outputs": [],
   "source": []
  }
 ],
 "metadata": {
  "kernelspec": {
   "display_name": "Python 3",
   "language": "python",
   "name": "python3"
  },
  "language_info": {
   "codemirror_mode": {
    "name": "ipython",
    "version": 3
   },
   "file_extension": ".py",
   "mimetype": "text/x-python",
   "name": "python",
   "nbconvert_exporter": "python",
   "pygments_lexer": "ipython3",
   "version": "3.7.3"
  },
  "toc": {
   "base_numbering": 1,
   "nav_menu": {},
   "number_sections": true,
   "sideBar": true,
   "skip_h1_title": false,
   "title_cell": "Table of Contents",
   "title_sidebar": "Contents",
   "toc_cell": false,
   "toc_position": {},
   "toc_section_display": true,
   "toc_window_display": false
  },
  "varInspector": {
   "cols": {
    "lenName": 16,
    "lenType": 16,
    "lenVar": 40
   },
   "kernels_config": {
    "python": {
     "delete_cmd_postfix": "",
     "delete_cmd_prefix": "del ",
     "library": "var_list.py",
     "varRefreshCmd": "print(var_dic_list())"
    },
    "r": {
     "delete_cmd_postfix": ") ",
     "delete_cmd_prefix": "rm(",
     "library": "var_list.r",
     "varRefreshCmd": "cat(var_dic_list()) "
    }
   },
   "types_to_exclude": [
    "module",
    "function",
    "builtin_function_or_method",
    "instance",
    "_Feature"
   ],
   "window_display": false
  }
 },
 "nbformat": 4,
 "nbformat_minor": 2
}

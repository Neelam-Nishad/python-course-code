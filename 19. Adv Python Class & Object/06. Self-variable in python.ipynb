{
 "cells": [
  {
   "cell_type": "code",
   "execution_count": 7,
   "metadata": {
    "ExecuteTime": {
     "end_time": "2019-07-01T20:55:18.855866Z",
     "start_time": "2019-07-01T20:55:18.851857Z"
    }
   },
   "outputs": [
    {
     "name": "stdout",
     "output_type": "stream",
     "text": [
      "not allow loan\n"
     ]
    }
   ],
   "source": [
    "class bank:\n",
    "    money = False # This is only important\n",
    "    def loan(self):\n",
    "        if(self.money is not False):\n",
    "            print(\"allow loan\")\n",
    "        else:\n",
    "            print(\"not allow loan\")\n",
    "x = bank()\n",
    "x.loan()"
   ]
  },
  {
   "cell_type": "code",
   "execution_count": 10,
   "metadata": {
    "ExecuteTime": {
     "end_time": "2019-07-01T20:56:55.199811Z",
     "start_time": "2019-07-01T20:56:55.196301Z"
    }
   },
   "outputs": [
    {
     "name": "stdout",
     "output_type": "stream",
     "text": [
      "x.money  =>   False\n",
      "y.money  =>   True\n"
     ]
    }
   ],
   "source": [
    "x = bank()\n",
    "print(\"x.money  =>  \", x.money)\n",
    "\n",
    "y = bank()\n",
    "y.bank = True\n",
    "print(\"y.money  =>  \", y.bank)"
   ]
  },
  {
   "cell_type": "markdown",
   "metadata": {},
   "source": [
    "self variable means \"self refers to the bound variable or object. In the first case it was x because we had assigned the bank class to x whereas in the second case it referred to bank(). **Now if we have another bank y, self will know to access the money value of y and not x.\"**"
   ]
  },
  {
   "cell_type": "code",
   "execution_count": null,
   "metadata": {},
   "outputs": [],
   "source": []
  }
 ],
 "metadata": {
  "kernelspec": {
   "display_name": "Python 3",
   "language": "python",
   "name": "python3"
  },
  "language_info": {
   "codemirror_mode": {
    "name": "ipython",
    "version": 3
   },
   "file_extension": ".py",
   "mimetype": "text/x-python",
   "name": "python",
   "nbconvert_exporter": "python",
   "pygments_lexer": "ipython3",
   "version": "3.7.3"
  },
  "toc": {
   "base_numbering": 1,
   "nav_menu": {},
   "number_sections": true,
   "sideBar": true,
   "skip_h1_title": false,
   "title_cell": "Table of Contents",
   "title_sidebar": "Contents",
   "toc_cell": false,
   "toc_position": {},
   "toc_section_display": true,
   "toc_window_display": false
  },
  "varInspector": {
   "cols": {
    "lenName": 16,
    "lenType": 16,
    "lenVar": 40
   },
   "kernels_config": {
    "python": {
     "delete_cmd_postfix": "",
     "delete_cmd_prefix": "del ",
     "library": "var_list.py",
     "varRefreshCmd": "print(var_dic_list())"
    },
    "r": {
     "delete_cmd_postfix": ") ",
     "delete_cmd_prefix": "rm(",
     "library": "var_list.r",
     "varRefreshCmd": "cat(var_dic_list()) "
    }
   },
   "types_to_exclude": [
    "module",
    "function",
    "builtin_function_or_method",
    "instance",
    "_Feature"
   ],
   "window_display": false
  }
 },
 "nbformat": 4,
 "nbformat_minor": 2
}

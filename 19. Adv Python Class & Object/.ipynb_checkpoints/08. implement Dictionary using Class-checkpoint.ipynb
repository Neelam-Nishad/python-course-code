{
 "cells": [
  {
   "cell_type": "code",
   "execution_count": 8,
   "metadata": {
    "ExecuteTime": {
     "end_time": "2019-07-02T21:33:10.472158Z",
     "start_time": "2019-07-02T21:33:10.454110Z"
    }
   },
   "outputs": [
    {
     "name": "stdout",
     "output_type": "stream",
     "text": [
      "{4: 'apple', 8: 'mango'}\n",
      "{8: 'mango'}\n",
      "{8: 'mango', 1: 'iris', 2: 'banana', 0: 'rose'}\n"
     ]
    },
    {
     "data": {
      "text/plain": [
       "True"
      ]
     },
     "execution_count": 8,
     "metadata": {},
     "output_type": "execute_result"
    }
   ],
   "source": [
    "class Dictionary:\n",
    "\n",
    "    '''This is implementation of dictionary in class'''\n",
    "\n",
    "    def __init__(self, key, value):\n",
    "        self.dict = {}\n",
    "        self.dict[key] = value\n",
    "\n",
    "    def show(self):\n",
    "        print(self.dict)\n",
    "\n",
    "    def add(self, key, value):\n",
    "        self.dict[key] = value\n",
    "\n",
    "    def remove(self, key):\n",
    "        del self.dict[key]\n",
    "\n",
    "    def contains(self, key):\n",
    "        return key in self.dict\n",
    "    def __repr__(self):\n",
    "        return \"Set: \" + str(self.dict.keys())\n",
    "\n",
    "d = Dictionary(4, \"apple\")\n",
    "d.add(8, \"mango\")\n",
    "d.show()\n",
    "d.remove(4)\n",
    "d.show()\n",
    "d.add(1, \"iris\")\n",
    "d.add(2, \"banana\")\n",
    "d.add(0, \"rose\")\n",
    "d.show()\n",
    "\n",
    "d.contains(8)"
   ]
  },
  {
   "cell_type": "code",
   "execution_count": 9,
   "metadata": {
    "ExecuteTime": {
     "end_time": "2019-07-02T21:33:14.379947Z",
     "start_time": "2019-07-02T21:33:14.373390Z"
    }
   },
   "outputs": [
    {
     "data": {
      "text/plain": [
       "'Set: dict_keys([8, 1, 2, 0])'"
      ]
     },
     "execution_count": 9,
     "metadata": {},
     "output_type": "execute_result"
    }
   ],
   "source": [
    "repr(d)"
   ]
  },
  {
   "cell_type": "code",
   "execution_count": null,
   "metadata": {},
   "outputs": [],
   "source": []
  }
 ],
 "metadata": {
  "kernelspec": {
   "display_name": "Python 3",
   "language": "python",
   "name": "python3"
  },
  "language_info": {
   "codemirror_mode": {
    "name": "ipython",
    "version": 3
   },
   "file_extension": ".py",
   "mimetype": "text/x-python",
   "name": "python",
   "nbconvert_exporter": "python",
   "pygments_lexer": "ipython3",
   "version": "3.7.3"
  },
  "toc": {
   "base_numbering": 1,
   "nav_menu": {},
   "number_sections": true,
   "sideBar": true,
   "skip_h1_title": false,
   "title_cell": "Table of Contents",
   "title_sidebar": "Contents",
   "toc_cell": false,
   "toc_position": {},
   "toc_section_display": true,
   "toc_window_display": false
  },
  "varInspector": {
   "cols": {
    "lenName": 16,
    "lenType": 16,
    "lenVar": 40
   },
   "kernels_config": {
    "python": {
     "delete_cmd_postfix": "",
     "delete_cmd_prefix": "del ",
     "library": "var_list.py",
     "varRefreshCmd": "print(var_dic_list())"
    },
    "r": {
     "delete_cmd_postfix": ") ",
     "delete_cmd_prefix": "rm(",
     "library": "var_list.r",
     "varRefreshCmd": "cat(var_dic_list()) "
    }
   },
   "types_to_exclude": [
    "module",
    "function",
    "builtin_function_or_method",
    "instance",
    "_Feature"
   ],
   "window_display": false
  }
 },
 "nbformat": 4,
 "nbformat_minor": 2
}

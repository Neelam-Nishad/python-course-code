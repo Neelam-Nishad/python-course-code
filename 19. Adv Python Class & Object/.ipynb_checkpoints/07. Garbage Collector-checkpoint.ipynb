{
 "cells": [
  {
   "cell_type": "code",
   "execution_count": 1,
   "metadata": {
    "ExecuteTime": {
     "end_time": "2019-07-01T21:18:04.031380Z",
     "start_time": "2019-07-01T21:18:04.028372Z"
    }
   },
   "outputs": [],
   "source": [
    "class Stack:\n",
    "    def __del__(self):\n",
    "        print(\"No memeory for object Stack => \", format(self))\n"
   ]
  },
  {
   "cell_type": "code",
   "execution_count": 2,
   "metadata": {
    "ExecuteTime": {
     "end_time": "2019-07-01T21:18:23.672685Z",
     "start_time": "2019-07-01T21:18:23.670178Z"
    }
   },
   "outputs": [],
   "source": [
    "s1 = Stack()\n",
    "s2 = s1\n",
    "s3 = s2"
   ]
  },
  {
   "cell_type": "code",
   "execution_count": 3,
   "metadata": {
    "ExecuteTime": {
     "end_time": "2019-07-01T21:18:33.768523Z",
     "start_time": "2019-07-01T21:18:33.765517Z"
    }
   },
   "outputs": [],
   "source": [
    "s1 = None"
   ]
  },
  {
   "cell_type": "code",
   "execution_count": 4,
   "metadata": {
    "ExecuteTime": {
     "end_time": "2019-07-01T21:18:37.041903Z",
     "start_time": "2019-07-01T21:18:37.038439Z"
    }
   },
   "outputs": [],
   "source": [
    "s2 = None"
   ]
  },
  {
   "cell_type": "code",
   "execution_count": 5,
   "metadata": {
    "ExecuteTime": {
     "end_time": "2019-07-01T21:18:43.594809Z",
     "start_time": "2019-07-01T21:18:43.591301Z"
    }
   },
   "outputs": [
    {
     "name": "stdout",
     "output_type": "stream",
     "text": [
      "No memeory for object Stack =>  <__main__.Stack object at 0x000001BB5106AF98>\n"
     ]
    }
   ],
   "source": [
    "s3 = None"
   ]
  },
  {
   "cell_type": "code",
   "execution_count": 7,
   "metadata": {
    "ExecuteTime": {
     "end_time": "2019-07-01T21:19:21.992221Z",
     "start_time": "2019-07-01T21:19:21.989712Z"
    }
   },
   "outputs": [],
   "source": [
    "s2 = Stack"
   ]
  },
  {
   "cell_type": "code",
   "execution_count": 8,
   "metadata": {
    "ExecuteTime": {
     "end_time": "2019-07-01T21:19:25.008299Z",
     "start_time": "2019-07-01T21:19:25.005749Z"
    }
   },
   "outputs": [],
   "source": [
    "s2 = None"
   ]
  },
  {
   "cell_type": "code",
   "execution_count": 9,
   "metadata": {
    "ExecuteTime": {
     "end_time": "2019-07-01T21:19:44.152572Z",
     "start_time": "2019-07-01T21:19:44.150064Z"
    }
   },
   "outputs": [],
   "source": [
    "s1 = Stack()\n",
    "s2 = s1"
   ]
  },
  {
   "cell_type": "code",
   "execution_count": 10,
   "metadata": {
    "ExecuteTime": {
     "end_time": "2019-07-01T21:19:56.464999Z",
     "start_time": "2019-07-01T21:19:56.462490Z"
    }
   },
   "outputs": [],
   "source": [
    "s2 = None"
   ]
  },
  {
   "cell_type": "code",
   "execution_count": 11,
   "metadata": {
    "ExecuteTime": {
     "end_time": "2019-07-01T21:20:02.922335Z",
     "start_time": "2019-07-01T21:20:02.918865Z"
    }
   },
   "outputs": [
    {
     "name": "stdout",
     "output_type": "stream",
     "text": [
      "No memeory for object Stack =>  <__main__.Stack object at 0x000001BB5142E5C0>\n"
     ]
    }
   ],
   "source": [
    "s1 = None"
   ]
  },
  {
   "cell_type": "code",
   "execution_count": 12,
   "metadata": {
    "ExecuteTime": {
     "end_time": "2019-07-01T21:20:34.225369Z",
     "start_time": "2019-07-01T21:20:34.222862Z"
    }
   },
   "outputs": [],
   "source": [
    "s1 = Stack()\n",
    "s2 = s1"
   ]
  },
  {
   "cell_type": "code",
   "execution_count": 13,
   "metadata": {
    "ExecuteTime": {
     "end_time": "2019-07-01T21:20:40.226143Z",
     "start_time": "2019-07-01T21:20:40.223639Z"
    }
   },
   "outputs": [],
   "source": [
    "s1 = None"
   ]
  },
  {
   "cell_type": "code",
   "execution_count": 14,
   "metadata": {
    "ExecuteTime": {
     "end_time": "2019-07-01T21:20:44.137223Z",
     "start_time": "2019-07-01T21:20:44.134214Z"
    }
   },
   "outputs": [
    {
     "name": "stdout",
     "output_type": "stream",
     "text": [
      "No memeory for object Stack =>  <__main__.Stack object at 0x000001BB5106E860>\n"
     ]
    }
   ],
   "source": [
    "s2 = None"
   ]
  },
  {
   "cell_type": "markdown",
   "metadata": {
    "ExecuteTime": {
     "end_time": "2019-07-01T21:24:02.881224Z",
     "start_time": "2019-07-01T21:24:02.879195Z"
    }
   },
   "source": [
    "**if you just create object, you create memory, you dont create memory reference  \n",
    "concept here is when you save one object into another, you make copy of it, you create memory and memory reference**\n",
    "\n",
    "**so when you assign all emory reference to Nonee, or delete object   \n",
    "at final it displays memory reference is also deleted**\n"
   ]
  },
  {
   "cell_type": "code",
   "execution_count": 16,
   "metadata": {
    "ExecuteTime": {
     "end_time": "2019-07-01T21:24:52.201791Z",
     "start_time": "2019-07-01T21:24:52.199247Z"
    }
   },
   "outputs": [],
   "source": [
    "s1 = Stack()\n",
    "s2 = s1"
   ]
  },
  {
   "cell_type": "code",
   "execution_count": 17,
   "metadata": {
    "ExecuteTime": {
     "end_time": "2019-07-01T21:24:57.921132Z",
     "start_time": "2019-07-01T21:24:57.918587Z"
    }
   },
   "outputs": [],
   "source": [
    "del s2"
   ]
  },
  {
   "cell_type": "code",
   "execution_count": 18,
   "metadata": {
    "ExecuteTime": {
     "end_time": "2019-07-01T21:25:01.979312Z",
     "start_time": "2019-07-01T21:25:01.975802Z"
    }
   },
   "outputs": [
    {
     "name": "stdout",
     "output_type": "stream",
     "text": [
      "No memeory for object Stack =>  <__main__.Stack object at 0x000001BB5106A208>\n"
     ]
    }
   ],
   "source": [
    "del s1 # last object variable that has reference "
   ]
  },
  {
   "cell_type": "code",
   "execution_count": null,
   "metadata": {},
   "outputs": [],
   "source": []
  }
 ],
 "metadata": {
  "kernelspec": {
   "display_name": "Python 3",
   "language": "python",
   "name": "python3"
  },
  "language_info": {
   "codemirror_mode": {
    "name": "ipython",
    "version": 3
   },
   "file_extension": ".py",
   "mimetype": "text/x-python",
   "name": "python",
   "nbconvert_exporter": "python",
   "pygments_lexer": "ipython3",
   "version": "3.7.3"
  },
  "toc": {
   "base_numbering": 1,
   "nav_menu": {},
   "number_sections": true,
   "sideBar": true,
   "skip_h1_title": false,
   "title_cell": "Table of Contents",
   "title_sidebar": "Contents",
   "toc_cell": false,
   "toc_position": {},
   "toc_section_display": true,
   "toc_window_display": false
  },
  "varInspector": {
   "cols": {
    "lenName": 16,
    "lenType": 16,
    "lenVar": 40
   },
   "kernels_config": {
    "python": {
     "delete_cmd_postfix": "",
     "delete_cmd_prefix": "del ",
     "library": "var_list.py",
     "varRefreshCmd": "print(var_dic_list())"
    },
    "r": {
     "delete_cmd_postfix": ") ",
     "delete_cmd_prefix": "rm(",
     "library": "var_list.r",
     "varRefreshCmd": "cat(var_dic_list()) "
    }
   },
   "types_to_exclude": [
    "module",
    "function",
    "builtin_function_or_method",
    "instance",
    "_Feature"
   ],
   "window_display": false
  }
 },
 "nbformat": 4,
 "nbformat_minor": 2
}

{
 "cells": [
  {
   "cell_type": "markdown",
   "metadata": {},
   "source": [
    "# Magic methods"
   ]
  },
  {
   "cell_type": "markdown",
   "metadata": {},
   "source": [
    "1. __init__\n",
    "2. __add__\n",
    "3. __str__\n",
    "4. __repr__"
   ]
  },
  {
   "cell_type": "code",
   "execution_count": 18,
   "metadata": {
    "ExecuteTime": {
     "end_time": "2019-07-03T08:48:53.813574Z",
     "start_time": "2019-07-03T08:48:53.808560Z"
    },
    "scrolled": true
   },
   "outputs": [
    {
     "name": "stdout",
     "output_type": "stream",
     "text": [
      "Penan-Rajput - penan-rajput@gmail.com\n",
      "Penan-Rajput - penan-rajput@gmail.com\n",
      "Employee(Penan, Rajput, 4000)\n"
     ]
    }
   ],
   "source": [
    "class Employee:\n",
    "    def __init__(self, name, lastname, salary):\n",
    "        self.firstname = name\n",
    "        self.lastname = lastname\n",
    "        self.salary = salary\n",
    "        self.fullname = self.firstname + \"-\" + self.lastname\n",
    "        self.email = self.fullname.lower() + \"@gmail.com\"\n",
    "\n",
    "    def __str__(self):\n",
    "        return \"{} - {}\".format(self.fullname, self.email)\n",
    "    def __repr__(self):\n",
    "        return \"Employee({}, {}, {})\".format(self.firstname, self.lastname, self.salary)\n",
    "\n",
    "E1 = Employee(\"Penan\", \"Rajput\", 4000)\n",
    "\n",
    "print(E1) # prints str version of emplyee\n",
    "\n",
    "print(str(E1))# prints str version of emplyee\n",
    "print(repr(E1))# prints repr version of emplyee\n",
    "\n",
    "\n",
    "# print(E1.__str__()) # sane as str(E1)\n",
    "# print(E1.__repr__()) # same as repr(E1)"
   ]
  },
  {
   "cell_type": "code",
   "execution_count": 19,
   "metadata": {
    "ExecuteTime": {
     "end_time": "2019-07-03T08:50:07.853217Z",
     "start_time": "2019-07-03T08:50:07.850213Z"
    }
   },
   "outputs": [],
   "source": [
    "# aeithmatic"
   ]
  },
  {
   "cell_type": "code",
   "execution_count": 21,
   "metadata": {
    "ExecuteTime": {
     "end_time": "2019-07-03T08:50:41.523944Z",
     "start_time": "2019-07-03T08:50:41.519933Z"
    }
   },
   "outputs": [
    {
     "name": "stdout",
     "output_type": "stream",
     "text": [
      "5\n",
      "5\n"
     ]
    }
   ],
   "source": [
    "print(2+3)\n",
    "print(int.__add__(1, 4))"
   ]
  },
  {
   "cell_type": "code",
   "execution_count": 22,
   "metadata": {
    "ExecuteTime": {
     "end_time": "2019-07-03T08:51:01.601390Z",
     "start_time": "2019-07-03T08:51:01.598382Z"
    }
   },
   "outputs": [
    {
     "name": "stdout",
     "output_type": "stream",
     "text": [
      "ABCXYZ\n"
     ]
    }
   ],
   "source": [
    "print(str.__add__(\"ABC\", \"XYZ\"))"
   ]
  },
  {
   "cell_type": "code",
   "execution_count": 25,
   "metadata": {
    "ExecuteTime": {
     "end_time": "2019-07-03T08:52:07.174694Z",
     "start_time": "2019-07-03T08:52:07.171685Z"
    }
   },
   "outputs": [],
   "source": [
    "# Adding Employees salary when objects added and print salary\n",
    "# E1 + E2"
   ]
  },
  {
   "cell_type": "code",
   "execution_count": 38,
   "metadata": {
    "ExecuteTime": {
     "end_time": "2019-07-03T08:57:17.021905Z",
     "start_time": "2019-07-03T08:57:16.928779Z"
    }
   },
   "outputs": [],
   "source": [
    "%reset -f\n",
    "class Employee:\n",
    "    def __init__(self, name, lastname, salary):\n",
    "        self.firstname = name\n",
    "        self.lastname = lastname\n",
    "        self.salary = int(salary)\n",
    "        self.fullname = self.firstname + \"-\" + self.lastname\n",
    "        self.email = self.fullname.lower() + \"@gmail.com\"\n",
    "\n",
    "#     def __add__(self, E):\n",
    "#         return self.salary + E.salary\n",
    "    \n",
    "    @classmethod\n",
    "    def fromString(cls, emp_str):\n",
    "        first, last, salary = emp_str.strip().split(\"-\")\n",
    "        return cls(first, last, salary)"
   ]
  },
  {
   "cell_type": "code",
   "execution_count": 39,
   "metadata": {
    "ExecuteTime": {
     "end_time": "2019-07-03T08:57:18.731880Z",
     "start_time": "2019-07-03T08:57:18.727869Z"
    }
   },
   "outputs": [],
   "source": [
    "E1 = Employee.fromString(\"Penan-Rajput-7000\")\n",
    "E2 = Employee.fromString(\"Chetan-Rajput-4000\")"
   ]
  },
  {
   "cell_type": "code",
   "execution_count": 40,
   "metadata": {
    "ExecuteTime": {
     "end_time": "2019-07-03T08:57:19.133667Z",
     "start_time": "2019-07-03T08:57:19.127650Z"
    }
   },
   "outputs": [
    {
     "data": {
      "text/plain": [
       "11000"
      ]
     },
     "execution_count": 40,
     "metadata": {},
     "output_type": "execute_result"
    }
   ],
   "source": [
    "E1+E2"
   ]
  },
  {
   "cell_type": "code",
   "execution_count": null,
   "metadata": {},
   "outputs": [],
   "source": []
  }
 ],
 "metadata": {
  "kernelspec": {
   "display_name": "Python 3",
   "language": "python",
   "name": "python3"
  },
  "language_info": {
   "codemirror_mode": {
    "name": "ipython",
    "version": 3
   },
   "file_extension": ".py",
   "mimetype": "text/x-python",
   "name": "python",
   "nbconvert_exporter": "python",
   "pygments_lexer": "ipython3",
   "version": "3.7.3"
  },
  "toc": {
   "base_numbering": 1,
   "nav_menu": {},
   "number_sections": true,
   "sideBar": true,
   "skip_h1_title": false,
   "title_cell": "Table of Contents",
   "title_sidebar": "Contents",
   "toc_cell": false,
   "toc_position": {},
   "toc_section_display": true,
   "toc_window_display": false
  },
  "varInspector": {
   "cols": {
    "lenName": 16,
    "lenType": 16,
    "lenVar": 40
   },
   "kernels_config": {
    "python": {
     "delete_cmd_postfix": "",
     "delete_cmd_prefix": "del ",
     "library": "var_list.py",
     "varRefreshCmd": "print(var_dic_list())"
    },
    "r": {
     "delete_cmd_postfix": ") ",
     "delete_cmd_prefix": "rm(",
     "library": "var_list.r",
     "varRefreshCmd": "cat(var_dic_list()) "
    }
   },
   "types_to_exclude": [
    "module",
    "function",
    "builtin_function_or_method",
    "instance",
    "_Feature"
   ],
   "window_display": false
  }
 },
 "nbformat": 4,
 "nbformat_minor": 2
}

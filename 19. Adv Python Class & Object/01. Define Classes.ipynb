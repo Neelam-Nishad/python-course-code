{
 "cells": [
  {
   "cell_type": "markdown",
   "metadata": {},
   "source": [
    "# class < classname >:"
   ]
  },
  {
   "cell_type": "code",
   "execution_count": 1,
   "metadata": {
    "ExecuteTime": {
     "end_time": "2019-07-02T17:35:00.953288Z",
     "start_time": "2019-07-02T17:35:00.949319Z"
    }
   },
   "outputs": [],
   "source": [
    "class Box:\n",
    "    def __init__(self):\n",
    "        '''This is  Doc-String Initialisation '''\n",
    "        self.a = 10\n",
    "        self.b = 20\n",
    "    def show(self):\n",
    "        print(\"a = \", self.a, \" b = \", self.b)"
   ]
  },
  {
   "cell_type": "code",
   "execution_count": 7,
   "metadata": {
    "ExecuteTime": {
     "end_time": "2019-07-01T18:28:22.939957Z",
     "start_time": "2019-07-01T18:28:22.934940Z"
    }
   },
   "outputs": [
    {
     "name": "stdout",
     "output_type": "stream",
     "text": [
      "a =  10  b =  20\n"
     ]
    }
   ],
   "source": [
    "rectangle = Box()\n",
    "rectangle.show()"
   ]
  },
  {
   "cell_type": "code",
   "execution_count": 8,
   "metadata": {
    "ExecuteTime": {
     "end_time": "2019-07-01T18:31:00.579751Z",
     "start_time": "2019-07-01T18:31:00.575198Z"
    }
   },
   "outputs": [],
   "source": [
    "class Box:\n",
    "    def __init__(self): ##initlaisation\n",
    "        '''This is  Doc-String Initialisation '''\n",
    "        self.a = 10\n",
    "        self.b = 20\n",
    "    def __init__(self, a, b):\n",
    "        self.a = a\n",
    "        self.b = b\n",
    "    def show(self):\n",
    "        print(\"a = \", self.a, \" b = \", self.b)"
   ]
  },
  {
   "cell_type": "code",
   "execution_count": 9,
   "metadata": {
    "ExecuteTime": {
     "end_time": "2019-07-01T18:31:11.291912Z",
     "start_time": "2019-07-01T18:31:11.288440Z"
    }
   },
   "outputs": [
    {
     "name": "stdout",
     "output_type": "stream",
     "text": [
      "a =  40  b =  50\n"
     ]
    }
   ],
   "source": [
    "rectangle = Box(40, 50)\n",
    "rectangle.show()"
   ]
  },
  {
   "cell_type": "markdown",
   "metadata": {},
   "source": [
    "# class < classname >(object):"
   ]
  },
  {
   "cell_type": "code",
   "execution_count": 2,
   "metadata": {
    "ExecuteTime": {
     "end_time": "2019-07-02T17:36:00.794338Z",
     "start_time": "2019-07-02T17:36:00.790330Z"
    }
   },
   "outputs": [
    {
     "name": "stdout",
     "output_type": "stream",
     "text": [
      "a =  10  b =  20\n"
     ]
    }
   ],
   "source": [
    "class Box(object):\n",
    "    def __init__(self):\n",
    "        '''This is  Doc-String Initialisation '''\n",
    "        self.a = 10\n",
    "        self.b = 20\n",
    "    def show(self):\n",
    "        print(\"a = \", self.a, \" b = \", self.b)\n",
    "rectangle = Box()\n",
    "rectangle.show()"
   ]
  },
  {
   "cell_type": "code",
   "execution_count": null,
   "metadata": {},
   "outputs": [],
   "source": []
  }
 ],
 "metadata": {
  "kernelspec": {
   "display_name": "Python 3",
   "language": "python",
   "name": "python3"
  },
  "language_info": {
   "codemirror_mode": {
    "name": "ipython",
    "version": 3
   },
   "file_extension": ".py",
   "mimetype": "text/x-python",
   "name": "python",
   "nbconvert_exporter": "python",
   "pygments_lexer": "ipython3",
   "version": "3.7.3"
  },
  "toc": {
   "base_numbering": 1,
   "nav_menu": {},
   "number_sections": true,
   "sideBar": true,
   "skip_h1_title": false,
   "title_cell": "Table of Contents",
   "title_sidebar": "Contents",
   "toc_cell": false,
   "toc_position": {},
   "toc_section_display": true,
   "toc_window_display": false
  },
  "varInspector": {
   "cols": {
    "lenName": 16,
    "lenType": 16,
    "lenVar": 40
   },
   "kernels_config": {
    "python": {
     "delete_cmd_postfix": "",
     "delete_cmd_prefix": "del ",
     "library": "var_list.py",
     "varRefreshCmd": "print(var_dic_list())"
    },
    "r": {
     "delete_cmd_postfix": ") ",
     "delete_cmd_prefix": "rm(",
     "library": "var_list.r",
     "varRefreshCmd": "cat(var_dic_list()) "
    }
   },
   "types_to_exclude": [
    "module",
    "function",
    "builtin_function_or_method",
    "instance",
    "_Feature"
   ],
   "window_display": false
  }
 },
 "nbformat": 4,
 "nbformat_minor": 2
}

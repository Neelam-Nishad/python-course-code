{
 "cells": [
  {
   "cell_type": "code",
   "execution_count": 9,
   "metadata": {
    "ExecuteTime": {
     "end_time": "2019-07-02T13:41:04.660336Z",
     "start_time": "2019-07-02T13:41:04.655323Z"
    }
   },
   "outputs": [],
   "source": [
    "class Employee:\n",
    "    salary = 0\n",
    "    def setName(self, name):\n",
    "        self.name = name\n",
    "    \n",
    "    @classmethod\n",
    "    def setSalary(cls, salary):\n",
    "        cls.salary = salary"
   ]
  },
  {
   "cell_type": "code",
   "execution_count": 11,
   "metadata": {
    "ExecuteTime": {
     "end_time": "2019-07-02T13:41:06.853384Z",
     "start_time": "2019-07-02T13:41:06.848371Z"
    }
   },
   "outputs": [
    {
     "data": {
      "text/plain": [
       "'PENAN'"
      ]
     },
     "execution_count": 11,
     "metadata": {},
     "output_type": "execute_result"
    }
   ],
   "source": [
    "E1 = Employee()\n",
    "E1.setName(\"PENAN\")\n",
    "E1.name"
   ]
  },
  {
   "cell_type": "code",
   "execution_count": 12,
   "metadata": {
    "ExecuteTime": {
     "end_time": "2019-07-02T13:41:10.922418Z",
     "start_time": "2019-07-02T13:41:10.918449Z"
    }
   },
   "outputs": [
    {
     "data": {
      "text/plain": [
       "0"
      ]
     },
     "execution_count": 12,
     "metadata": {},
     "output_type": "execute_result"
    }
   ],
   "source": [
    "E1.salary"
   ]
  },
  {
   "cell_type": "code",
   "execution_count": 13,
   "metadata": {
    "ExecuteTime": {
     "end_time": "2019-07-02T13:47:58.779709Z",
     "start_time": "2019-07-02T13:47:58.775699Z"
    }
   },
   "outputs": [
    {
     "data": {
      "text/plain": [
       "'CHETAN'"
      ]
     },
     "execution_count": 13,
     "metadata": {},
     "output_type": "execute_result"
    }
   ],
   "source": [
    "E2 = Employee()\n",
    "E2.setName(\"CHETAN\")\n",
    "E2.name"
   ]
  },
  {
   "cell_type": "code",
   "execution_count": 14,
   "metadata": {
    "ExecuteTime": {
     "end_time": "2019-07-02T13:48:03.525383Z",
     "start_time": "2019-07-02T13:48:03.519370Z"
    }
   },
   "outputs": [
    {
     "data": {
      "text/plain": [
       "0"
      ]
     },
     "execution_count": 14,
     "metadata": {},
     "output_type": "execute_result"
    }
   ],
   "source": [
    "E2.salary"
   ]
  },
  {
   "cell_type": "code",
   "execution_count": 15,
   "metadata": {
    "ExecuteTime": {
     "end_time": "2019-07-02T13:48:05.137165Z",
     "start_time": "2019-07-02T13:48:05.135158Z"
    }
   },
   "outputs": [],
   "source": [
    "E1.setSalary(4000)"
   ]
  },
  {
   "cell_type": "code",
   "execution_count": 16,
   "metadata": {
    "ExecuteTime": {
     "end_time": "2019-07-02T13:48:14.474365Z",
     "start_time": "2019-07-02T13:48:14.471359Z"
    }
   },
   "outputs": [
    {
     "data": {
      "text/plain": [
       "4000"
      ]
     },
     "execution_count": 16,
     "metadata": {},
     "output_type": "execute_result"
    }
   ],
   "source": [
    "E1.salary"
   ]
  },
  {
   "cell_type": "code",
   "execution_count": 18,
   "metadata": {
    "ExecuteTime": {
     "end_time": "2019-07-02T13:48:20.352842Z",
     "start_time": "2019-07-02T13:48:20.348831Z"
    }
   },
   "outputs": [
    {
     "data": {
      "text/plain": [
       "4000"
      ]
     },
     "execution_count": 18,
     "metadata": {},
     "output_type": "execute_result"
    }
   ],
   "source": [
    "E2.salary"
   ]
  },
  {
   "cell_type": "markdown",
   "metadata": {},
   "source": [
    "# classmethod"
   ]
  },
  {
   "cell_type": "code",
   "execution_count": 3,
   "metadata": {
    "ExecuteTime": {
     "end_time": "2019-07-03T13:21:26.355661Z",
     "start_time": "2019-07-03T13:21:26.314551Z"
    }
   },
   "outputs": [
    {
     "name": "stdout",
     "output_type": "stream",
     "text": [
      "Complex 10 + 14i\n"
     ]
    },
    {
     "data": {
      "text/plain": [
       "__main__.Complex"
      ]
     },
     "execution_count": 3,
     "metadata": {},
     "output_type": "execute_result"
    }
   ],
   "source": [
    "# task is pass String and get Complex\n",
    "%reset -f\n",
    "class Complex:\n",
    "    def __init__(self, real, img):\n",
    "        \n",
    "        self.real = int(real)\n",
    "        self.img = int(img)\n",
    "     \n",
    "\n",
    "    def __str__(self):\n",
    "        return f\"Complex {self.real} + {self.img}i\"\n",
    "\n",
    "    @classmethod\n",
    "    def fromString(cls, c_string):\n",
    "        real, img = c_string.split(\"-\")\n",
    "        return cls(real, img )\n",
    "\n",
    "C4 = Complex.fromString(\"10-14\")\n",
    "print(C4)\n",
    "type(C4)"
   ]
  },
  {
   "cell_type": "code",
   "execution_count": 15,
   "metadata": {
    "ExecuteTime": {
     "end_time": "2019-07-03T12:41:22.003862Z",
     "start_time": "2019-07-03T12:41:21.995841Z"
    }
   },
   "outputs": [
    {
     "name": "stdout",
     "output_type": "stream",
     "text": [
      "Complex 10 + 14i\n",
      "Complex 140 + 110i\n"
     ]
    },
    {
     "data": {
      "text/plain": [
       "__main__.Complex"
      ]
     },
     "execution_count": 15,
     "metadata": {},
     "output_type": "execute_result"
    }
   ],
   "source": [
    "# task is I have 2 complex number and i want their addition as Object\n",
    "class Complex:\n",
    "    def __init__(self, real, img):\n",
    "        self.real = int(real)\n",
    "        self.img = int(img)\n",
    "\n",
    "    def __add__(self, e):\n",
    "        return Complex(self.real+e.real, self.img+e.img)\n",
    "\n",
    "    def __str__(self):\n",
    "        return f\"Complex {self.real} + {self.img}i\"\n",
    "\n",
    "    @classmethod\n",
    "    def fromString(cls, c_string):\n",
    "        \n",
    "        return cls(c_string.split(\"-\")[0],c_string.split(\"-\")[1] )\n",
    "    \n",
    "C1 = Complex(40, 60)\n",
    "C2 = Complex(100, 50)\n",
    "\n",
    "C4 = Complex.fromString(\"10-14\")\n",
    "print(C4)\n",
    "\n",
    "C3 = C1 + C2\n",
    "print(C3)\n",
    "type(C3)"
   ]
  },
  {
   "cell_type": "code",
   "execution_count": 14,
   "metadata": {
    "ExecuteTime": {
     "end_time": "2019-07-03T12:40:55.152253Z",
     "start_time": "2019-07-03T12:40:55.149246Z"
    }
   },
   "outputs": [
    {
     "data": {
      "text/plain": [
       "['10', '14']"
      ]
     },
     "execution_count": 14,
     "metadata": {},
     "output_type": "execute_result"
    }
   ],
   "source": [
    "'10-14'.split(\"-\")"
   ]
  },
  {
   "cell_type": "code",
   "execution_count": null,
   "metadata": {
    "ExecuteTime": {
     "start_time": "2019-07-03T13:20:08.617Z"
    }
   },
   "outputs": [],
   "source": [
    "# task is I have 2 complex number and i want their addition as Object\n",
    "%reset -f\n",
    "class Complex:\n",
    "    def __init__(self, *args):\n",
    "        \n",
    "        self.real = int(args[0][0])\n",
    "        self.img = int(args[0][1])\n",
    "\n",
    "    def __add__(self, e):\n",
    "        return Complex([self.real+e.real, self.img+e.img])\n",
    "\n",
    "    def __str__(self):\n",
    "        return f\"Complex {self.real} + {self.img}i\"\n",
    "\n",
    "    @classmethod\n",
    "    def fromString(cls, c_string):\n",
    "        \n",
    "        return cls(c_string.split(\"-\") )\n",
    "    \n",
    "C1 = Complex([40, 60])\n",
    "C2 = Complex([100, 50])\n",
    "\n",
    "C4 = Complex.fromString(\"10-14\")\n",
    "print(C4)\n",
    "\n",
    "C3 = C1 + C2\n",
    "print(C3)\n",
    "type(C3)"
   ]
  },
  {
   "cell_type": "code",
   "execution_count": null,
   "metadata": {
    "ExecuteTime": {
     "start_time": "2019-07-03T13:20:35.760Z"
    }
   },
   "outputs": [],
   "source": [
    "%who"
   ]
  },
  {
   "cell_type": "code",
   "execution_count": null,
   "metadata": {},
   "outputs": [],
   "source": []
  }
 ],
 "metadata": {
  "kernelspec": {
   "display_name": "Python 3",
   "language": "python",
   "name": "python3"
  },
  "language_info": {
   "codemirror_mode": {
    "name": "ipython",
    "version": 3
   },
   "file_extension": ".py",
   "mimetype": "text/x-python",
   "name": "python",
   "nbconvert_exporter": "python",
   "pygments_lexer": "ipython3",
   "version": "3.7.3"
  },
  "toc": {
   "base_numbering": 1,
   "nav_menu": {},
   "number_sections": true,
   "sideBar": true,
   "skip_h1_title": false,
   "title_cell": "Table of Contents",
   "title_sidebar": "Contents",
   "toc_cell": false,
   "toc_position": {},
   "toc_section_display": true,
   "toc_window_display": false
  },
  "varInspector": {
   "cols": {
    "lenName": 16,
    "lenType": 16,
    "lenVar": 40
   },
   "kernels_config": {
    "python": {
     "delete_cmd_postfix": "",
     "delete_cmd_prefix": "del ",
     "library": "var_list.py",
     "varRefreshCmd": "print(var_dic_list())"
    },
    "r": {
     "delete_cmd_postfix": ") ",
     "delete_cmd_prefix": "rm(",
     "library": "var_list.r",
     "varRefreshCmd": "cat(var_dic_list()) "
    }
   },
   "types_to_exclude": [
    "module",
    "function",
    "builtin_function_or_method",
    "instance",
    "_Feature"
   ],
   "window_display": false
  }
 },
 "nbformat": 4,
 "nbformat_minor": 2
}

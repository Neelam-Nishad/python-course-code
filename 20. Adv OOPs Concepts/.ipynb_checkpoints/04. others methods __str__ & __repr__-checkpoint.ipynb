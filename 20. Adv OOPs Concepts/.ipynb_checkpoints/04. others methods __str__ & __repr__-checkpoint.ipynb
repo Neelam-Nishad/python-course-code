{
 "cells": [
  {
   "cell_type": "markdown",
   "metadata": {},
   "source": [
    "https://www.python.org/download/releases/2.2/descrintro/#__new__  \n",
    "https://www.youtube.com/watch?v=5cvM-crlDvg  \n",
    "https://rszalski.github.io/magicmethods/\\"
   ]
  },
  {
   "cell_type": "markdown",
   "metadata": {},
   "source": [
    "# str() and repr()"
   ]
  },
  {
   "cell_type": "markdown",
   "metadata": {},
   "source": [
    "**str() is used for creating output for end user while repr() is mainly used for debugging and development. repr’s goal is to be unambiguous and str’s is to be readable**"
   ]
  },
  {
   "cell_type": "code",
   "execution_count": 79,
   "metadata": {
    "ExecuteTime": {
     "end_time": "2019-07-02T16:53:40.598487Z",
     "start_time": "2019-07-02T16:53:40.590488Z"
    }
   },
   "outputs": [],
   "source": [
    "class Base:\n",
    "    c = 0\n",
    "    def __init__(self, a, b):\n",
    "        self.c = str(a + b)\n",
    "    @classmethod\n",
    "    def fromlist(cls, ls):\n",
    "        return cls(ls[0], ls[1])"
   ]
  },
  {
   "cell_type": "code",
   "execution_count": 72,
   "metadata": {
    "ExecuteTime": {
     "end_time": "2019-07-02T16:38:05.368984Z",
     "start_time": "2019-07-02T16:38:05.364972Z"
    }
   },
   "outputs": [],
   "source": [
    "import datetime\n",
    "# a = Base.fromlist([4, 5])\n",
    "a = datetime.datetime.today()\n",
    "b = str(a)"
   ]
  },
  {
   "cell_type": "code",
   "execution_count": 73,
   "metadata": {
    "ExecuteTime": {
     "end_time": "2019-07-02T16:38:05.596415Z",
     "start_time": "2019-07-02T16:38:05.588390Z"
    }
   },
   "outputs": [
    {
     "data": {
      "text/plain": [
       "'2019-07-02 22:08:05.366978'"
      ]
     },
     "execution_count": 73,
     "metadata": {},
     "output_type": "execute_result"
    }
   ],
   "source": [
    "str(a)"
   ]
  },
  {
   "cell_type": "code",
   "execution_count": 74,
   "metadata": {
    "ExecuteTime": {
     "end_time": "2019-07-02T16:38:05.855435Z",
     "start_time": "2019-07-02T16:38:05.847915Z"
    }
   },
   "outputs": [
    {
     "data": {
      "text/plain": [
       "'2019-07-02 22:08:05.366978'"
      ]
     },
     "execution_count": 74,
     "metadata": {},
     "output_type": "execute_result"
    }
   ],
   "source": [
    "str(b)"
   ]
  },
  {
   "cell_type": "code",
   "execution_count": 75,
   "metadata": {
    "ExecuteTime": {
     "end_time": "2019-07-02T16:38:06.043513Z",
     "start_time": "2019-07-02T16:38:06.036495Z"
    }
   },
   "outputs": [
    {
     "data": {
      "text/plain": [
       "'datetime.datetime(2019, 7, 2, 22, 8, 5, 366978)'"
      ]
     },
     "execution_count": 75,
     "metadata": {},
     "output_type": "execute_result"
    }
   ],
   "source": [
    "repr(a)"
   ]
  },
  {
   "cell_type": "code",
   "execution_count": 76,
   "metadata": {
    "ExecuteTime": {
     "end_time": "2019-07-02T16:38:06.228404Z",
     "start_time": "2019-07-02T16:38:06.219964Z"
    }
   },
   "outputs": [
    {
     "data": {
      "text/plain": [
       "\"'2019-07-02 22:08:05.366978'\""
      ]
     },
     "execution_count": 76,
     "metadata": {},
     "output_type": "execute_result"
    }
   ],
   "source": [
    "repr(b)"
   ]
  },
  {
   "cell_type": "code",
   "execution_count": 77,
   "metadata": {
    "ExecuteTime": {
     "end_time": "2019-07-02T16:38:06.406743Z",
     "start_time": "2019-07-02T16:38:06.400727Z"
    }
   },
   "outputs": [
    {
     "name": "stdout",
     "output_type": "stream",
     "text": [
      "2019-07-02 22:08:05.366978\n",
      "2019-07-02 22:08:05.366978\n"
     ]
    }
   ],
   "source": [
    "print('{}'.format(str(a)))\n",
    "print('{}'.format(str(b)))"
   ]
  },
  {
   "cell_type": "code",
   "execution_count": 78,
   "metadata": {
    "ExecuteTime": {
     "end_time": "2019-07-02T16:38:06.606538Z",
     "start_time": "2019-07-02T16:38:06.600525Z"
    }
   },
   "outputs": [
    {
     "name": "stdout",
     "output_type": "stream",
     "text": [
      "datetime.datetime(2019, 7, 2, 22, 8, 5, 366978)\n",
      "'2019-07-02 22:08:05.366978'\n"
     ]
    }
   ],
   "source": [
    "print('{}'.format(repr(a)))\n",
    "print('{}'.format(repr(b)))"
   ]
  },
  {
   "cell_type": "markdown",
   "metadata": {},
   "source": [
    "## use in class"
   ]
  },
  {
   "cell_type": "code",
   "execution_count": 8,
   "metadata": {
    "ExecuteTime": {
     "end_time": "2019-07-02T17:08:38.684598Z",
     "start_time": "2019-07-02T17:08:38.677611Z"
    }
   },
   "outputs": [
    {
     "data": {
      "text/plain": [
       "'90'"
      ]
     },
     "execution_count": 8,
     "metadata": {},
     "output_type": "execute_result"
    }
   ],
   "source": [
    "class Base:\n",
    "    def __init__(self, a, b):\n",
    "        self.a=a\n",
    "        self.b=b\n",
    "    def __str__(self):\n",
    "        return f\"Rational {self.a+self.b}\"\n",
    "    def __repr__(self):\n",
    "        return f\"{self.a}+i{ self.b}\"\n",
    "b = Base(40, 50)\n",
    "str(b)"
   ]
  },
  {
   "cell_type": "code",
   "execution_count": 6,
   "metadata": {
    "ExecuteTime": {
     "end_time": "2019-07-02T17:07:33.554397Z",
     "start_time": "2019-07-02T17:07:33.548385Z"
    }
   },
   "outputs": [
    {
     "data": {
      "text/plain": [
       "'40+i50'"
      ]
     },
     "execution_count": 6,
     "metadata": {},
     "output_type": "execute_result"
    }
   ],
   "source": [
    "repr(b)"
   ]
  },
  {
   "cell_type": "code",
   "execution_count": null,
   "metadata": {},
   "outputs": [],
   "source": []
  }
 ],
 "metadata": {
  "kernelspec": {
   "display_name": "Python 3",
   "language": "python",
   "name": "python3"
  },
  "language_info": {
   "codemirror_mode": {
    "name": "ipython",
    "version": 3
   },
   "file_extension": ".py",
   "mimetype": "text/x-python",
   "name": "python",
   "nbconvert_exporter": "python",
   "pygments_lexer": "ipython3",
   "version": "3.7.3"
  },
  "toc": {
   "base_numbering": 1,
   "nav_menu": {},
   "number_sections": true,
   "sideBar": true,
   "skip_h1_title": false,
   "title_cell": "Table of Contents",
   "title_sidebar": "Contents",
   "toc_cell": false,
   "toc_position": {},
   "toc_section_display": true,
   "toc_window_display": false
  },
  "varInspector": {
   "cols": {
    "lenName": 16,
    "lenType": 16,
    "lenVar": 40
   },
   "kernels_config": {
    "python": {
     "delete_cmd_postfix": "",
     "delete_cmd_prefix": "del ",
     "library": "var_list.py",
     "varRefreshCmd": "print(var_dic_list())"
    },
    "r": {
     "delete_cmd_postfix": ") ",
     "delete_cmd_prefix": "rm(",
     "library": "var_list.r",
     "varRefreshCmd": "cat(var_dic_list()) "
    }
   },
   "types_to_exclude": [
    "module",
    "function",
    "builtin_function_or_method",
    "instance",
    "_Feature"
   ],
   "window_display": false
  }
 },
 "nbformat": 4,
 "nbformat_minor": 2
}

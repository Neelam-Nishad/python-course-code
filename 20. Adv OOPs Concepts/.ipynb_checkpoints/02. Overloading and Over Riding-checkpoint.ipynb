{
 "cells": [
  {
   "cell_type": "code",
   "execution_count": 5,
   "metadata": {
    "ExecuteTime": {
     "end_time": "2019-07-02T10:05:53.800267Z",
     "start_time": "2019-07-02T10:05:53.793268Z"
    }
   },
   "outputs": [],
   "source": [
    "class Base:\n",
    "    length = 0 \n",
    "    width = 0\n",
    "    def __init__(self , length, width):\n",
    "        self.length = length\n",
    "        self.width = width\n",
    "    def show():\n",
    "        print(\"length := \", self.length, \" width\", self.width)\n",
    "\n",
    "b3 = Base(20, 40)"
   ]
  },
  {
   "cell_type": "markdown",
   "metadata": {},
   "source": [
    "# function Overloading"
   ]
  },
  {
   "cell_type": "code",
   "execution_count": 46,
   "metadata": {
    "ExecuteTime": {
     "end_time": "2019-07-02T10:36:49.030590Z",
     "start_time": "2019-07-02T10:36:49.012542Z"
    }
   },
   "outputs": [
    {
     "name": "stdout",
     "output_type": "stream",
     "text": [
      " 2 arguments  passed :=   40  and  20\n"
     ]
    },
    {
     "ename": "TypeError",
     "evalue": "show() missing 1 required positional argument: 'j'",
     "output_type": "error",
     "traceback": [
      "\u001b[1;31m---------------------------------------------------------------------------\u001b[0m",
      "\u001b[1;31mTypeError\u001b[0m                                 Traceback (most recent call last)",
      "\u001b[1;32m<ipython-input-46-3dcc4b4a2a4b>\u001b[0m in \u001b[0;36m<module>\u001b[1;34m\u001b[0m\n\u001b[0;32m     11\u001b[0m \u001b[0mb3\u001b[0m \u001b[1;33m=\u001b[0m \u001b[0mBase\u001b[0m\u001b[1;33m(\u001b[0m\u001b[1;36m20\u001b[0m\u001b[1;33m,\u001b[0m \u001b[1;36m40\u001b[0m\u001b[1;33m)\u001b[0m\u001b[1;33m\u001b[0m\u001b[1;33m\u001b[0m\u001b[0m\n\u001b[0;32m     12\u001b[0m \u001b[0mb3\u001b[0m\u001b[1;33m.\u001b[0m\u001b[0mshow\u001b[0m\u001b[1;33m(\u001b[0m\u001b[1;36m40\u001b[0m\u001b[1;33m,\u001b[0m \u001b[1;36m20\u001b[0m\u001b[1;33m)\u001b[0m\u001b[1;33m\u001b[0m\u001b[1;33m\u001b[0m\u001b[0m\n\u001b[1;32m---> 13\u001b[1;33m \u001b[0mb3\u001b[0m\u001b[1;33m.\u001b[0m\u001b[0mshow\u001b[0m\u001b[1;33m(\u001b[0m\u001b[1;36m4\u001b[0m\u001b[1;33m)\u001b[0m\u001b[1;33m\u001b[0m\u001b[1;33m\u001b[0m\u001b[0m\n\u001b[0m",
      "\u001b[1;31mTypeError\u001b[0m: show() missing 1 required positional argument: 'j'"
     ]
    }
   ],
   "source": [
    "class Base:\n",
    "    length = 0 \n",
    "    width = 0\n",
    "    def __init__(self , length, width):\n",
    "        self.length = length\n",
    "        self.width = width\n",
    "    def show(self, i):\n",
    "        print(\" 1 argument passed  := \", i)\n",
    "    def show(self, i , j):\n",
    "        print(\" 2 arguments  passed :=  \", i, \" and \", j)\n",
    "b3 = Base(20, 40)\n",
    "b3.show(40, 20)\n",
    "b3.show(4)"
   ]
  },
  {
   "cell_type": "code",
   "execution_count": 28,
   "metadata": {
    "ExecuteTime": {
     "end_time": "2019-07-02T10:15:21.133691Z",
     "start_time": "2019-07-02T10:15:21.129724Z"
    }
   },
   "outputs": [],
   "source": [
    "def sum(a, b):\n",
    "    return a, b"
   ]
  },
  {
   "cell_type": "code",
   "execution_count": 32,
   "metadata": {
    "ExecuteTime": {
     "end_time": "2019-07-02T10:16:33.512692Z",
     "start_time": "2019-07-02T10:16:33.508720Z"
    }
   },
   "outputs": [],
   "source": [
    "a, b = sum(20, 30)"
   ]
  },
  {
   "cell_type": "code",
   "execution_count": 35,
   "metadata": {
    "ExecuteTime": {
     "end_time": "2019-07-02T10:19:11.088710Z",
     "start_time": "2019-07-02T10:19:11.082733Z"
    }
   },
   "outputs": [
    {
     "name": "stdout",
     "output_type": "stream",
     "text": [
      "40 50\n"
     ]
    }
   ],
   "source": [
    "def diff(a, g):\n",
    "    return a, g\n",
    "a, g = diff(40, 50)\n",
    "print(a, end=\" \")\n",
    "print(g)"
   ]
  },
  {
   "cell_type": "markdown",
   "metadata": {},
   "source": [
    "# Overriding"
   ]
  },
  {
   "cell_type": "code",
   "execution_count": 47,
   "metadata": {
    "ExecuteTime": {
     "end_time": "2019-07-02T10:37:44.930435Z",
     "start_time": "2019-07-02T10:37:44.924418Z"
    }
   },
   "outputs": [
    {
     "name": "stdout",
     "output_type": "stream",
     "text": [
      "ABC\n"
     ]
    }
   ],
   "source": [
    "class Box:\n",
    "    def say(self, msg=None):\n",
    "        print( msg )\n",
    "    \n",
    "b = Box()\n",
    "b.say(\"ABC\", )"
   ]
  },
  {
   "cell_type": "code",
   "execution_count": 48,
   "metadata": {
    "ExecuteTime": {
     "end_time": "2019-07-02T10:39:19.477024Z",
     "start_time": "2019-07-02T10:39:19.469034Z"
    }
   },
   "outputs": [
    {
     "name": "stdout",
     "output_type": "stream",
     "text": [
      "Base Class    : Show function\n",
      "Derived Class : Show function\n"
     ]
    }
   ],
   "source": [
    "class Base:\n",
    "    def show(self): # show function in Base Class\n",
    "        print(\"Base Class    : Show function\")\n",
    "class Derived(Base):\n",
    "    def show(self): # show function overloaded in Derived class\n",
    "        print(\"Derived Class : Show function\")\n",
    "        \n",
    "b = Base()\n",
    "d = Derived()\n",
    "\n",
    "b.show()\n",
    "d.show()"
   ]
  },
  {
   "cell_type": "markdown",
   "metadata": {},
   "source": [
    "# Operator Overloading"
   ]
  },
  {
   "cell_type": "markdown",
   "metadata": {
    "ExecuteTime": {
     "end_time": "2019-07-02T10:47:40.256576Z",
     "start_time": "2019-07-02T10:47:40.252564Z"
    }
   },
   "source": [
    "## Binary Addition"
   ]
  },
  {
   "cell_type": "code",
   "execution_count": 57,
   "metadata": {
    "ExecuteTime": {
     "end_time": "2019-07-02T10:46:37.832088Z",
     "start_time": "2019-07-02T10:46:37.820056Z"
    }
   },
   "outputs": [
    {
     "name": "stdout",
     "output_type": "stream",
     "text": [
      "a =:  40  b =:  50\n",
      "a =:  50  b =:  90\n",
      "a =:  90  b =:  140\n"
     ]
    }
   ],
   "source": [
    "class Addition:\n",
    "    def __init__(self, a, b):\n",
    "        self.a = a\n",
    "        self.b = b\n",
    "\n",
    "    def __add__(self, obj):\n",
    "        c = Addition(0, 0)\n",
    "        c.a = self.a + obj.a\n",
    "        c.b = self.b + obj.b\n",
    "        return c\n",
    "\n",
    "    def show(self):\n",
    "        print(\"a =: \", self.a, \" b =: \", self.b)\n",
    "\n",
    "\n",
    "a = Addition(40, 50)\n",
    "b = Addition(50, 90)\n",
    "\n",
    "a.show()\n",
    "b.show()\n",
    "\n",
    "c = a + b\n",
    "c.show()"
   ]
  },
  {
   "cell_type": "markdown",
   "metadata": {},
   "source": [
    "## Unary Addition"
   ]
  },
  {
   "cell_type": "code",
   "execution_count": null,
   "metadata": {},
   "outputs": [],
   "source": [
    "class Addition:\n",
    "    def __init__(self, a, b):\n",
    "        self.a = a\n",
    "        self.b = b\n",
    "\n",
    "    def __add__(self, obj):\n",
    "        c = Addition(0, 0)\n",
    "        c.a = self.a + obj.a\n",
    "        c.b = self.b + obj.b\n",
    "        return c\n",
    "\n",
    "    def show(self):\n",
    "        print(\"a =: \", self.a, \" b =: \", self.b)\n",
    "\n",
    "\n",
    "a = Addition(40, 50)\n",
    "\n",
    "\n",
    "-a\n",
    "\n",
    "c = a + b\n",
    "c.show()"
   ]
  }
 ],
 "metadata": {
  "kernelspec": {
   "display_name": "Python 3",
   "language": "python",
   "name": "python3"
  },
  "language_info": {
   "codemirror_mode": {
    "name": "ipython",
    "version": 3
   },
   "file_extension": ".py",
   "mimetype": "text/x-python",
   "name": "python",
   "nbconvert_exporter": "python",
   "pygments_lexer": "ipython3",
   "version": "3.7.3"
  },
  "toc": {
   "base_numbering": 1,
   "nav_menu": {},
   "number_sections": true,
   "sideBar": true,
   "skip_h1_title": false,
   "title_cell": "Table of Contents",
   "title_sidebar": "Contents",
   "toc_cell": false,
   "toc_position": {},
   "toc_section_display": true,
   "toc_window_display": false
  },
  "varInspector": {
   "cols": {
    "lenName": 16,
    "lenType": 16,
    "lenVar": 40
   },
   "kernels_config": {
    "python": {
     "delete_cmd_postfix": "",
     "delete_cmd_prefix": "del ",
     "library": "var_list.py",
     "varRefreshCmd": "print(var_dic_list())"
    },
    "r": {
     "delete_cmd_postfix": ") ",
     "delete_cmd_prefix": "rm(",
     "library": "var_list.r",
     "varRefreshCmd": "cat(var_dic_list()) "
    }
   },
   "types_to_exclude": [
    "module",
    "function",
    "builtin_function_or_method",
    "instance",
    "_Feature"
   ],
   "window_display": false
  }
 },
 "nbformat": 4,
 "nbformat_minor": 2
}

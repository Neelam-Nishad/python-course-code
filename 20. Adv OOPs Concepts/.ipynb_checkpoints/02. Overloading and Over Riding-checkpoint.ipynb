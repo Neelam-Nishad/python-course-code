{
 "cells": [
  {
   "cell_type": "markdown",
   "metadata": {},
   "source": [
    "http://www.trytoprogram.com/python-programming/python-operator-overloading/"
   ]
  },
  {
   "cell_type": "code",
   "execution_count": 62,
   "metadata": {
    "ExecuteTime": {
     "end_time": "2019-07-02T10:52:16.832889Z",
     "start_time": "2019-07-02T10:52:16.828879Z"
    }
   },
   "outputs": [],
   "source": [
    "# Python Magic Methods Or Special Functions\n",
    "# As we already there are tons of Special functions or magic methods in Python associated with each operator. Here is the tabular list of Python magic methods.\n",
    "\n",
    "# List of Assignment operators and associated magic methods.\n",
    "\n",
    "# Assignment Operators\tMagic Method or Special Function\n",
    "# -=\tobject.__isub__(self, other)\n",
    "# +=\tobject.__iadd__(self, other)\n",
    "# *=\tobject.__imul__(self, other)\n",
    "# /=\tobject.__idiv__(self, other)\n",
    "# //=\tobject.__ifloordiv__(self, other)\n",
    "# %=\tobject.__imod__(self, other)\n",
    "# **=\tobject.__ipow__(self, other)\n",
    "# >>=\tobject.__irshift__(self, other)\n",
    "# <<=\tobject.__ilshift__(self, other)\n",
    "# &=\tobject.__iand__(self, other)\n",
    "# |=\tobject.__ior__(self, other)\n",
    "# ^=\tobject.__ixor__(self, other)"
   ]
  },
  {
   "cell_type": "code",
   "execution_count": 60,
   "metadata": {
    "ExecuteTime": {
     "end_time": "2019-07-02T10:51:26.230571Z",
     "start_time": "2019-07-02T10:51:26.223589Z"
    }
   },
   "outputs": [],
   "source": [
    "class Base:\n",
    "    length = 0 \n",
    "    width = 0\n",
    "    def __init__(self , length, width):\n",
    "        self.length = length\n",
    "        self.width = width\n",
    "    def show():\n",
    "        print(\"length := \", self.length, \" width\", self.width)\n",
    "\n",
    "b3 = Base(20, 40)"
   ]
  },
  {
   "cell_type": "markdown",
   "metadata": {},
   "source": [
    "#  Overloading isn't allowed\n",
    "\n",
    "**we have defined two  method, but we can only use the second method, as python does not supports method overloading. We may define many method of same name and different argument but we can only use the latest defined method**"
   ]
  },
  {
   "cell_type": "code",
   "execution_count": 16,
   "metadata": {
    "ExecuteTime": {
     "end_time": "2019-07-03T09:20:34.383003Z",
     "start_time": "2019-07-03T09:20:34.378992Z"
    }
   },
   "outputs": [],
   "source": [
    "# function overloading is not allowed in class"
   ]
  },
  {
   "cell_type": "code",
   "execution_count": 28,
   "metadata": {
    "ExecuteTime": {
     "end_time": "2019-07-03T09:27:51.538018Z",
     "start_time": "2019-07-03T09:27:51.530001Z"
    }
   },
   "outputs": [
    {
     "name": "stdout",
     "output_type": "stream",
     "text": [
      "length := 40 and width := 20 ( 2 arguments  passed ) \n"
     ]
    }
   ],
   "source": [
    "class Base:\n",
    "    length = 0\n",
    "    width = 0\n",
    "\n",
    "    def setParameters(self, i):\n",
    "        self.length = i\n",
    "        print(\"length :=\", i, \"( 1 arguments  passed ) \")\n",
    "\n",
    "    def setParameters(self, i, j):\n",
    "        self.length, self.width = i, j\n",
    "        print(\"length :=\", i, \"and width :=\", j, \"( 2 arguments  passed ) \")\n",
    "\n",
    "\n",
    "b3 = Base()\n",
    "b3.setParameters(40, 20)\n",
    "\n",
    "# Uncommenting below shows error\n",
    "# b4 = Base()\n",
    "# b4.setParameters(40)"
   ]
  },
  {
   "cell_type": "code",
   "execution_count": 18,
   "metadata": {
    "ExecuteTime": {
     "end_time": "2019-07-03T09:20:55.172143Z",
     "start_time": "2019-07-03T09:20:55.168133Z"
    }
   },
   "outputs": [],
   "source": [
    "#  function overloading not allowed in functions"
   ]
  },
  {
   "cell_type": "code",
   "execution_count": 31,
   "metadata": {
    "ExecuteTime": {
     "end_time": "2019-07-03T09:28:32.684458Z",
     "start_time": "2019-07-03T09:28:32.675469Z"
    }
   },
   "outputs": [
    {
     "data": {
      "text/plain": [
       "30"
      ]
     },
     "execution_count": 31,
     "metadata": {},
     "output_type": "execute_result"
    }
   ],
   "source": [
    "def sum(a, b, c):\n",
    "    return a+b+c\n",
    "\n",
    "\n",
    "def sum(a):\n",
    "    return a+10\n",
    "\n",
    "\n",
    "def sum(a, b):  # this latest definition is accepted for function sum with 2 arguments\n",
    "    return a+b\n",
    "\n",
    "\n",
    "sum(10, 20)\n",
    "\n",
    "# Uncomeenting below shows an error\n",
    "# sum(40)\n",
    "# sum(10, 20, 30)"
   ]
  },
  {
   "cell_type": "markdown",
   "metadata": {},
   "source": [
    "# Overriding"
   ]
  },
  {
   "cell_type": "code",
   "execution_count": 26,
   "metadata": {
    "ExecuteTime": {
     "end_time": "2019-07-03T09:25:03.189269Z",
     "start_time": "2019-07-03T09:25:03.184255Z"
    }
   },
   "outputs": [
    {
     "name": "stdout",
     "output_type": "stream",
     "text": [
      "ABC\n"
     ]
    }
   ],
   "source": [
    "class Box:\n",
    "    def say(self, msg=None):\n",
    "        print( msg )\n",
    "    \n",
    "b = Box()\n",
    "b.say(\"ABC\" )"
   ]
  },
  {
   "cell_type": "code",
   "execution_count": 48,
   "metadata": {
    "ExecuteTime": {
     "end_time": "2019-07-02T10:39:19.477024Z",
     "start_time": "2019-07-02T10:39:19.469034Z"
    }
   },
   "outputs": [
    {
     "name": "stdout",
     "output_type": "stream",
     "text": [
      "Base Class    : Show function\n",
      "Derived Class : Show function\n"
     ]
    }
   ],
   "source": [
    "class Base:\n",
    "    def show(self): # show function in Base Class\n",
    "        print(\"Base Class    : Show function\")\n",
    "class Derived(Base):\n",
    "    def show(self): # show function overloaded in Derived class\n",
    "        print(\"Derived Class : Show function\")\n",
    "        \n",
    "b = Base()\n",
    "d = Derived()\n",
    "\n",
    "b.show()\n",
    "d.show()"
   ]
  },
  {
   "cell_type": "markdown",
   "metadata": {},
   "source": [
    "# Operator Overloading\n"
   ]
  },
  {
   "cell_type": "markdown",
   "metadata": {
    "ExecuteTime": {
     "end_time": "2019-07-02T10:47:40.256576Z",
     "start_time": "2019-07-02T10:47:40.252564Z"
    }
   },
   "source": [
    "## Binary Addition"
   ]
  },
  {
   "cell_type": "code",
   "execution_count": 57,
   "metadata": {
    "ExecuteTime": {
     "end_time": "2019-07-02T10:46:37.832088Z",
     "start_time": "2019-07-02T10:46:37.820056Z"
    }
   },
   "outputs": [
    {
     "name": "stdout",
     "output_type": "stream",
     "text": [
      "a =:  40  b =:  50\n",
      "a =:  50  b =:  90\n",
      "a =:  90  b =:  140\n"
     ]
    }
   ],
   "source": [
    "class Addition:\n",
    "    def __init__(self, a, b):\n",
    "        self.a = a\n",
    "        self.b = b\n",
    "\n",
    "    def __add__(self, obj):\n",
    "        c = Addition(0, 0)\n",
    "        c.a = self.a + obj.a\n",
    "        c.b = self.b + obj.b\n",
    "        return c\n",
    "\n",
    "    def show(self):\n",
    "        print(\"a =: \", self.a, \" b =: \", self.b)\n",
    "\n",
    "\n",
    "a = Addition(40, 50)\n",
    "b = Addition(50, 90)\n",
    "\n",
    "a.show()\n",
    "b.show()\n",
    "\n",
    "c = a + b\n",
    "c.show()"
   ]
  },
  {
   "cell_type": "markdown",
   "metadata": {},
   "source": [
    "## Unary Addition"
   ]
  },
  {
   "cell_type": "code",
   "execution_count": 70,
   "metadata": {
    "ExecuteTime": {
     "end_time": "2019-07-02T10:54:26.759021Z",
     "start_time": "2019-07-02T10:54:26.749964Z"
    }
   },
   "outputs": [
    {
     "name": "stdout",
     "output_type": "stream",
     "text": [
      "a =:  40  b =:  50\n",
      "a =:  39  b =:  49\n"
     ]
    }
   ],
   "source": [
    "class Addition:\n",
    "    def __init__(self, a, b):\n",
    "        self.a = a\n",
    "        self.b = b\n",
    "\n",
    "    def __neg__(self):\n",
    "        \n",
    "        self.a =  self.a - 1\n",
    "        self.b =  self.b - 1\n",
    "       \n",
    "\n",
    "    def show(self):\n",
    "        print(\"a =: \", self.a, \" b =: \", self.b)\n",
    "\n",
    "\n",
    "a = Addition(40, 50)\n",
    "a.show()\n",
    "-a\n",
    "a.show()"
   ]
  },
  {
   "cell_type": "code",
   "execution_count": 72,
   "metadata": {
    "ExecuteTime": {
     "end_time": "2019-07-02T10:55:48.386684Z",
     "start_time": "2019-07-02T10:55:48.383675Z"
    }
   },
   "outputs": [],
   "source": [
    "# you can try all combinations with the information\n",
    "# like For Binary Operation\n",
    "# a+b\n",
    "# c=a+b\n",
    "\n",
    "# for Unary Operation\n",
    "# -a\n",
    "# c=-a"
   ]
  },
  {
   "cell_type": "markdown",
   "metadata": {},
   "source": [
    "## Binary Substraction"
   ]
  },
  {
   "cell_type": "code",
   "execution_count": 39,
   "metadata": {
    "ExecuteTime": {
     "end_time": "2019-07-03T09:59:56.069745Z",
     "start_time": "2019-07-03T09:59:56.055707Z"
    }
   },
   "outputs": [
    {
     "name": "stdout",
     "output_type": "stream",
     "text": [
      "a =:  140  b =:  150\n",
      "a =:  50  b =:  90\n",
      "\n",
      "a =:  90  b =:  60\n",
      "a =:  7000  b =:  13500\n"
     ]
    }
   ],
   "source": [
    "class Arithmatic:\n",
    "    def __init__(self, a, b):\n",
    "        self.a = a\n",
    "        self.b = b\n",
    "\n",
    "    def __sub__(self, obj):\n",
    "        c = Arithmatic(0, 0)\n",
    "        c.a = self.a - obj.a\n",
    "        c.b = self.b - obj.b\n",
    "        return c\n",
    "    \n",
    "    def __mul__(self, obj):\n",
    "        c = Arithmatic(0, 0)\n",
    "        c.a = self.a * obj.a\n",
    "        c.b = self.b * obj.b\n",
    "        return c\n",
    "    \n",
    "\n",
    "    def show(self):\n",
    "        print(\"a =: \", self.a, \" b =: \", self.b)\n",
    "\n",
    "\n",
    "a = Arithmatic(140, 150)\n",
    "b = Arithmatic(50, 90)\n",
    "\n",
    "a.show()\n",
    "b.show()\n",
    "\n",
    "c = a - b\n",
    "d = a * b\n",
    "\n",
    "print()\n",
    "c.show()\n",
    "d.show()"
   ]
  },
  {
   "cell_type": "code",
   "execution_count": null,
   "metadata": {},
   "outputs": [],
   "source": []
  }
 ],
 "metadata": {
  "kernelspec": {
   "display_name": "Python 3",
   "language": "python",
   "name": "python3"
  },
  "language_info": {
   "codemirror_mode": {
    "name": "ipython",
    "version": 3
   },
   "file_extension": ".py",
   "mimetype": "text/x-python",
   "name": "python",
   "nbconvert_exporter": "python",
   "pygments_lexer": "ipython3",
   "version": "3.7.3"
  },
  "toc": {
   "base_numbering": 1,
   "nav_menu": {},
   "number_sections": true,
   "sideBar": true,
   "skip_h1_title": false,
   "title_cell": "Table of Contents",
   "title_sidebar": "Contents",
   "toc_cell": false,
   "toc_position": {},
   "toc_section_display": true,
   "toc_window_display": false
  },
  "varInspector": {
   "cols": {
    "lenName": 16,
    "lenType": 16,
    "lenVar": 40
   },
   "kernels_config": {
    "python": {
     "delete_cmd_postfix": "",
     "delete_cmd_prefix": "del ",
     "library": "var_list.py",
     "varRefreshCmd": "print(var_dic_list())"
    },
    "r": {
     "delete_cmd_postfix": ") ",
     "delete_cmd_prefix": "rm(",
     "library": "var_list.r",
     "varRefreshCmd": "cat(var_dic_list()) "
    }
   },
   "types_to_exclude": [
    "module",
    "function",
    "builtin_function_or_method",
    "instance",
    "_Feature"
   ],
   "window_display": false
  }
 },
 "nbformat": 4,
 "nbformat_minor": 2
}

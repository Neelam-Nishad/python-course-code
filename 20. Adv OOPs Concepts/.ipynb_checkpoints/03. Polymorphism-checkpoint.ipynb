{
 "cells": [
  {
   "cell_type": "code",
   "execution_count": 7,
   "metadata": {
    "ExecuteTime": {
     "end_time": "2019-07-02T08:45:40.566264Z",
     "start_time": "2019-07-02T08:45:40.561272Z"
    }
   },
   "outputs": [
    {
     "name": "stdout",
     "output_type": "stream",
     "text": [
      "explore() method from class B\n",
      "explore() method from class A\n"
     ]
    }
   ],
   "source": [
    "class A:\n",
    "    def explore(self):\n",
    "        print(\"explore() method from class A\")\n",
    "\n",
    "\n",
    "class B(A):\n",
    "    def explore(self):\n",
    "        print(\"explore() method from class B\")\n",
    "\n",
    "\n",
    "b_obj = B()\n",
    "a_obj = A()\n",
    "\n",
    "b_obj.explore()\n",
    "a_obj.explore()"
   ]
  },
  {
   "cell_type": "code",
   "execution_count": 8,
   "metadata": {
    "ExecuteTime": {
     "end_time": "2019-07-02T08:46:06.709737Z",
     "start_time": "2019-07-02T08:46:06.705770Z"
    }
   },
   "outputs": [
    {
     "name": "stdout",
     "output_type": "stream",
     "text": [
      "show function\n"
     ]
    }
   ],
   "source": [
    "print(\"show function\")"
   ]
  },
  {
   "cell_type": "code",
   "execution_count": null,
   "metadata": {
    "ExecuteTime": {
     "end_time": "2019-07-02T09:24:09.474798Z",
     "start_time": "2019-07-02T09:24:09.469784Z"
    }
   },
   "outputs": [],
   "source": []
  },
  {
   "cell_type": "code",
   "execution_count": 16,
   "metadata": {
    "ExecuteTime": {
     "end_time": "2019-07-02T09:24:57.894480Z",
     "start_time": "2019-07-02T09:24:57.886461Z"
    }
   },
   "outputs": [
    {
     "name": "stdout",
     "output_type": "stream",
     "text": [
      "Bananatruck: Truck driving slowly because heavily loaded.\n",
      "Orangetruck: Truck driving slowly because heavily loaded.\n",
      "Z3: Sportscar driving!\n"
     ]
    }
   ],
   "source": [
    "class Car:\n",
    "    def __init__(self, name):\n",
    "        self.name = name\n",
    "\n",
    "    def drive(self):\n",
    "        raise NotImplementedError(\"Subclass must implement abstract method\")\n",
    "\n",
    "    def stop(self):\n",
    "        raise NotImplementedError(\"Subclass must implement abstract method\")\n",
    "\n",
    "\n",
    "class Sportscar(Car):\n",
    "    def drive(self):\n",
    "        return 'Sportscar driving!'\n",
    "\n",
    "    def stop(self):\n",
    "        return 'Sportscar braking!'\n",
    "\n",
    "\n",
    "class Truck(Car):\n",
    "    def drive(self):\n",
    "        return 'Truck driving slowly because heavily loaded.'\n",
    "\n",
    "    def stop(self):\n",
    "        return 'Truck braking!'\n",
    "\n",
    "\n",
    "cars = [Truck('Bananatruck'), Truck('Orangetruck'), Sportscar('Z3')]\n",
    "\n",
    "for car in cars:\n",
    "    print(car.name + ': ' + car.drive())"
   ]
  },
  {
   "cell_type": "code",
   "execution_count": 27,
   "metadata": {
    "ExecuteTime": {
     "end_time": "2019-07-02T17:34:19.658991Z",
     "start_time": "2019-07-02T17:34:19.605816Z"
    }
   },
   "outputs": [
    {
     "name": "stdout",
     "output_type": "stream",
     "text": [
      "wow\n",
      "meow\n"
     ]
    }
   ],
   "source": [
    "%reset -f\n",
    "class Dog:\n",
    "    def sound(self):\n",
    "        print(\"wow\")\n",
    "\n",
    "class Cat:\n",
    "    def sound(self):\n",
    "        print(\"meow\")\n",
    "\n",
    "def makesound(animalType):\n",
    "        animalType.sound()\n",
    "    \n",
    "a = Dog()\n",
    "b = Cat()\n",
    "\n",
    "makesound(a)\n",
    "makesound(b)"
   ]
  },
  {
   "cell_type": "code",
   "execution_count": null,
   "metadata": {
    "ExecuteTime": {
     "end_time": "2019-07-02T17:33:55.834760Z",
     "start_time": "2019-07-02T17:33:55.822766Z"
    }
   },
   "outputs": [],
   "source": []
  },
  {
   "cell_type": "code",
   "execution_count": 30,
   "metadata": {
    "ExecuteTime": {
     "end_time": "2019-07-02T17:48:14.127801Z",
     "start_time": "2019-07-02T17:48:14.119820Z"
    }
   },
   "outputs": [
    {
     "name": "stdout",
     "output_type": "stream",
     "text": [
      "Bananatruck: Truck driving slowly because heavily loaded.\n",
      "Orangetruck: Truck driving slowly because heavily loaded.\n",
      "Z3: Sportscar driving!\n"
     ]
    }
   ],
   "source": [
    "class Car:\n",
    "    def __init__(self, name):\n",
    "        self.name = name\n",
    "    \n",
    "    def drive(self):\n",
    "        raise NotImplementedError(\"Subclass must implement abstract method\")\n",
    "\n",
    "    def stop(self):\n",
    "        raise NotImplementedError(\"Subclass must implement abstract method\")\n",
    "    \n",
    "class Sportscar(Car):\n",
    "    def drive(self):\n",
    "        return 'Sportscar driving!'\n",
    "\n",
    "    def stop(self):\n",
    "        return 'Sportscar braking!'\n",
    "    \n",
    "class Truck(Car):\n",
    "    def drive(self):\n",
    "        return 'Truck driving slowly because heavily loaded.'\n",
    "\n",
    "    def stop(self):\n",
    "        return 'Truck braking!'\n",
    "\n",
    "cars = [Truck('Bananatruck'),\n",
    "Truck('Orangetruck'),\n",
    "Sportscar('Z3')]\n",
    "\n",
    "for car in cars:\n",
    "    print (car.name + ': ' + car.drive())"
   ]
  },
  {
   "cell_type": "code",
   "execution_count": null,
   "metadata": {},
   "outputs": [],
   "source": []
  }
 ],
 "metadata": {
  "kernelspec": {
   "display_name": "Python 3",
   "language": "python",
   "name": "python3"
  },
  "language_info": {
   "codemirror_mode": {
    "name": "ipython",
    "version": 3
   },
   "file_extension": ".py",
   "mimetype": "text/x-python",
   "name": "python",
   "nbconvert_exporter": "python",
   "pygments_lexer": "ipython3",
   "version": "3.7.3"
  },
  "toc": {
   "base_numbering": 1,
   "nav_menu": {},
   "number_sections": true,
   "sideBar": true,
   "skip_h1_title": false,
   "title_cell": "Table of Contents",
   "title_sidebar": "Contents",
   "toc_cell": false,
   "toc_position": {},
   "toc_section_display": true,
   "toc_window_display": false
  },
  "varInspector": {
   "cols": {
    "lenName": 16,
    "lenType": 16,
    "lenVar": 40
   },
   "kernels_config": {
    "python": {
     "delete_cmd_postfix": "",
     "delete_cmd_prefix": "del ",
     "library": "var_list.py",
     "varRefreshCmd": "print(var_dic_list())"
    },
    "r": {
     "delete_cmd_postfix": ") ",
     "delete_cmd_prefix": "rm(",
     "library": "var_list.r",
     "varRefreshCmd": "cat(var_dic_list()) "
    }
   },
   "types_to_exclude": [
    "module",
    "function",
    "builtin_function_or_method",
    "instance",
    "_Feature"
   ],
   "window_display": false
  }
 },
 "nbformat": 4,
 "nbformat_minor": 2
}

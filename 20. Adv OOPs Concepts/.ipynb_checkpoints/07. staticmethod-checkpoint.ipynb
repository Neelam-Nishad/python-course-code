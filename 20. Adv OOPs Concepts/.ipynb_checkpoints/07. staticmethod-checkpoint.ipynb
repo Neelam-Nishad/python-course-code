{
 "cells": [
  {
   "cell_type": "markdown",
   "metadata": {},
   "source": [
    "# static method"
   ]
  },
  {
   "cell_type": "markdown",
   "metadata": {},
   "source": [
    "**it doesn't have relation with class, object  \n",
    "is just for some random calculation and return/print**"
   ]
  },
  {
   "cell_type": "code",
   "execution_count": 10,
   "metadata": {
    "ExecuteTime": {
     "end_time": "2019-07-02T13:59:35.988525Z",
     "start_time": "2019-07-02T13:59:35.983606Z"
    }
   },
   "outputs": [],
   "source": [
    "import datetime\n",
    "class Employee:\n",
    "    salary = 0\n",
    "    def setName(self, name):\n",
    "        self.name = name\n",
    "    \n",
    "    @staticmethod\n",
    "    def isWorkday(day):\n",
    "        if day.weekday() == 5 or day.weekday() == 6:\n",
    "            print(\"Today is workday\")\n",
    "        else:\n",
    "            print(\"Not Workday\")"
   ]
  },
  {
   "cell_type": "code",
   "execution_count": 9,
   "metadata": {
    "ExecuteTime": {
     "end_time": "2019-07-02T13:58:20.221250Z",
     "start_time": "2019-07-02T13:58:20.216273Z"
    }
   },
   "outputs": [
    {
     "name": "stdout",
     "output_type": "stream",
     "text": [
      "Not Workday\n"
     ]
    }
   ],
   "source": [
    "E1 = Employee()\n",
    "\n",
    "day = datetime.datetime(2019, 7, 2)\n",
    "E1.isWorkday(day)"
   ]
  },
  {
   "cell_type": "code",
   "execution_count": null,
   "metadata": {},
   "outputs": [],
   "source": []
  }
 ],
 "metadata": {
  "kernelspec": {
   "display_name": "Python 3",
   "language": "python",
   "name": "python3"
  },
  "language_info": {
   "codemirror_mode": {
    "name": "ipython",
    "version": 3
   },
   "file_extension": ".py",
   "mimetype": "text/x-python",
   "name": "python",
   "nbconvert_exporter": "python",
   "pygments_lexer": "ipython3",
   "version": "3.7.3"
  },
  "toc": {
   "base_numbering": 1,
   "nav_menu": {},
   "number_sections": true,
   "sideBar": true,
   "skip_h1_title": false,
   "title_cell": "Table of Contents",
   "title_sidebar": "Contents",
   "toc_cell": false,
   "toc_position": {},
   "toc_section_display": true,
   "toc_window_display": false
  },
  "varInspector": {
   "cols": {
    "lenName": 16,
    "lenType": 16,
    "lenVar": 40
   },
   "kernels_config": {
    "python": {
     "delete_cmd_postfix": "",
     "delete_cmd_prefix": "del ",
     "library": "var_list.py",
     "varRefreshCmd": "print(var_dic_list())"
    },
    "r": {
     "delete_cmd_postfix": ") ",
     "delete_cmd_prefix": "rm(",
     "library": "var_list.r",
     "varRefreshCmd": "cat(var_dic_list()) "
    }
   },
   "types_to_exclude": [
    "module",
    "function",
    "builtin_function_or_method",
    "instance",
    "_Feature"
   ],
   "window_display": false
  }
 },
 "nbformat": 4,
 "nbformat_minor": 2
}

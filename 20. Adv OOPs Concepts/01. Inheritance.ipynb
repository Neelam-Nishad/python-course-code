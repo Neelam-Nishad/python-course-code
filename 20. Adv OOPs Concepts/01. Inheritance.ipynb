{
 "cells": [
  {
   "cell_type": "markdown",
   "metadata": {},
   "source": [
    "<img src=\"python-inheritance.png\">"
   ]
  },
  {
   "cell_type": "code",
   "execution_count": 13,
   "metadata": {
    "ExecuteTime": {
     "end_time": "2019-07-02T08:11:38.879650Z",
     "start_time": "2019-07-02T08:11:38.874136Z"
    }
   },
   "outputs": [],
   "source": [
    "class Box:\n",
    "    def set(self, width, height):\n",
    "        self.height = height\n",
    "        self.width = width\n",
    "    def get(self):\n",
    "        print(\"width =: \",self.width, \" height =: \", self.height)\n",
    "\n",
    "class Rect(Box):\n",
    "    def setter(self, length, width, height):\n",
    "        self.height = height\n",
    "        self.width = width\n",
    "        self.length = length\n",
    "    def getter(self):\n",
    "        print(\"width =: \",self.width, \" height =: \", self.height, \" length=: \", self.length)"
   ]
  },
  {
   "cell_type": "code",
   "execution_count": 12,
   "metadata": {
    "ExecuteTime": {
     "end_time": "2019-07-02T08:09:53.915591Z",
     "start_time": "2019-07-02T08:09:53.910166Z"
    }
   },
   "outputs": [
    {
     "name": "stdout",
     "output_type": "stream",
     "text": [
      "width =:  20  height =:  30  length=:  10\n"
     ]
    }
   ],
   "source": [
    "x.setter(10, 20, 30)\n",
    "x.getter()"
   ]
  },
  {
   "cell_type": "markdown",
   "metadata": {},
   "source": [
    "# Multiple Inheritance"
   ]
  },
  {
   "cell_type": "markdown",
   "metadata": {},
   "source": [
    "<img src=\"python-inheritance2.png\">"
   ]
  },
  {
   "cell_type": "code",
   "execution_count": 15,
   "metadata": {
    "ExecuteTime": {
     "end_time": "2019-07-02T08:13:48.305496Z",
     "start_time": "2019-07-02T08:13:48.301987Z"
    }
   },
   "outputs": [],
   "source": [
    "class Base:\n",
    "    pass\n",
    "class Derived(Base):\n",
    "    pass\n",
    "class Derived2(Derived):\n",
    "    pass\n",
    "\n",
    "b = Base()\n",
    "d1 = Derived()\n",
    "d2 = Derived2()"
   ]
  },
  {
   "cell_type": "markdown",
   "metadata": {},
   "source": [
    "# Python Multiple inheritance"
   ]
  },
  {
   "cell_type": "markdown",
   "metadata": {},
   "source": [
    "<img src=\"python-inheritance3.png\">"
   ]
  },
  {
   "cell_type": "code",
   "execution_count": 17,
   "metadata": {
    "ExecuteTime": {
     "end_time": "2019-07-02T08:16:08.213627Z",
     "start_time": "2019-07-02T08:16:08.207610Z"
    }
   },
   "outputs": [],
   "source": [
    "class Base1:\n",
    "    pass\n",
    "class Base2:\n",
    "    pass\n",
    "class Base3:\n",
    "    pass\n",
    "\n",
    "class Derived(Base1, Base2, Base3):\n",
    "    pass\n",
    "\n",
    "b1 = Base1()\n",
    "b2 = Base2()\n",
    "b3 = Base3()\n",
    "\n",
    "d = Derived()"
   ]
  },
  {
   "cell_type": "markdown",
   "metadata": {
    "ExecuteTime": {
     "end_time": "2019-07-02T08:17:14.186867Z",
     "start_time": "2019-07-02T08:17:14.182857Z"
    }
   },
   "source": [
    "# issubclass(derived, base)\n",
    "**To check relationship** \n"
   ]
  },
  {
   "cell_type": "code",
   "execution_count": 20,
   "metadata": {
    "ExecuteTime": {
     "end_time": "2019-07-02T08:18:02.639324Z",
     "start_time": "2019-07-02T08:18:02.635815Z"
    }
   },
   "outputs": [
    {
     "data": {
      "text/plain": [
       "True"
      ]
     },
     "execution_count": 20,
     "metadata": {},
     "output_type": "execute_result"
    }
   ],
   "source": [
    "issubclass(Derived, Base1)"
   ]
  },
  {
   "cell_type": "code",
   "execution_count": 21,
   "metadata": {
    "ExecuteTime": {
     "end_time": "2019-07-02T08:18:14.863514Z",
     "start_time": "2019-07-02T08:18:14.855997Z"
    }
   },
   "outputs": [
    {
     "data": {
      "text/plain": [
       "False"
      ]
     },
     "execution_count": 21,
     "metadata": {},
     "output_type": "execute_result"
    }
   ],
   "source": [
    "issubclass(Base1, Derived)"
   ]
  },
  {
   "cell_type": "code",
   "execution_count": null,
   "metadata": {},
   "outputs": [],
   "source": []
  }
 ],
 "metadata": {
  "kernelspec": {
   "display_name": "Python 3",
   "language": "python",
   "name": "python3"
  },
  "language_info": {
   "codemirror_mode": {
    "name": "ipython",
    "version": 3
   },
   "file_extension": ".py",
   "mimetype": "text/x-python",
   "name": "python",
   "nbconvert_exporter": "python",
   "pygments_lexer": "ipython3",
   "version": "3.7.3"
  },
  "toc": {
   "base_numbering": 1,
   "nav_menu": {},
   "number_sections": true,
   "sideBar": true,
   "skip_h1_title": false,
   "title_cell": "Table of Contents",
   "title_sidebar": "Contents",
   "toc_cell": false,
   "toc_position": {},
   "toc_section_display": true,
   "toc_window_display": false
  },
  "varInspector": {
   "cols": {
    "lenName": 16,
    "lenType": 16,
    "lenVar": 40
   },
   "kernels_config": {
    "python": {
     "delete_cmd_postfix": "",
     "delete_cmd_prefix": "del ",
     "library": "var_list.py",
     "varRefreshCmd": "print(var_dic_list())"
    },
    "r": {
     "delete_cmd_postfix": ") ",
     "delete_cmd_prefix": "rm(",
     "library": "var_list.r",
     "varRefreshCmd": "cat(var_dic_list()) "
    }
   },
   "types_to_exclude": [
    "module",
    "function",
    "builtin_function_or_method",
    "instance",
    "_Feature"
   ],
   "window_display": false
  }
 },
 "nbformat": 4,
 "nbformat_minor": 2
}

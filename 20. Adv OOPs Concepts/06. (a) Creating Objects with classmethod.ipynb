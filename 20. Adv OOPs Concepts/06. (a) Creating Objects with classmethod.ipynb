{
 "cells": [
  {
   "cell_type": "markdown",
   "metadata": {},
   "source": [
    "## Creating Object using classmethod [Link](https://www.youtube.com/watch?v=rq8cL2XMM5M)\n",
    "**When you want to create object, but there is some processing on data,  \n",
    "after that processing, you create object.  \n",
    "then**"
   ]
  },
  {
   "cell_type": "code",
   "execution_count": 14,
   "metadata": {
    "ExecuteTime": {
     "end_time": "2019-07-02T14:18:07.450979Z",
     "start_time": "2019-07-02T14:18:07.440994Z"
    }
   },
   "outputs": [
    {
     "data": {
      "text/plain": [
       "'Penan.Rajput@email.com'"
      ]
     },
     "execution_count": 14,
     "metadata": {},
     "output_type": "execute_result"
    }
   ],
   "source": [
    "# Convenrional Method\n",
    "class Employee:\n",
    "    def __init__(self, first, last, pay):\n",
    "        self.first = first\n",
    "        self.last = last\n",
    "        self.email = first + '.' + last + '@email.com'\n",
    "        self.pay = pay\n",
    "        \n",
    "emp_str = \"Penan-Rajput-70000\"\n",
    "first, last, pay = emp_str.split('-') # processing string \n",
    "E2 = Employee(first, last, pay) # then pass to create object\n",
    "E2.email"
   ]
  },
  {
   "cell_type": "code",
   "execution_count": 16,
   "metadata": {
    "ExecuteTime": {
     "end_time": "2019-07-02T14:18:14.019559Z",
     "start_time": "2019-07-02T14:18:14.015549Z"
    }
   },
   "outputs": [
    {
     "data": {
      "text/plain": [
       "'70000'"
      ]
     },
     "execution_count": 16,
     "metadata": {},
     "output_type": "execute_result"
    }
   ],
   "source": [
    "E2.pay"
   ]
  },
  {
   "cell_type": "markdown",
   "metadata": {},
   "source": [
    "### @classmethod\n",
    "**using class method is what you do is   \n",
    "you pass the string  \n",
    "you make some manipulation and pass that splitted variables to create object  \n",
    "called as \"classmethod to create constructored object\"**"
   ]
  },
  {
   "cell_type": "code",
   "execution_count": 17,
   "metadata": {
    "ExecuteTime": {
     "end_time": "2019-07-02T14:26:14.412583Z",
     "start_time": "2019-07-02T14:26:14.405579Z"
    }
   },
   "outputs": [
    {
     "data": {
      "text/plain": [
       "'Penan.Rajput@email.com'"
      ]
     },
     "execution_count": 17,
     "metadata": {},
     "output_type": "execute_result"
    }
   ],
   "source": [
    "# using classmethod\n",
    "class Employee:\n",
    "    def __init__(self, first, last, pay):\n",
    "        self.first = first\n",
    "        self.last = last\n",
    "        self.email = first + '.' + last + '@email.com'\n",
    "        self.pay = pay\n",
    "\n",
    "    @classmethod\n",
    "    def from_string(cls, emp_str):\n",
    "        first, last, pay = emp_str.split('-') # processing string\n",
    "        return cls(first, last, pay)          # create object\n",
    "E1 = Employee.from_string(\"Penan-Rajput-70000\") # passing string\n",
    "E1.email"
   ]
  },
  {
   "cell_type": "code",
   "execution_count": 9,
   "metadata": {
    "ExecuteTime": {
     "end_time": "2019-07-02T14:15:55.582834Z",
     "start_time": "2019-07-02T14:15:55.576818Z"
    }
   },
   "outputs": [
    {
     "data": {
      "text/plain": [
       "'70000'"
      ]
     },
     "execution_count": 9,
     "metadata": {},
     "output_type": "execute_result"
    }
   ],
   "source": [
    "E1.pay"
   ]
  },
  {
   "cell_type": "code",
   "execution_count": null,
   "metadata": {},
   "outputs": [],
   "source": []
  },
  {
   "cell_type": "code",
   "execution_count": null,
   "metadata": {},
   "outputs": [],
   "source": []
  },
  {
   "cell_type": "code",
   "execution_count": null,
   "metadata": {},
   "outputs": [],
   "source": []
  },
  {
   "cell_type": "code",
   "execution_count": null,
   "metadata": {},
   "outputs": [],
   "source": []
  },
  {
   "cell_type": "code",
   "execution_count": 26,
   "metadata": {
    "ExecuteTime": {
     "end_time": "2019-07-02T14:44:47.413263Z",
     "start_time": "2019-07-02T14:44:47.401263Z"
    }
   },
   "outputs": [
    {
     "name": "stdout",
     "output_type": "stream",
     "text": [
      "a =: Iris b =: Rose\n"
     ]
    }
   ],
   "source": [
    "class Base:\n",
    "    def __init__(self, a, b):\n",
    "        self.a = a \n",
    "        self.b = b \n",
    "    def show(self):\n",
    "        print(\"a =:\", self.a, \"b =:\", self.b)\n",
    "    @classmethod\n",
    "    def fromlist(cls, ls):\n",
    "        a, b = ls[0], ls[1] \n",
    "        return cls(a, b)\n",
    "\n",
    "b = Base.fromlist([\"Iris\", \"Rose\"])\n",
    "b.show()"
   ]
  },
  {
   "cell_type": "code",
   "execution_count": null,
   "metadata": {},
   "outputs": [],
   "source": []
  }
 ],
 "metadata": {
  "kernelspec": {
   "display_name": "Python 3",
   "language": "python",
   "name": "python3"
  },
  "language_info": {
   "codemirror_mode": {
    "name": "ipython",
    "version": 3
   },
   "file_extension": ".py",
   "mimetype": "text/x-python",
   "name": "python",
   "nbconvert_exporter": "python",
   "pygments_lexer": "ipython3",
   "version": "3.7.3"
  },
  "toc": {
   "base_numbering": 1,
   "nav_menu": {},
   "number_sections": true,
   "sideBar": true,
   "skip_h1_title": false,
   "title_cell": "Table of Contents",
   "title_sidebar": "Contents",
   "toc_cell": false,
   "toc_position": {},
   "toc_section_display": true,
   "toc_window_display": false
  },
  "varInspector": {
   "cols": {
    "lenName": 16,
    "lenType": 16,
    "lenVar": 40
   },
   "kernels_config": {
    "python": {
     "delete_cmd_postfix": "",
     "delete_cmd_prefix": "del ",
     "library": "var_list.py",
     "varRefreshCmd": "print(var_dic_list())"
    },
    "r": {
     "delete_cmd_postfix": ") ",
     "delete_cmd_prefix": "rm(",
     "library": "var_list.r",
     "varRefreshCmd": "cat(var_dic_list()) "
    }
   },
   "types_to_exclude": [
    "module",
    "function",
    "builtin_function_or_method",
    "instance",
    "_Feature"
   ],
   "window_display": false
  }
 },
 "nbformat": 4,
 "nbformat_minor": 2
}

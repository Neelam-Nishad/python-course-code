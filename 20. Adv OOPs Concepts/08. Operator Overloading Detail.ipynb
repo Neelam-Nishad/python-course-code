{
 "cells": [
  {
   "cell_type": "markdown",
   "metadata": {},
   "source": [
    "# Addition of Two Sample Objects"
   ]
  },
  {
   "cell_type": "code",
   "execution_count": null,
   "metadata": {
    "ExecuteTime": {
     "start_time": "2019-07-03T11:57:48.734Z"
    }
   },
   "outputs": [],
   "source": [
    "%reset -f\n",
    "# Operator Overloading that return int as sum of args\n",
    "class Sample:\n",
    "    '''This is class of Sample'''\n",
    "\n",
    "    def __init__(self, a, b):\n",
    "        self.real = a\n",
    "        self.img = b\n",
    "\n",
    "    def __add__(self, e):\n",
    "        return self.real + self.img + e.num\n",
    "\n",
    "\n",
    "class Sample2:\n",
    "    '''this is class of sample2'''\n",
    "\n",
    "    def __init__(self, a):\n",
    "        self.num = a\n",
    "\n",
    "\n",
    "s1 = Sample(20, 120)\n",
    "s2 = Sample2(60)\n",
    "\n",
    "print(s1+s2)\n",
    "type(s1+s2)"
   ]
  },
  {
   "cell_type": "code",
   "execution_count": null,
   "metadata": {
    "ExecuteTime": {
     "start_time": "2019-07-03T11:57:31.682Z"
    }
   },
   "outputs": [],
   "source": [
    "%reset -f\n",
    "# Operator Overloading that integer as sum of args\n",
    "\n",
    "class Sample:\n",
    "    '''This is class of Sample'''\n",
    "\n",
    "    def __init__(self, a, b):\n",
    "        self.real = a\n",
    "        self.img = b\n",
    "\n",
    "    def __add__(self, e):\n",
    "        return Sample(self.real + e.img, self.img+e.img)\n",
    "\n",
    "    def __str__(self):\n",
    "        return f\"Number : {self.real} + {self.img}j\"\n",
    "\n",
    "\n",
    "s1 = Sample(20, 120)\n",
    "s2 = Sample(60, 60)\n",
    "\n",
    "print(s1+s2)\n",
    "s3 = s1 + s2\n",
    "type(s3)"
   ]
  },
  {
   "cell_type": "markdown",
   "metadata": {},
   "source": [
    "# Operator Overloading "
   ]
  },
  {
   "cell_type": "code",
   "execution_count": 37,
   "metadata": {
    "ExecuteTime": {
     "end_time": "2019-07-03T10:25:28.325001Z",
     "start_time": "2019-07-03T10:25:28.315978Z"
    }
   },
   "outputs": [
    {
     "name": "stdout",
     "output_type": "stream",
     "text": [
      "\n",
      "Binary Operator := \n",
      "190\n",
      "90\n",
      "7000\n",
      "2.8\n",
      "2.8\n",
      "2.8\n",
      "19600\n",
      "\n",
      "Unary Operator := \n",
      "139\n",
      "141\n",
      "-140\n"
     ]
    }
   ],
   "source": [
    "# Arithmatic between two objects\n",
    "class Arithmatic:\n",
    "    '''This is class of Sample'''  # Arithmatic.__doc__\n",
    "\n",
    "    def __init__(self, a):\n",
    "        self.real = a\n",
    "\n",
    "    def __add__(self, e):\n",
    "        return self.real + e.real\n",
    "\n",
    "    def __sub__(self, e):\n",
    "        return self.real - e.real\n",
    "\n",
    "    def __mul__(self, e):\n",
    "        return self.real * e.real\n",
    "\n",
    "    def __truediv__(self, e):\n",
    "        return self.real / e.real\n",
    "\n",
    "    def __floordiv__(self, e):\n",
    "        return self.real / e.real\n",
    "\n",
    "    def __mod__(self, e):\n",
    "        return self.real / e.real\n",
    "\n",
    "    def __xor__(self, integer):\n",
    "        return self.real**integer.real\n",
    "\n",
    "    # unary operator\n",
    "\n",
    "    def __neg__(self):\n",
    "        return self.real-1\n",
    "\n",
    "    def __pos__(self):\n",
    "        return self.real+1\n",
    "\n",
    "    def __invert__(self):\n",
    "        return self.real*-1\n",
    "\n",
    "\n",
    "E1 = Arithmatic(140)\n",
    "E2 = Arithmatic(50)\n",
    "E3 = Arithmatic(2)\n",
    "\n",
    "print(\"\\nBinary Operator := \")\n",
    "print(E1 + E2)\n",
    "print(E1 - E2)\n",
    "print(E1 * E2)\n",
    "print(E1 / E2)\n",
    "print(E1 // E2)\n",
    "print(E1 % E2)\n",
    "print(E1 ^ 2)\n",
    "\n",
    "print(\"\\nUnary Operator := \")\n",
    "print(-E1)\n",
    "print(+E1)\n",
    "print(~E1)"
   ]
  },
  {
   "cell_type": "code",
   "execution_count": 36,
   "metadata": {
    "ExecuteTime": {
     "end_time": "2019-07-03T10:23:59.476279Z",
     "start_time": "2019-07-03T10:23:59.467254Z"
    }
   },
   "outputs": [
    {
     "name": "stdout",
     "output_type": "stream",
     "text": [
      "\n",
      "Binary Operator\n",
      "145\n",
      "135\n",
      "700\n",
      "28.0\n",
      "28.0\n",
      "28.0\n",
      "19600\n",
      "\n",
      "Unary Operator\n",
      "139\n",
      "141\n",
      "-140\n"
     ]
    }
   ],
   "source": [
    "# Arithmatic objects and real numbers\n",
    "\n",
    "\n",
    "class Arithmatic:\n",
    "    '''This is class of Sample'''  # Arithmatic.__doc__ # e.__doc__\n",
    "\n",
    "    def __init__(self, a):\n",
    "        self.real = a\n",
    "\n",
    "    def __add__(self, e):\n",
    "        return self.real + e\n",
    "\n",
    "    def __sub__(self, e):\n",
    "        return self.real - e\n",
    "\n",
    "    def __mul__(self, e):\n",
    "        return self.real * e\n",
    "\n",
    "    def __truediv__(self, e):\n",
    "        return self.real / e\n",
    "\n",
    "    def __floordiv__(self, e):\n",
    "        return self.real / e\n",
    "\n",
    "    def __mod__(self, e):\n",
    "        return self.real / e\n",
    "\n",
    "    def __xor__(self, e):\n",
    "        return self.real**e\n",
    "\n",
    "    # unary operator\n",
    "\n",
    "    def __neg__(self):\n",
    "        return self.real-1\n",
    "\n",
    "    def __pos__(self):\n",
    "        return self.real+1\n",
    "\n",
    "    def __invert__(self):\n",
    "        return self.real*-1\n",
    "\n",
    "\n",
    "E1 = Arithmatic(140)\n",
    "\n",
    "print(\"\\nBinary Operator := \")\n",
    "print(E1 + 5)\n",
    "print(E1 - 5)\n",
    "print(E1 * 5)\n",
    "print(E1 / 5)\n",
    "print(E1 // 5)\n",
    "print(E1 % 5)\n",
    "print(E1 ^ 2)\n",
    "\n",
    "print(\"\\nUnary Operator := \")\n",
    "print(-E1)\n",
    "print(+E1)\n",
    "print(~E1)"
   ]
  },
  {
   "cell_type": "markdown",
   "metadata": {},
   "source": [
    "# Overloading extended assignment operator (+=) in Python"
   ]
  },
  {
   "cell_type": "code",
   "execution_count": 72,
   "metadata": {
    "ExecuteTime": {
     "end_time": "2019-07-03T11:47:42.055075Z",
     "start_time": "2019-07-03T11:47:42.044007Z"
    }
   },
   "outputs": [
    {
     "name": "stdout",
     "output_type": "stream",
     "text": [
      "Number: (140)\n",
      "Number: (40)\n",
      "Number: (4500)\n",
      "Number: (1.8)\n",
      "Number: (1)\n",
      "Number: (40)\n",
      "Number: (51537752073201133103646112976562127270210752200100000000000000000000000000000000000000000000000000)\n"
     ]
    }
   ],
   "source": [
    "class Arithmatic:\n",
    "    def __init__(self, real):\n",
    "        self.real = real\n",
    "\n",
    "    def __str__(self):\n",
    "        return f\"Number: ({self.real})\"\n",
    "\n",
    "    def __iadd__(self, e):\n",
    "        self.real += e.real\n",
    "        return Arithmatic(self.real)\n",
    "\n",
    "    def __isub__(self, e):\n",
    "        self.real -= e.real\n",
    "        return Arithmatic(self.real)\n",
    "\n",
    "    def __imul__(self, e):\n",
    "        self.real *= e.real\n",
    "        return Arithmatic(self.real)\n",
    "\n",
    "    def __itruediv__(self, e):\n",
    "        self.real /= e.real\n",
    "        return Arithmatic(self.real)\n",
    "\n",
    "    def __ifloordiv__(self, e):\n",
    "        self.real //= e.real\n",
    "        return Arithmatic(self.real)\n",
    "\n",
    "    def __imod__(self, e):\n",
    "        self.real %= e.real\n",
    "        return Arithmatic(self.real)\n",
    "\n",
    "    def __ixor__(self, e):\n",
    "        self.real **= e.real\n",
    "        return Arithmatic(self.real)\n",
    "\n",
    "E1, E2 = Arithmatic(90), Arithmatic(50)\n",
    "E1 += E2\n",
    "print(E1)\n",
    "\n",
    "E1, E2 = Arithmatic(90), Arithmatic(50)\n",
    "E1 -= E2\n",
    "print(E1)\n",
    "\n",
    "E1, E2 = Arithmatic(90), Arithmatic(50)\n",
    "E1 *= E2\n",
    "print(E1)\n",
    "\n",
    "E1, E2 = Arithmatic(90), Arithmatic(50)\n",
    "E1 /= E2\n",
    "print(E1)\n",
    "\n",
    "E1, E2 = Arithmatic(90), Arithmatic(50)\n",
    "E1 //= E2\n",
    "print(E1)\n",
    "\n",
    "E1, E2 = Arithmatic(90), Arithmatic(50)\n",
    "E1 %= E2\n",
    "print(E1)\n",
    "\n",
    "E1, E2 = Arithmatic(90), Arithmatic(50)\n",
    "E1 ^= E2\n",
    "print(E1)"
   ]
  },
  {
   "cell_type": "code",
   "execution_count": null,
   "metadata": {},
   "outputs": [],
   "source": []
  }
 ],
 "metadata": {
  "kernelspec": {
   "display_name": "Python 3",
   "language": "python",
   "name": "python3"
  },
  "language_info": {
   "codemirror_mode": {
    "name": "ipython",
    "version": 3
   },
   "file_extension": ".py",
   "mimetype": "text/x-python",
   "name": "python",
   "nbconvert_exporter": "python",
   "pygments_lexer": "ipython3",
   "version": "3.7.3"
  },
  "toc": {
   "base_numbering": 1,
   "nav_menu": {},
   "number_sections": true,
   "sideBar": true,
   "skip_h1_title": false,
   "title_cell": "Table of Contents",
   "title_sidebar": "Contents",
   "toc_cell": false,
   "toc_position": {},
   "toc_section_display": true,
   "toc_window_display": true
  },
  "varInspector": {
   "cols": {
    "lenName": 16,
    "lenType": 16,
    "lenVar": 40
   },
   "kernels_config": {
    "python": {
     "delete_cmd_postfix": "",
     "delete_cmd_prefix": "del ",
     "library": "var_list.py",
     "varRefreshCmd": "print(var_dic_list())"
    },
    "r": {
     "delete_cmd_postfix": ") ",
     "delete_cmd_prefix": "rm(",
     "library": "var_list.r",
     "varRefreshCmd": "cat(var_dic_list()) "
    }
   },
   "types_to_exclude": [
    "module",
    "function",
    "builtin_function_or_method",
    "instance",
    "_Feature"
   ],
   "window_display": false
  }
 },
 "nbformat": 4,
 "nbformat_minor": 2
}
